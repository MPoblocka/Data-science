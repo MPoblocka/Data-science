{
  "cells": [
    {
      "cell_type": "markdown",
      "metadata": {
        "id": "view-in-github",
        "colab_type": "text"
      },
      "source": [
        "<a href=\"https://colab.research.google.com/github/MPoblocka/Data-science/blob/main/LEGO_data_analysis.ipynb\" target=\"_parent\"><img src=\"https://colab.research.google.com/assets/colab-badge.svg\" alt=\"Open In Colab\"/></a>"
      ]
    },
    {
      "cell_type": "markdown",
      "metadata": {
        "id": "s9JLDE8NIquP"
      },
      "source": [
        "# Introduction\n",
        "\n",
        "This google colaboratory sheet presents LEGO data analysis. \n",
        "\n",
        "\n",
        "**Data Source**\n",
        "\n",
        "The .csv data files were obtained from https://rebrickable.com/download/. \n",
        "The data includes information about:\n",
        "- colors used for the design of LEGO elements, \n",
        "- number of elements used within each LEGO set, \n",
        "- number of sets produced from 1949 till 2022, \n",
        "- types and number of LEGO themes over the years,\n",
        "- figures types.\n",
        "\n"
      ]
    },
    {
      "cell_type": "markdown",
      "metadata": {
        "id": "xoyVmsmhunzJ"
      },
      "source": [
        "<img src=\"https://cdn.pixabay.com/photo/2018/05/10/17/48/lego-3388163_960_720.png\">"
      ]
    },
    {
      "cell_type": "markdown",
      "metadata": {
        "id": "V0u2lGJuIquQ"
      },
      "source": [
        "## **Importing pandas and matplotlib**"
      ]
    },
    {
      "cell_type": "code",
      "execution_count": 98,
      "metadata": {
        "id": "z5Wk7rs-IquQ"
      },
      "outputs": [],
      "source": [
        "import pandas as pd\n",
        "import matplotlib.pyplot as plt"
      ]
    },
    {
      "cell_type": "markdown",
      "metadata": {
        "id": "R5NQpJ_KIquT"
      },
      "source": [
        "## **Data Exploration**"
      ]
    },
    {
      "cell_type": "markdown",
      "metadata": {
        "id": "ffaG-UFYIquT"
      },
      "source": [
        "##**Question**: How many different colours does the LEGO company produce? "
      ]
    },
    {
      "cell_type": "code",
      "execution_count": 99,
      "metadata": {
        "id": "yd4G9pK7IquU"
      },
      "outputs": [],
      "source": [
        "df= pd.read_csv(\"Data/colors.csv\")"
      ]
    },
    {
      "cell_type": "markdown",
      "source": [
        "**.nunique** function is used to check how many unique elements is within each column. The rgb columns, which represents the unique id for each colour will be used to answer the question. \n",
        "**LEGO produces 189 colours**"
      ],
      "metadata": {
        "id": "jsyyEYCLZe68"
      }
    },
    {
      "cell_type": "code",
      "execution_count": 100,
      "metadata": {
        "colab": {
          "base_uri": "https://localhost:8080/"
        },
        "id": "QmbAXax7IquW",
        "outputId": "a30406b1-c69f-4361-dd07-f50b3840c768"
      },
      "outputs": [
        {
          "output_type": "execute_result",
          "data": {
            "text/plain": [
              "id          217\n",
              "name        217\n",
              "rgb         189\n",
              "is_trans      2\n",
              "dtype: int64"
            ]
          },
          "metadata": {},
          "execution_count": 100
        }
      ],
      "source": [
        "df.nunique(axis=0)"
      ]
    },
    {
      "cell_type": "markdown",
      "source": [
        "Going further with the analysis we can identify the number of transparent colours. For this reason, the groupby() was used to grouped data based on 'is_trans' values. \n",
        "**The answer is:** There are 38 transparent colours."
      ],
      "metadata": {
        "id": "n17sPnxvaJTX"
      }
    },
    {
      "cell_type": "code",
      "execution_count": 101,
      "metadata": {
        "colab": {
          "base_uri": "https://localhost:8080/",
          "height": 143
        },
        "id": "SMc2sKiIIquY",
        "outputId": "006789bf-611f-4c76-fac9-f2bc5913facd"
      },
      "outputs": [
        {
          "output_type": "execute_result",
          "data": {
            "text/plain": [
              "           id  name  rgb\n",
              "is_trans                \n",
              "f         179   179  179\n",
              "t          38    38   38"
            ],
            "text/html": [
              "\n",
              "  <div id=\"df-c495f57b-5f05-46e0-88d3-8aac001f0208\">\n",
              "    <div class=\"colab-df-container\">\n",
              "      <div>\n",
              "<style scoped>\n",
              "    .dataframe tbody tr th:only-of-type {\n",
              "        vertical-align: middle;\n",
              "    }\n",
              "\n",
              "    .dataframe tbody tr th {\n",
              "        vertical-align: top;\n",
              "    }\n",
              "\n",
              "    .dataframe thead th {\n",
              "        text-align: right;\n",
              "    }\n",
              "</style>\n",
              "<table border=\"1\" class=\"dataframe\">\n",
              "  <thead>\n",
              "    <tr style=\"text-align: right;\">\n",
              "      <th></th>\n",
              "      <th>id</th>\n",
              "      <th>name</th>\n",
              "      <th>rgb</th>\n",
              "    </tr>\n",
              "    <tr>\n",
              "      <th>is_trans</th>\n",
              "      <th></th>\n",
              "      <th></th>\n",
              "      <th></th>\n",
              "    </tr>\n",
              "  </thead>\n",
              "  <tbody>\n",
              "    <tr>\n",
              "      <th>f</th>\n",
              "      <td>179</td>\n",
              "      <td>179</td>\n",
              "      <td>179</td>\n",
              "    </tr>\n",
              "    <tr>\n",
              "      <th>t</th>\n",
              "      <td>38</td>\n",
              "      <td>38</td>\n",
              "      <td>38</td>\n",
              "    </tr>\n",
              "  </tbody>\n",
              "</table>\n",
              "</div>\n",
              "      <button class=\"colab-df-convert\" onclick=\"convertToInteractive('df-c495f57b-5f05-46e0-88d3-8aac001f0208')\"\n",
              "              title=\"Convert this dataframe to an interactive table.\"\n",
              "              style=\"display:none;\">\n",
              "        \n",
              "  <svg xmlns=\"http://www.w3.org/2000/svg\" height=\"24px\"viewBox=\"0 0 24 24\"\n",
              "       width=\"24px\">\n",
              "    <path d=\"M0 0h24v24H0V0z\" fill=\"none\"/>\n",
              "    <path d=\"M18.56 5.44l.94 2.06.94-2.06 2.06-.94-2.06-.94-.94-2.06-.94 2.06-2.06.94zm-11 1L8.5 8.5l.94-2.06 2.06-.94-2.06-.94L8.5 2.5l-.94 2.06-2.06.94zm10 10l.94 2.06.94-2.06 2.06-.94-2.06-.94-.94-2.06-.94 2.06-2.06.94z\"/><path d=\"M17.41 7.96l-1.37-1.37c-.4-.4-.92-.59-1.43-.59-.52 0-1.04.2-1.43.59L10.3 9.45l-7.72 7.72c-.78.78-.78 2.05 0 2.83L4 21.41c.39.39.9.59 1.41.59.51 0 1.02-.2 1.41-.59l7.78-7.78 2.81-2.81c.8-.78.8-2.07 0-2.86zM5.41 20L4 18.59l7.72-7.72 1.47 1.35L5.41 20z\"/>\n",
              "  </svg>\n",
              "      </button>\n",
              "      \n",
              "  <style>\n",
              "    .colab-df-container {\n",
              "      display:flex;\n",
              "      flex-wrap:wrap;\n",
              "      gap: 12px;\n",
              "    }\n",
              "\n",
              "    .colab-df-convert {\n",
              "      background-color: #E8F0FE;\n",
              "      border: none;\n",
              "      border-radius: 50%;\n",
              "      cursor: pointer;\n",
              "      display: none;\n",
              "      fill: #1967D2;\n",
              "      height: 32px;\n",
              "      padding: 0 0 0 0;\n",
              "      width: 32px;\n",
              "    }\n",
              "\n",
              "    .colab-df-convert:hover {\n",
              "      background-color: #E2EBFA;\n",
              "      box-shadow: 0px 1px 2px rgba(60, 64, 67, 0.3), 0px 1px 3px 1px rgba(60, 64, 67, 0.15);\n",
              "      fill: #174EA6;\n",
              "    }\n",
              "\n",
              "    [theme=dark] .colab-df-convert {\n",
              "      background-color: #3B4455;\n",
              "      fill: #D2E3FC;\n",
              "    }\n",
              "\n",
              "    [theme=dark] .colab-df-convert:hover {\n",
              "      background-color: #434B5C;\n",
              "      box-shadow: 0px 1px 3px 1px rgba(0, 0, 0, 0.15);\n",
              "      filter: drop-shadow(0px 1px 2px rgba(0, 0, 0, 0.3));\n",
              "      fill: #FFFFFF;\n",
              "    }\n",
              "  </style>\n",
              "\n",
              "      <script>\n",
              "        const buttonEl =\n",
              "          document.querySelector('#df-c495f57b-5f05-46e0-88d3-8aac001f0208 button.colab-df-convert');\n",
              "        buttonEl.style.display =\n",
              "          google.colab.kernel.accessAllowed ? 'block' : 'none';\n",
              "\n",
              "        async function convertToInteractive(key) {\n",
              "          const element = document.querySelector('#df-c495f57b-5f05-46e0-88d3-8aac001f0208');\n",
              "          const dataTable =\n",
              "            await google.colab.kernel.invokeFunction('convertToInteractive',\n",
              "                                                     [key], {});\n",
              "          if (!dataTable) return;\n",
              "\n",
              "          const docLinkHtml = 'Like what you see? Visit the ' +\n",
              "            '<a target=\"_blank\" href=https://colab.research.google.com/notebooks/data_table.ipynb>data table notebook</a>'\n",
              "            + ' to learn more about interactive tables.';\n",
              "          element.innerHTML = '';\n",
              "          dataTable['output_type'] = 'display_data';\n",
              "          await google.colab.output.renderOutput(dataTable, element);\n",
              "          const docLink = document.createElement('div');\n",
              "          docLink.innerHTML = docLinkHtml;\n",
              "          element.appendChild(docLink);\n",
              "        }\n",
              "      </script>\n",
              "    </div>\n",
              "  </div>\n",
              "  "
            ]
          },
          "metadata": {},
          "execution_count": 101
        }
      ],
      "source": [
        "df.groupby('is_trans').count()"
      ]
    },
    {
      "cell_type": "markdown",
      "source": [
        "##**Question**: In which year were the first LEGO sets released and what were these sets called?"
      ],
      "metadata": {
        "id": "2EAtoYWTKRG8"
      }
    },
    {
      "cell_type": "markdown",
      "metadata": {
        "id": "jJTAROe5unkx"
      },
      "source": [
        "The <code>sets.csv</code> data contains a list of sets over the years and the number of parts that each of these sets contained."
      ]
    },
    {
      "cell_type": "code",
      "execution_count": 102,
      "metadata": {
        "id": "vGMOv-NRIquh"
      },
      "outputs": [],
      "source": [
        "sets = pd.read_csv(\"Data/sets.csv\")"
      ]
    },
    {
      "cell_type": "code",
      "execution_count": 103,
      "metadata": {
        "colab": {
          "base_uri": "https://localhost:8080/",
          "height": 424
        },
        "id": "T3lLFvyZIqui",
        "outputId": "a064a504-635f-41ea-a55c-ffb23b465b2b"
      },
      "outputs": [
        {
          "output_type": "execute_result",
          "data": {
            "text/plain": [
              "               set_num                               name  year  theme_id  \\\n",
              "11843          700.1-1         Extra-Large Gift Set (ABB)  1949       365   \n",
              "11861          700.3-1              Medium Gift Set (ABB)  1949       365   \n",
              "11856          700.2-1               Large Gift Set (ABB)  1949       365   \n",
              "11867          700.B-1  Small Doors and Windows Set (ABB)  1949       371   \n",
              "11866          700.A-1              Small Brick Set (ABB)  1949       371   \n",
              "...                ...                                ...   ...       ...   \n",
              "18321  9788325338886-1     City. Kolorowanka z naklejkami  2022       497   \n",
              "864            11025-1                     Blue Baseplate  2022       621   \n",
              "18323  9788325339142-1      Jurassic World: Time to Play!  2022       497   \n",
              "383            10306-1                         Atari 2600  2022       721   \n",
              "6285           41946-1              Extra DOTS - Series 6  2022       688   \n",
              "\n",
              "       num_parts  \n",
              "11843        142  \n",
              "11861        142  \n",
              "11856        178  \n",
              "11867         12  \n",
              "11866         24  \n",
              "...          ...  \n",
              "18321          0  \n",
              "864            1  \n",
              "18323          3  \n",
              "383            0  \n",
              "6285         108  \n",
              "\n",
              "[19626 rows x 5 columns]"
            ],
            "text/html": [
              "\n",
              "  <div id=\"df-f9e29821-b2d2-4ce7-810c-7e7fae2894fe\">\n",
              "    <div class=\"colab-df-container\">\n",
              "      <div>\n",
              "<style scoped>\n",
              "    .dataframe tbody tr th:only-of-type {\n",
              "        vertical-align: middle;\n",
              "    }\n",
              "\n",
              "    .dataframe tbody tr th {\n",
              "        vertical-align: top;\n",
              "    }\n",
              "\n",
              "    .dataframe thead th {\n",
              "        text-align: right;\n",
              "    }\n",
              "</style>\n",
              "<table border=\"1\" class=\"dataframe\">\n",
              "  <thead>\n",
              "    <tr style=\"text-align: right;\">\n",
              "      <th></th>\n",
              "      <th>set_num</th>\n",
              "      <th>name</th>\n",
              "      <th>year</th>\n",
              "      <th>theme_id</th>\n",
              "      <th>num_parts</th>\n",
              "    </tr>\n",
              "  </thead>\n",
              "  <tbody>\n",
              "    <tr>\n",
              "      <th>11843</th>\n",
              "      <td>700.1-1</td>\n",
              "      <td>Extra-Large Gift Set (ABB)</td>\n",
              "      <td>1949</td>\n",
              "      <td>365</td>\n",
              "      <td>142</td>\n",
              "    </tr>\n",
              "    <tr>\n",
              "      <th>11861</th>\n",
              "      <td>700.3-1</td>\n",
              "      <td>Medium Gift Set (ABB)</td>\n",
              "      <td>1949</td>\n",
              "      <td>365</td>\n",
              "      <td>142</td>\n",
              "    </tr>\n",
              "    <tr>\n",
              "      <th>11856</th>\n",
              "      <td>700.2-1</td>\n",
              "      <td>Large Gift Set (ABB)</td>\n",
              "      <td>1949</td>\n",
              "      <td>365</td>\n",
              "      <td>178</td>\n",
              "    </tr>\n",
              "    <tr>\n",
              "      <th>11867</th>\n",
              "      <td>700.B-1</td>\n",
              "      <td>Small Doors and Windows Set (ABB)</td>\n",
              "      <td>1949</td>\n",
              "      <td>371</td>\n",
              "      <td>12</td>\n",
              "    </tr>\n",
              "    <tr>\n",
              "      <th>11866</th>\n",
              "      <td>700.A-1</td>\n",
              "      <td>Small Brick Set (ABB)</td>\n",
              "      <td>1949</td>\n",
              "      <td>371</td>\n",
              "      <td>24</td>\n",
              "    </tr>\n",
              "    <tr>\n",
              "      <th>...</th>\n",
              "      <td>...</td>\n",
              "      <td>...</td>\n",
              "      <td>...</td>\n",
              "      <td>...</td>\n",
              "      <td>...</td>\n",
              "    </tr>\n",
              "    <tr>\n",
              "      <th>18321</th>\n",
              "      <td>9788325338886-1</td>\n",
              "      <td>City. Kolorowanka z naklejkami</td>\n",
              "      <td>2022</td>\n",
              "      <td>497</td>\n",
              "      <td>0</td>\n",
              "    </tr>\n",
              "    <tr>\n",
              "      <th>864</th>\n",
              "      <td>11025-1</td>\n",
              "      <td>Blue Baseplate</td>\n",
              "      <td>2022</td>\n",
              "      <td>621</td>\n",
              "      <td>1</td>\n",
              "    </tr>\n",
              "    <tr>\n",
              "      <th>18323</th>\n",
              "      <td>9788325339142-1</td>\n",
              "      <td>Jurassic World: Time to Play!</td>\n",
              "      <td>2022</td>\n",
              "      <td>497</td>\n",
              "      <td>3</td>\n",
              "    </tr>\n",
              "    <tr>\n",
              "      <th>383</th>\n",
              "      <td>10306-1</td>\n",
              "      <td>Atari 2600</td>\n",
              "      <td>2022</td>\n",
              "      <td>721</td>\n",
              "      <td>0</td>\n",
              "    </tr>\n",
              "    <tr>\n",
              "      <th>6285</th>\n",
              "      <td>41946-1</td>\n",
              "      <td>Extra DOTS - Series 6</td>\n",
              "      <td>2022</td>\n",
              "      <td>688</td>\n",
              "      <td>108</td>\n",
              "    </tr>\n",
              "  </tbody>\n",
              "</table>\n",
              "<p>19626 rows × 5 columns</p>\n",
              "</div>\n",
              "      <button class=\"colab-df-convert\" onclick=\"convertToInteractive('df-f9e29821-b2d2-4ce7-810c-7e7fae2894fe')\"\n",
              "              title=\"Convert this dataframe to an interactive table.\"\n",
              "              style=\"display:none;\">\n",
              "        \n",
              "  <svg xmlns=\"http://www.w3.org/2000/svg\" height=\"24px\"viewBox=\"0 0 24 24\"\n",
              "       width=\"24px\">\n",
              "    <path d=\"M0 0h24v24H0V0z\" fill=\"none\"/>\n",
              "    <path d=\"M18.56 5.44l.94 2.06.94-2.06 2.06-.94-2.06-.94-.94-2.06-.94 2.06-2.06.94zm-11 1L8.5 8.5l.94-2.06 2.06-.94-2.06-.94L8.5 2.5l-.94 2.06-2.06.94zm10 10l.94 2.06.94-2.06 2.06-.94-2.06-.94-.94-2.06-.94 2.06-2.06.94z\"/><path d=\"M17.41 7.96l-1.37-1.37c-.4-.4-.92-.59-1.43-.59-.52 0-1.04.2-1.43.59L10.3 9.45l-7.72 7.72c-.78.78-.78 2.05 0 2.83L4 21.41c.39.39.9.59 1.41.59.51 0 1.02-.2 1.41-.59l7.78-7.78 2.81-2.81c.8-.78.8-2.07 0-2.86zM5.41 20L4 18.59l7.72-7.72 1.47 1.35L5.41 20z\"/>\n",
              "  </svg>\n",
              "      </button>\n",
              "      \n",
              "  <style>\n",
              "    .colab-df-container {\n",
              "      display:flex;\n",
              "      flex-wrap:wrap;\n",
              "      gap: 12px;\n",
              "    }\n",
              "\n",
              "    .colab-df-convert {\n",
              "      background-color: #E8F0FE;\n",
              "      border: none;\n",
              "      border-radius: 50%;\n",
              "      cursor: pointer;\n",
              "      display: none;\n",
              "      fill: #1967D2;\n",
              "      height: 32px;\n",
              "      padding: 0 0 0 0;\n",
              "      width: 32px;\n",
              "    }\n",
              "\n",
              "    .colab-df-convert:hover {\n",
              "      background-color: #E2EBFA;\n",
              "      box-shadow: 0px 1px 2px rgba(60, 64, 67, 0.3), 0px 1px 3px 1px rgba(60, 64, 67, 0.15);\n",
              "      fill: #174EA6;\n",
              "    }\n",
              "\n",
              "    [theme=dark] .colab-df-convert {\n",
              "      background-color: #3B4455;\n",
              "      fill: #D2E3FC;\n",
              "    }\n",
              "\n",
              "    [theme=dark] .colab-df-convert:hover {\n",
              "      background-color: #434B5C;\n",
              "      box-shadow: 0px 1px 3px 1px rgba(0, 0, 0, 0.15);\n",
              "      filter: drop-shadow(0px 1px 2px rgba(0, 0, 0, 0.3));\n",
              "      fill: #FFFFFF;\n",
              "    }\n",
              "  </style>\n",
              "\n",
              "      <script>\n",
              "        const buttonEl =\n",
              "          document.querySelector('#df-f9e29821-b2d2-4ce7-810c-7e7fae2894fe button.colab-df-convert');\n",
              "        buttonEl.style.display =\n",
              "          google.colab.kernel.accessAllowed ? 'block' : 'none';\n",
              "\n",
              "        async function convertToInteractive(key) {\n",
              "          const element = document.querySelector('#df-f9e29821-b2d2-4ce7-810c-7e7fae2894fe');\n",
              "          const dataTable =\n",
              "            await google.colab.kernel.invokeFunction('convertToInteractive',\n",
              "                                                     [key], {});\n",
              "          if (!dataTable) return;\n",
              "\n",
              "          const docLinkHtml = 'Like what you see? Visit the ' +\n",
              "            '<a target=\"_blank\" href=https://colab.research.google.com/notebooks/data_table.ipynb>data table notebook</a>'\n",
              "            + ' to learn more about interactive tables.';\n",
              "          element.innerHTML = '';\n",
              "          dataTable['output_type'] = 'display_data';\n",
              "          await google.colab.output.renderOutput(dataTable, element);\n",
              "          const docLink = document.createElement('div');\n",
              "          docLink.innerHTML = docLinkHtml;\n",
              "          element.appendChild(docLink);\n",
              "        }\n",
              "      </script>\n",
              "    </div>\n",
              "  </div>\n",
              "  "
            ]
          },
          "metadata": {},
          "execution_count": 103
        }
      ],
      "source": [
        "sets.isna()\n",
        "sets.sort_values(\"year\",ascending=True)"
      ]
    },
    {
      "cell_type": "code",
      "execution_count": 104,
      "metadata": {
        "colab": {
          "base_uri": "https://localhost:8080/",
          "height": 206
        },
        "id": "h-Tf1w7IBBg9",
        "outputId": "e3c4783a-3f43-4932-c8ef-f17c2a954e22"
      },
      "outputs": [
        {
          "output_type": "execute_result",
          "data": {
            "text/plain": [
              "       set_num                               name  year  theme_id  num_parts\n",
              "11843  700.1-1         Extra-Large Gift Set (ABB)  1949       365        142\n",
              "11856  700.2-1               Large Gift Set (ABB)  1949       365        178\n",
              "11861  700.3-1              Medium Gift Set (ABB)  1949       365        142\n",
              "11866  700.A-1              Small Brick Set (ABB)  1949       371         24\n",
              "11867  700.B-1  Small Doors and Windows Set (ABB)  1949       371         12"
            ],
            "text/html": [
              "\n",
              "  <div id=\"df-8e005e77-2b67-49c9-abb6-b093f4d7bff6\">\n",
              "    <div class=\"colab-df-container\">\n",
              "      <div>\n",
              "<style scoped>\n",
              "    .dataframe tbody tr th:only-of-type {\n",
              "        vertical-align: middle;\n",
              "    }\n",
              "\n",
              "    .dataframe tbody tr th {\n",
              "        vertical-align: top;\n",
              "    }\n",
              "\n",
              "    .dataframe thead th {\n",
              "        text-align: right;\n",
              "    }\n",
              "</style>\n",
              "<table border=\"1\" class=\"dataframe\">\n",
              "  <thead>\n",
              "    <tr style=\"text-align: right;\">\n",
              "      <th></th>\n",
              "      <th>set_num</th>\n",
              "      <th>name</th>\n",
              "      <th>year</th>\n",
              "      <th>theme_id</th>\n",
              "      <th>num_parts</th>\n",
              "    </tr>\n",
              "  </thead>\n",
              "  <tbody>\n",
              "    <tr>\n",
              "      <th>11843</th>\n",
              "      <td>700.1-1</td>\n",
              "      <td>Extra-Large Gift Set (ABB)</td>\n",
              "      <td>1949</td>\n",
              "      <td>365</td>\n",
              "      <td>142</td>\n",
              "    </tr>\n",
              "    <tr>\n",
              "      <th>11856</th>\n",
              "      <td>700.2-1</td>\n",
              "      <td>Large Gift Set (ABB)</td>\n",
              "      <td>1949</td>\n",
              "      <td>365</td>\n",
              "      <td>178</td>\n",
              "    </tr>\n",
              "    <tr>\n",
              "      <th>11861</th>\n",
              "      <td>700.3-1</td>\n",
              "      <td>Medium Gift Set (ABB)</td>\n",
              "      <td>1949</td>\n",
              "      <td>365</td>\n",
              "      <td>142</td>\n",
              "    </tr>\n",
              "    <tr>\n",
              "      <th>11866</th>\n",
              "      <td>700.A-1</td>\n",
              "      <td>Small Brick Set (ABB)</td>\n",
              "      <td>1949</td>\n",
              "      <td>371</td>\n",
              "      <td>24</td>\n",
              "    </tr>\n",
              "    <tr>\n",
              "      <th>11867</th>\n",
              "      <td>700.B-1</td>\n",
              "      <td>Small Doors and Windows Set (ABB)</td>\n",
              "      <td>1949</td>\n",
              "      <td>371</td>\n",
              "      <td>12</td>\n",
              "    </tr>\n",
              "  </tbody>\n",
              "</table>\n",
              "</div>\n",
              "      <button class=\"colab-df-convert\" onclick=\"convertToInteractive('df-8e005e77-2b67-49c9-abb6-b093f4d7bff6')\"\n",
              "              title=\"Convert this dataframe to an interactive table.\"\n",
              "              style=\"display:none;\">\n",
              "        \n",
              "  <svg xmlns=\"http://www.w3.org/2000/svg\" height=\"24px\"viewBox=\"0 0 24 24\"\n",
              "       width=\"24px\">\n",
              "    <path d=\"M0 0h24v24H0V0z\" fill=\"none\"/>\n",
              "    <path d=\"M18.56 5.44l.94 2.06.94-2.06 2.06-.94-2.06-.94-.94-2.06-.94 2.06-2.06.94zm-11 1L8.5 8.5l.94-2.06 2.06-.94-2.06-.94L8.5 2.5l-.94 2.06-2.06.94zm10 10l.94 2.06.94-2.06 2.06-.94-2.06-.94-.94-2.06-.94 2.06-2.06.94z\"/><path d=\"M17.41 7.96l-1.37-1.37c-.4-.4-.92-.59-1.43-.59-.52 0-1.04.2-1.43.59L10.3 9.45l-7.72 7.72c-.78.78-.78 2.05 0 2.83L4 21.41c.39.39.9.59 1.41.59.51 0 1.02-.2 1.41-.59l7.78-7.78 2.81-2.81c.8-.78.8-2.07 0-2.86zM5.41 20L4 18.59l7.72-7.72 1.47 1.35L5.41 20z\"/>\n",
              "  </svg>\n",
              "      </button>\n",
              "      \n",
              "  <style>\n",
              "    .colab-df-container {\n",
              "      display:flex;\n",
              "      flex-wrap:wrap;\n",
              "      gap: 12px;\n",
              "    }\n",
              "\n",
              "    .colab-df-convert {\n",
              "      background-color: #E8F0FE;\n",
              "      border: none;\n",
              "      border-radius: 50%;\n",
              "      cursor: pointer;\n",
              "      display: none;\n",
              "      fill: #1967D2;\n",
              "      height: 32px;\n",
              "      padding: 0 0 0 0;\n",
              "      width: 32px;\n",
              "    }\n",
              "\n",
              "    .colab-df-convert:hover {\n",
              "      background-color: #E2EBFA;\n",
              "      box-shadow: 0px 1px 2px rgba(60, 64, 67, 0.3), 0px 1px 3px 1px rgba(60, 64, 67, 0.15);\n",
              "      fill: #174EA6;\n",
              "    }\n",
              "\n",
              "    [theme=dark] .colab-df-convert {\n",
              "      background-color: #3B4455;\n",
              "      fill: #D2E3FC;\n",
              "    }\n",
              "\n",
              "    [theme=dark] .colab-df-convert:hover {\n",
              "      background-color: #434B5C;\n",
              "      box-shadow: 0px 1px 3px 1px rgba(0, 0, 0, 0.15);\n",
              "      filter: drop-shadow(0px 1px 2px rgba(0, 0, 0, 0.3));\n",
              "      fill: #FFFFFF;\n",
              "    }\n",
              "  </style>\n",
              "\n",
              "      <script>\n",
              "        const buttonEl =\n",
              "          document.querySelector('#df-8e005e77-2b67-49c9-abb6-b093f4d7bff6 button.colab-df-convert');\n",
              "        buttonEl.style.display =\n",
              "          google.colab.kernel.accessAllowed ? 'block' : 'none';\n",
              "\n",
              "        async function convertToInteractive(key) {\n",
              "          const element = document.querySelector('#df-8e005e77-2b67-49c9-abb6-b093f4d7bff6');\n",
              "          const dataTable =\n",
              "            await google.colab.kernel.invokeFunction('convertToInteractive',\n",
              "                                                     [key], {});\n",
              "          if (!dataTable) return;\n",
              "\n",
              "          const docLinkHtml = 'Like what you see? Visit the ' +\n",
              "            '<a target=\"_blank\" href=https://colab.research.google.com/notebooks/data_table.ipynb>data table notebook</a>'\n",
              "            + ' to learn more about interactive tables.';\n",
              "          element.innerHTML = '';\n",
              "          dataTable['output_type'] = 'display_data';\n",
              "          await google.colab.output.renderOutput(dataTable, element);\n",
              "          const docLink = document.createElement('div');\n",
              "          docLink.innerHTML = docLinkHtml;\n",
              "          element.appendChild(docLink);\n",
              "        }\n",
              "      </script>\n",
              "    </div>\n",
              "  </div>\n",
              "  "
            ]
          },
          "metadata": {},
          "execution_count": 104
        }
      ],
      "source": [
        "sets[sets['year']==1949]\n",
        "\n"
      ]
    },
    {
      "cell_type": "markdown",
      "source": [
        "**Answer:**The first LEGO was released in 1949."
      ],
      "metadata": {
        "id": "fRsiDIG3LkPh"
      }
    },
    {
      "cell_type": "markdown",
      "metadata": {
        "id": "RJMMYQYqIquo"
      },
      "source": [
        "##**Question**: What are the top 5 LEGO sets with the most number of parts. "
      ]
    },
    {
      "cell_type": "code",
      "execution_count": 105,
      "metadata": {
        "colab": {
          "base_uri": "https://localhost:8080/",
          "height": 206
        },
        "id": "toJvjRuQIqup",
        "outputId": "8ec2ccdc-293b-42a8-f98d-38c2fe6817df"
      },
      "outputs": [
        {
          "output_type": "execute_result",
          "data": {
            "text/plain": [
              "        set_num                           name  year  theme_id  num_parts\n",
              "4025    31203-1                      World Map  2021       709      11695\n",
              "18541  BIGBOX-1  The Ultimate Battle for Chima  2015       571       9987\n",
              "369     10294-1                        Titanic  2021       721       9092\n",
              "350     10276-1                      Colosseum  2020       721       9036\n",
              "13691   75192-1              Millennium Falcon  2017       171       7541"
            ],
            "text/html": [
              "\n",
              "  <div id=\"df-38d9d9c1-6e60-479d-ad03-9a00876bffee\">\n",
              "    <div class=\"colab-df-container\">\n",
              "      <div>\n",
              "<style scoped>\n",
              "    .dataframe tbody tr th:only-of-type {\n",
              "        vertical-align: middle;\n",
              "    }\n",
              "\n",
              "    .dataframe tbody tr th {\n",
              "        vertical-align: top;\n",
              "    }\n",
              "\n",
              "    .dataframe thead th {\n",
              "        text-align: right;\n",
              "    }\n",
              "</style>\n",
              "<table border=\"1\" class=\"dataframe\">\n",
              "  <thead>\n",
              "    <tr style=\"text-align: right;\">\n",
              "      <th></th>\n",
              "      <th>set_num</th>\n",
              "      <th>name</th>\n",
              "      <th>year</th>\n",
              "      <th>theme_id</th>\n",
              "      <th>num_parts</th>\n",
              "    </tr>\n",
              "  </thead>\n",
              "  <tbody>\n",
              "    <tr>\n",
              "      <th>4025</th>\n",
              "      <td>31203-1</td>\n",
              "      <td>World Map</td>\n",
              "      <td>2021</td>\n",
              "      <td>709</td>\n",
              "      <td>11695</td>\n",
              "    </tr>\n",
              "    <tr>\n",
              "      <th>18541</th>\n",
              "      <td>BIGBOX-1</td>\n",
              "      <td>The Ultimate Battle for Chima</td>\n",
              "      <td>2015</td>\n",
              "      <td>571</td>\n",
              "      <td>9987</td>\n",
              "    </tr>\n",
              "    <tr>\n",
              "      <th>369</th>\n",
              "      <td>10294-1</td>\n",
              "      <td>Titanic</td>\n",
              "      <td>2021</td>\n",
              "      <td>721</td>\n",
              "      <td>9092</td>\n",
              "    </tr>\n",
              "    <tr>\n",
              "      <th>350</th>\n",
              "      <td>10276-1</td>\n",
              "      <td>Colosseum</td>\n",
              "      <td>2020</td>\n",
              "      <td>721</td>\n",
              "      <td>9036</td>\n",
              "    </tr>\n",
              "    <tr>\n",
              "      <th>13691</th>\n",
              "      <td>75192-1</td>\n",
              "      <td>Millennium Falcon</td>\n",
              "      <td>2017</td>\n",
              "      <td>171</td>\n",
              "      <td>7541</td>\n",
              "    </tr>\n",
              "  </tbody>\n",
              "</table>\n",
              "</div>\n",
              "      <button class=\"colab-df-convert\" onclick=\"convertToInteractive('df-38d9d9c1-6e60-479d-ad03-9a00876bffee')\"\n",
              "              title=\"Convert this dataframe to an interactive table.\"\n",
              "              style=\"display:none;\">\n",
              "        \n",
              "  <svg xmlns=\"http://www.w3.org/2000/svg\" height=\"24px\"viewBox=\"0 0 24 24\"\n",
              "       width=\"24px\">\n",
              "    <path d=\"M0 0h24v24H0V0z\" fill=\"none\"/>\n",
              "    <path d=\"M18.56 5.44l.94 2.06.94-2.06 2.06-.94-2.06-.94-.94-2.06-.94 2.06-2.06.94zm-11 1L8.5 8.5l.94-2.06 2.06-.94-2.06-.94L8.5 2.5l-.94 2.06-2.06.94zm10 10l.94 2.06.94-2.06 2.06-.94-2.06-.94-.94-2.06-.94 2.06-2.06.94z\"/><path d=\"M17.41 7.96l-1.37-1.37c-.4-.4-.92-.59-1.43-.59-.52 0-1.04.2-1.43.59L10.3 9.45l-7.72 7.72c-.78.78-.78 2.05 0 2.83L4 21.41c.39.39.9.59 1.41.59.51 0 1.02-.2 1.41-.59l7.78-7.78 2.81-2.81c.8-.78.8-2.07 0-2.86zM5.41 20L4 18.59l7.72-7.72 1.47 1.35L5.41 20z\"/>\n",
              "  </svg>\n",
              "      </button>\n",
              "      \n",
              "  <style>\n",
              "    .colab-df-container {\n",
              "      display:flex;\n",
              "      flex-wrap:wrap;\n",
              "      gap: 12px;\n",
              "    }\n",
              "\n",
              "    .colab-df-convert {\n",
              "      background-color: #E8F0FE;\n",
              "      border: none;\n",
              "      border-radius: 50%;\n",
              "      cursor: pointer;\n",
              "      display: none;\n",
              "      fill: #1967D2;\n",
              "      height: 32px;\n",
              "      padding: 0 0 0 0;\n",
              "      width: 32px;\n",
              "    }\n",
              "\n",
              "    .colab-df-convert:hover {\n",
              "      background-color: #E2EBFA;\n",
              "      box-shadow: 0px 1px 2px rgba(60, 64, 67, 0.3), 0px 1px 3px 1px rgba(60, 64, 67, 0.15);\n",
              "      fill: #174EA6;\n",
              "    }\n",
              "\n",
              "    [theme=dark] .colab-df-convert {\n",
              "      background-color: #3B4455;\n",
              "      fill: #D2E3FC;\n",
              "    }\n",
              "\n",
              "    [theme=dark] .colab-df-convert:hover {\n",
              "      background-color: #434B5C;\n",
              "      box-shadow: 0px 1px 3px 1px rgba(0, 0, 0, 0.15);\n",
              "      filter: drop-shadow(0px 1px 2px rgba(0, 0, 0, 0.3));\n",
              "      fill: #FFFFFF;\n",
              "    }\n",
              "  </style>\n",
              "\n",
              "      <script>\n",
              "        const buttonEl =\n",
              "          document.querySelector('#df-38d9d9c1-6e60-479d-ad03-9a00876bffee button.colab-df-convert');\n",
              "        buttonEl.style.display =\n",
              "          google.colab.kernel.accessAllowed ? 'block' : 'none';\n",
              "\n",
              "        async function convertToInteractive(key) {\n",
              "          const element = document.querySelector('#df-38d9d9c1-6e60-479d-ad03-9a00876bffee');\n",
              "          const dataTable =\n",
              "            await google.colab.kernel.invokeFunction('convertToInteractive',\n",
              "                                                     [key], {});\n",
              "          if (!dataTable) return;\n",
              "\n",
              "          const docLinkHtml = 'Like what you see? Visit the ' +\n",
              "            '<a target=\"_blank\" href=https://colab.research.google.com/notebooks/data_table.ipynb>data table notebook</a>'\n",
              "            + ' to learn more about interactive tables.';\n",
              "          element.innerHTML = '';\n",
              "          dataTable['output_type'] = 'display_data';\n",
              "          await google.colab.output.renderOutput(dataTable, element);\n",
              "          const docLink = document.createElement('div');\n",
              "          docLink.innerHTML = docLinkHtml;\n",
              "          element.appendChild(docLink);\n",
              "        }\n",
              "      </script>\n",
              "    </div>\n",
              "  </div>\n",
              "  "
            ]
          },
          "metadata": {},
          "execution_count": 105
        }
      ],
      "source": [
        "sets.sort_values('num_parts',ascending=False).head()"
      ]
    },
    {
      "cell_type": "markdown",
      "source": [
        "**Answer:** The World Map released in 2021 has the highest number of elements.\n",
        "<img src=\"https://www.lego.com/cdn/cs/set/assets/blt6e4605758d75ce41/31203.jpg?fit=bounds&format=jpg&quality=80&width=1500&height=1500&dpr=1\" >"
      ],
      "metadata": {
        "id": "kwcX1JlXMBhn"
      }
    },
    {
      "cell_type": "markdown",
      "source": [
        "##**Question**: In which year LEGO produced the highest number of sets?"
      ],
      "metadata": {
        "id": "HnNOYfa9M82T"
      }
    },
    {
      "cell_type": "markdown",
      "metadata": {
        "id": "uSyhOzAHIqur"
      },
      "source": [
        "**Challenge**: Use <code>.groupby()</code> and <code>.count()</code> to show the number of LEGO sets released year-on-year. How do the number of sets released in 1955 compare to the number of sets released in 2019? "
      ]
    },
    {
      "cell_type": "markdown",
      "metadata": {
        "id": "xJrmIOULIquv"
      },
      "source": [
        "**Challenge**: Show the number of LEGO releases on a line chart using Matplotlib. <br>\n",
        "<br>\n",
        "Note that the .csv file is from late 2020, so to plot the full calendar years, you will have to exclude some data from your chart. Can you use the slicing techniques covered in Day 21 to avoid plotting the last two years? The same syntax will work on Pandas DataFrames. "
      ]
    },
    {
      "cell_type": "code",
      "execution_count": 106,
      "metadata": {
        "id": "Nckj4lSGIquw"
      },
      "outputs": [],
      "source": [
        "import pandas as pd\n",
        "import matplotlib.pyplot as plt"
      ]
    },
    {
      "cell_type": "code",
      "execution_count": 107,
      "metadata": {
        "colab": {
          "base_uri": "https://localhost:8080/"
        },
        "id": "_ZqAN-5MIquz",
        "outputId": "80a3f23b-6597-4800-fff0-70be88401325"
      },
      "outputs": [
        {
          "output_type": "execute_result",
          "data": {
            "text/plain": [
              "year\n",
              "2018     881\n",
              "2019     946\n",
              "2020     942\n",
              "2021    1097\n",
              "2022     658\n",
              "Name: set_num, dtype: int64"
            ]
          },
          "metadata": {},
          "execution_count": 107
        }
      ],
      "source": [
        "sets_by_year = sets.groupby('year').count()\n",
        "sets_by_year['set_num'].tail()"
      ]
    },
    {
      "cell_type": "markdown",
      "source": [
        "The data does not include the whole year 2022, therefore this year will excluded from the graph"
      ],
      "metadata": {
        "id": "C5Qlxr9aNnw6"
      }
    },
    {
      "cell_type": "code",
      "execution_count": 108,
      "metadata": {
        "colab": {
          "base_uri": "https://localhost:8080/",
          "height": 459
        },
        "id": "bS2Hygtd7odn",
        "outputId": "003220e6-ffac-4480-8ffb-9f3d9e672d82"
      },
      "outputs": [
        {
          "output_type": "execute_result",
          "data": {
            "text/plain": [
              "<BarContainer object of 71 artists>"
            ]
          },
          "metadata": {},
          "execution_count": 108
        },
        {
          "output_type": "display_data",
          "data": {
            "text/plain": [
              "<Figure size 1152x576 with 1 Axes>"
            ],
            "image/png": "[encoded data removed]"
          },
          "metadata": {
            "needs_background": "light"
          }
        }
      ],
      "source": [
        "plt.figure(figsize=(16,8))\n",
        "plt.xticks(fontsize=14,rotation=45)\n",
        "plt.yticks(fontsize=14)\n",
        "plt.xlabel('Year',fontsize=16)\n",
        "plt.ylabel('Number of sets',fontsize=16)\n",
        "plt.bar(sets_by_year.index[:-1] ,sets_by_year.set_num[:-1], color='#FF8FB1')\n",
        "         "
      ]
    },
    {
      "cell_type": "markdown",
      "source": [
        "**Answer:**\n",
        "<img src=\"data:image/png;base64,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\">"
      ],
      "metadata": {
        "id": "h1CBKOlPPGBu"
      }
    },
    {
      "cell_type": "markdown",
      "metadata": {
        "id": "xrDeNYYXIqu1"
      },
      "source": [
        "##**Question**: What is the number of different themes shipped by year? "
      ]
    },
    {
      "cell_type": "code",
      "execution_count": 109,
      "metadata": {
        "colab": {
          "base_uri": "https://localhost:8080/",
          "height": 424
        },
        "id": "BqF1o997Iqu3",
        "outputId": "e1656eb3-3643-4a48-b6bd-d654f3a5a9db"
      },
      "outputs": [
        {
          "output_type": "execute_result",
          "data": {
            "text/plain": [
              "       set_num                                         name  year  theme_id  \\\n",
              "0        001-1                                        Gears  1965         1   \n",
              "6475   42138-1                    Ford Mustang Shelby GT500  2022         1   \n",
              "6476   42139-1                          All-Terrain Vehicle  2022         1   \n",
              "6477   42140-1        App-Controlled Transformation Vehicle  2022         1   \n",
              "6479   42141-1  McLaren Formula 1 Team 2022 (First Edition)  2022         1   \n",
              "...        ...                                          ...   ...       ...   \n",
              "13892  75571-1     Neytiri & Thanator vs. AMP Suit Quaritch  2022       724   \n",
              "13893  75572-1        Jake & Neytiri’s First Banshee Flight  2022       724   \n",
              "13894  75573-1     Floating Mountains: Site 26 & RDA Samson  2022       724   \n",
              "13895  75574-1                  Toruk Makto & Tree of Souls  2022       724   \n",
              "12920  71034-0                       Series 23 - Random Bag  2022       725   \n",
              "\n",
              "       num_parts  \n",
              "0             43  \n",
              "6475         544  \n",
              "6476         764  \n",
              "6477         772  \n",
              "6479        1432  \n",
              "...          ...  \n",
              "13892          0  \n",
              "13893          0  \n",
              "13894          0  \n",
              "13895          0  \n",
              "12920          0  \n",
              "\n",
              "[19626 rows x 5 columns]"
            ],
            "text/html": [
              "\n",
              "  <div id=\"df-1994fcf2-0619-4fbb-9cc8-8b9a04cbbd70\">\n",
              "    <div class=\"colab-df-container\">\n",
              "      <div>\n",
              "<style scoped>\n",
              "    .dataframe tbody tr th:only-of-type {\n",
              "        vertical-align: middle;\n",
              "    }\n",
              "\n",
              "    .dataframe tbody tr th {\n",
              "        vertical-align: top;\n",
              "    }\n",
              "\n",
              "    .dataframe thead th {\n",
              "        text-align: right;\n",
              "    }\n",
              "</style>\n",
              "<table border=\"1\" class=\"dataframe\">\n",
              "  <thead>\n",
              "    <tr style=\"text-align: right;\">\n",
              "      <th></th>\n",
              "      <th>set_num</th>\n",
              "      <th>name</th>\n",
              "      <th>year</th>\n",
              "      <th>theme_id</th>\n",
              "      <th>num_parts</th>\n",
              "    </tr>\n",
              "  </thead>\n",
              "  <tbody>\n",
              "    <tr>\n",
              "      <th>0</th>\n",
              "      <td>001-1</td>\n",
              "      <td>Gears</td>\n",
              "      <td>1965</td>\n",
              "      <td>1</td>\n",
              "      <td>43</td>\n",
              "    </tr>\n",
              "    <tr>\n",
              "      <th>6475</th>\n",
              "      <td>42138-1</td>\n",
              "      <td>Ford Mustang Shelby GT500</td>\n",
              "      <td>2022</td>\n",
              "      <td>1</td>\n",
              "      <td>544</td>\n",
              "    </tr>\n",
              "    <tr>\n",
              "      <th>6476</th>\n",
              "      <td>42139-1</td>\n",
              "      <td>All-Terrain Vehicle</td>\n",
              "      <td>2022</td>\n",
              "      <td>1</td>\n",
              "      <td>764</td>\n",
              "    </tr>\n",
              "    <tr>\n",
              "      <th>6477</th>\n",
              "      <td>42140-1</td>\n",
              "      <td>App-Controlled Transformation Vehicle</td>\n",
              "      <td>2022</td>\n",
              "      <td>1</td>\n",
              "      <td>772</td>\n",
              "    </tr>\n",
              "    <tr>\n",
              "      <th>6479</th>\n",
              "      <td>42141-1</td>\n",
              "      <td>McLaren Formula 1 Team 2022 (First Edition)</td>\n",
              "      <td>2022</td>\n",
              "      <td>1</td>\n",
              "      <td>1432</td>\n",
              "    </tr>\n",
              "    <tr>\n",
              "      <th>...</th>\n",
              "      <td>...</td>\n",
              "      <td>...</td>\n",
              "      <td>...</td>\n",
              "      <td>...</td>\n",
              "      <td>...</td>\n",
              "    </tr>\n",
              "    <tr>\n",
              "      <th>13892</th>\n",
              "      <td>75571-1</td>\n",
              "      <td>Neytiri &amp; Thanator vs. AMP Suit Quaritch</td>\n",
              "      <td>2022</td>\n",
              "      <td>724</td>\n",
              "      <td>0</td>\n",
              "    </tr>\n",
              "    <tr>\n",
              "      <th>13893</th>\n",
              "      <td>75572-1</td>\n",
              "      <td>Jake &amp; Neytiri’s First Banshee Flight</td>\n",
              "      <td>2022</td>\n",
              "      <td>724</td>\n",
              "      <td>0</td>\n",
              "    </tr>\n",
              "    <tr>\n",
              "      <th>13894</th>\n",
              "      <td>75573-1</td>\n",
              "      <td>Floating Mountains: Site 26 &amp; RDA Samson</td>\n",
              "      <td>2022</td>\n",
              "      <td>724</td>\n",
              "      <td>0</td>\n",
              "    </tr>\n",
              "    <tr>\n",
              "      <th>13895</th>\n",
              "      <td>75574-1</td>\n",
              "      <td>Toruk Makto &amp; Tree of Souls</td>\n",
              "      <td>2022</td>\n",
              "      <td>724</td>\n",
              "      <td>0</td>\n",
              "    </tr>\n",
              "    <tr>\n",
              "      <th>12920</th>\n",
              "      <td>71034-0</td>\n",
              "      <td>Series 23 - Random Bag</td>\n",
              "      <td>2022</td>\n",
              "      <td>725</td>\n",
              "      <td>0</td>\n",
              "    </tr>\n",
              "  </tbody>\n",
              "</table>\n",
              "<p>19626 rows × 5 columns</p>\n",
              "</div>\n",
              "      <button class=\"colab-df-convert\" onclick=\"convertToInteractive('df-1994fcf2-0619-4fbb-9cc8-8b9a04cbbd70')\"\n",
              "              title=\"Convert this dataframe to an interactive table.\"\n",
              "              style=\"display:none;\">\n",
              "        \n",
              "  <svg xmlns=\"http://www.w3.org/2000/svg\" height=\"24px\"viewBox=\"0 0 24 24\"\n",
              "       width=\"24px\">\n",
              "    <path d=\"M0 0h24v24H0V0z\" fill=\"none\"/>\n",
              "    <path d=\"M18.56 5.44l.94 2.06.94-2.06 2.06-.94-2.06-.94-.94-2.06-.94 2.06-2.06.94zm-11 1L8.5 8.5l.94-2.06 2.06-.94-2.06-.94L8.5 2.5l-.94 2.06-2.06.94zm10 10l.94 2.06.94-2.06 2.06-.94-2.06-.94-.94-2.06-.94 2.06-2.06.94z\"/><path d=\"M17.41 7.96l-1.37-1.37c-.4-.4-.92-.59-1.43-.59-.52 0-1.04.2-1.43.59L10.3 9.45l-7.72 7.72c-.78.78-.78 2.05 0 2.83L4 21.41c.39.39.9.59 1.41.59.51 0 1.02-.2 1.41-.59l7.78-7.78 2.81-2.81c.8-.78.8-2.07 0-2.86zM5.41 20L4 18.59l7.72-7.72 1.47 1.35L5.41 20z\"/>\n",
              "  </svg>\n",
              "      </button>\n",
              "      \n",
              "  <style>\n",
              "    .colab-df-container {\n",
              "      display:flex;\n",
              "      flex-wrap:wrap;\n",
              "      gap: 12px;\n",
              "    }\n",
              "\n",
              "    .colab-df-convert {\n",
              "      background-color: #E8F0FE;\n",
              "      border: none;\n",
              "      border-radius: 50%;\n",
              "      cursor: pointer;\n",
              "      display: none;\n",
              "      fill: #1967D2;\n",
              "      height: 32px;\n",
              "      padding: 0 0 0 0;\n",
              "      width: 32px;\n",
              "    }\n",
              "\n",
              "    .colab-df-convert:hover {\n",
              "      background-color: #E2EBFA;\n",
              "      box-shadow: 0px 1px 2px rgba(60, 64, 67, 0.3), 0px 1px 3px 1px rgba(60, 64, 67, 0.15);\n",
              "      fill: #174EA6;\n",
              "    }\n",
              "\n",
              "    [theme=dark] .colab-df-convert {\n",
              "      background-color: #3B4455;\n",
              "      fill: #D2E3FC;\n",
              "    }\n",
              "\n",
              "    [theme=dark] .colab-df-convert:hover {\n",
              "      background-color: #434B5C;\n",
              "      box-shadow: 0px 1px 3px 1px rgba(0, 0, 0, 0.15);\n",
              "      filter: drop-shadow(0px 1px 2px rgba(0, 0, 0, 0.3));\n",
              "      fill: #FFFFFF;\n",
              "    }\n",
              "  </style>\n",
              "\n",
              "      <script>\n",
              "        const buttonEl =\n",
              "          document.querySelector('#df-1994fcf2-0619-4fbb-9cc8-8b9a04cbbd70 button.colab-df-convert');\n",
              "        buttonEl.style.display =\n",
              "          google.colab.kernel.accessAllowed ? 'block' : 'none';\n",
              "\n",
              "        async function convertToInteractive(key) {\n",
              "          const element = document.querySelector('#df-1994fcf2-0619-4fbb-9cc8-8b9a04cbbd70');\n",
              "          const dataTable =\n",
              "            await google.colab.kernel.invokeFunction('convertToInteractive',\n",
              "                                                     [key], {});\n",
              "          if (!dataTable) return;\n",
              "\n",
              "          const docLinkHtml = 'Like what you see? Visit the ' +\n",
              "            '<a target=\"_blank\" href=https://colab.research.google.com/notebooks/data_table.ipynb>data table notebook</a>'\n",
              "            + ' to learn more about interactive tables.';\n",
              "          element.innerHTML = '';\n",
              "          dataTable['output_type'] = 'display_data';\n",
              "          await google.colab.output.renderOutput(dataTable, element);\n",
              "          const docLink = document.createElement('div');\n",
              "          docLink.innerHTML = docLinkHtml;\n",
              "          element.appendChild(docLink);\n",
              "        }\n",
              "      </script>\n",
              "    </div>\n",
              "  </div>\n",
              "  "
            ]
          },
          "metadata": {},
          "execution_count": 109
        }
      ],
      "source": [
        "sets.sort_values(\"theme_id\",ascending=True)"
      ]
    },
    {
      "cell_type": "code",
      "execution_count": 110,
      "metadata": {
        "colab": {
          "base_uri": "https://localhost:8080/",
          "height": 455
        },
        "id": "r2pamQEkIqu5",
        "outputId": "0039a520-4e19-4f64-ec57-a6d0df535f89"
      },
      "outputs": [
        {
          "output_type": "execute_result",
          "data": {
            "text/plain": [
              "      theme_id\n",
              "year          \n",
              "1949         2\n",
              "1950         1\n",
              "1953         2\n",
              "1954         2\n",
              "1955         4\n",
              "...        ...\n",
              "2018        89\n",
              "2019        77\n",
              "2020        85\n",
              "2021        77\n",
              "2022        58\n",
              "\n",
              "[72 rows x 1 columns]"
            ],
            "text/html": [
              "\n",
              "  <div id=\"df-77dd10b2-15b9-452b-ac6b-1dc930fefbcc\">\n",
              "    <div class=\"colab-df-container\">\n",
              "      <div>\n",
              "<style scoped>\n",
              "    .dataframe tbody tr th:only-of-type {\n",
              "        vertical-align: middle;\n",
              "    }\n",
              "\n",
              "    .dataframe tbody tr th {\n",
              "        vertical-align: top;\n",
              "    }\n",
              "\n",
              "    .dataframe thead th {\n",
              "        text-align: right;\n",
              "    }\n",
              "</style>\n",
              "<table border=\"1\" class=\"dataframe\">\n",
              "  <thead>\n",
              "    <tr style=\"text-align: right;\">\n",
              "      <th></th>\n",
              "      <th>theme_id</th>\n",
              "    </tr>\n",
              "    <tr>\n",
              "      <th>year</th>\n",
              "      <th></th>\n",
              "    </tr>\n",
              "  </thead>\n",
              "  <tbody>\n",
              "    <tr>\n",
              "      <th>1949</th>\n",
              "      <td>2</td>\n",
              "    </tr>\n",
              "    <tr>\n",
              "      <th>1950</th>\n",
              "      <td>1</td>\n",
              "    </tr>\n",
              "    <tr>\n",
              "      <th>1953</th>\n",
              "      <td>2</td>\n",
              "    </tr>\n",
              "    <tr>\n",
              "      <th>1954</th>\n",
              "      <td>2</td>\n",
              "    </tr>\n",
              "    <tr>\n",
              "      <th>1955</th>\n",
              "      <td>4</td>\n",
              "    </tr>\n",
              "    <tr>\n",
              "      <th>...</th>\n",
              "      <td>...</td>\n",
              "    </tr>\n",
              "    <tr>\n",
              "      <th>2018</th>\n",
              "      <td>89</td>\n",
              "    </tr>\n",
              "    <tr>\n",
              "      <th>2019</th>\n",
              "      <td>77</td>\n",
              "    </tr>\n",
              "    <tr>\n",
              "      <th>2020</th>\n",
              "      <td>85</td>\n",
              "    </tr>\n",
              "    <tr>\n",
              "      <th>2021</th>\n",
              "      <td>77</td>\n",
              "    </tr>\n",
              "    <tr>\n",
              "      <th>2022</th>\n",
              "      <td>58</td>\n",
              "    </tr>\n",
              "  </tbody>\n",
              "</table>\n",
              "<p>72 rows × 1 columns</p>\n",
              "</div>\n",
              "      <button class=\"colab-df-convert\" onclick=\"convertToInteractive('df-77dd10b2-15b9-452b-ac6b-1dc930fefbcc')\"\n",
              "              title=\"Convert this dataframe to an interactive table.\"\n",
              "              style=\"display:none;\">\n",
              "        \n",
              "  <svg xmlns=\"http://www.w3.org/2000/svg\" height=\"24px\"viewBox=\"0 0 24 24\"\n",
              "       width=\"24px\">\n",
              "    <path d=\"M0 0h24v24H0V0z\" fill=\"none\"/>\n",
              "    <path d=\"M18.56 5.44l.94 2.06.94-2.06 2.06-.94-2.06-.94-.94-2.06-.94 2.06-2.06.94zm-11 1L8.5 8.5l.94-2.06 2.06-.94-2.06-.94L8.5 2.5l-.94 2.06-2.06.94zm10 10l.94 2.06.94-2.06 2.06-.94-2.06-.94-.94-2.06-.94 2.06-2.06.94z\"/><path d=\"M17.41 7.96l-1.37-1.37c-.4-.4-.92-.59-1.43-.59-.52 0-1.04.2-1.43.59L10.3 9.45l-7.72 7.72c-.78.78-.78 2.05 0 2.83L4 21.41c.39.39.9.59 1.41.59.51 0 1.02-.2 1.41-.59l7.78-7.78 2.81-2.81c.8-.78.8-2.07 0-2.86zM5.41 20L4 18.59l7.72-7.72 1.47 1.35L5.41 20z\"/>\n",
              "  </svg>\n",
              "      </button>\n",
              "      \n",
              "  <style>\n",
              "    .colab-df-container {\n",
              "      display:flex;\n",
              "      flex-wrap:wrap;\n",
              "      gap: 12px;\n",
              "    }\n",
              "\n",
              "    .colab-df-convert {\n",
              "      background-color: #E8F0FE;\n",
              "      border: none;\n",
              "      border-radius: 50%;\n",
              "      cursor: pointer;\n",
              "      display: none;\n",
              "      fill: #1967D2;\n",
              "      height: 32px;\n",
              "      padding: 0 0 0 0;\n",
              "      width: 32px;\n",
              "    }\n",
              "\n",
              "    .colab-df-convert:hover {\n",
              "      background-color: #E2EBFA;\n",
              "      box-shadow: 0px 1px 2px rgba(60, 64, 67, 0.3), 0px 1px 3px 1px rgba(60, 64, 67, 0.15);\n",
              "      fill: #174EA6;\n",
              "    }\n",
              "\n",
              "    [theme=dark] .colab-df-convert {\n",
              "      background-color: #3B4455;\n",
              "      fill: #D2E3FC;\n",
              "    }\n",
              "\n",
              "    [theme=dark] .colab-df-convert:hover {\n",
              "      background-color: #434B5C;\n",
              "      box-shadow: 0px 1px 3px 1px rgba(0, 0, 0, 0.15);\n",
              "      filter: drop-shadow(0px 1px 2px rgba(0, 0, 0, 0.3));\n",
              "      fill: #FFFFFF;\n",
              "    }\n",
              "  </style>\n",
              "\n",
              "      <script>\n",
              "        const buttonEl =\n",
              "          document.querySelector('#df-77dd10b2-15b9-452b-ac6b-1dc930fefbcc button.colab-df-convert');\n",
              "        buttonEl.style.display =\n",
              "          google.colab.kernel.accessAllowed ? 'block' : 'none';\n",
              "\n",
              "        async function convertToInteractive(key) {\n",
              "          const element = document.querySelector('#df-77dd10b2-15b9-452b-ac6b-1dc930fefbcc');\n",
              "          const dataTable =\n",
              "            await google.colab.kernel.invokeFunction('convertToInteractive',\n",
              "                                                     [key], {});\n",
              "          if (!dataTable) return;\n",
              "\n",
              "          const docLinkHtml = 'Like what you see? Visit the ' +\n",
              "            '<a target=\"_blank\" href=https://colab.research.google.com/notebooks/data_table.ipynb>data table notebook</a>'\n",
              "            + ' to learn more about interactive tables.';\n",
              "          element.innerHTML = '';\n",
              "          dataTable['output_type'] = 'display_data';\n",
              "          await google.colab.output.renderOutput(dataTable, element);\n",
              "          const docLink = document.createElement('div');\n",
              "          docLink.innerHTML = docLinkHtml;\n",
              "          element.appendChild(docLink);\n",
              "        }\n",
              "      </script>\n",
              "    </div>\n",
              "  </div>\n",
              "  "
            ]
          },
          "metadata": {},
          "execution_count": 110
        }
      ],
      "source": [
        "themes_by_year = sets.groupby('year').agg({'theme_id':pd.Series.nunique})\n",
        "themes_by_year"
      ]
    },
    {
      "cell_type": "code",
      "execution_count": 111,
      "metadata": {
        "colab": {
          "base_uri": "https://localhost:8080/",
          "height": 237
        },
        "id": "in4ONjW4loB4",
        "outputId": "494aac10-0b70-48e4-b5f8-4201e174af9d"
      },
      "outputs": [
        {
          "output_type": "execute_result",
          "data": {
            "text/plain": [
              "      nr_themes\n",
              "year           \n",
              "1949          2\n",
              "1950          1\n",
              "1953          2\n",
              "1954          2\n",
              "1955          4"
            ],
            "text/html": [
              "\n",
              "  <div id=\"df-0bf70e61-02a2-40b0-b913-d9216023a677\">\n",
              "    <div class=\"colab-df-container\">\n",
              "      <div>\n",
              "<style scoped>\n",
              "    .dataframe tbody tr th:only-of-type {\n",
              "        vertical-align: middle;\n",
              "    }\n",
              "\n",
              "    .dataframe tbody tr th {\n",
              "        vertical-align: top;\n",
              "    }\n",
              "\n",
              "    .dataframe thead th {\n",
              "        text-align: right;\n",
              "    }\n",
              "</style>\n",
              "<table border=\"1\" class=\"dataframe\">\n",
              "  <thead>\n",
              "    <tr style=\"text-align: right;\">\n",
              "      <th></th>\n",
              "      <th>nr_themes</th>\n",
              "    </tr>\n",
              "    <tr>\n",
              "      <th>year</th>\n",
              "      <th></th>\n",
              "    </tr>\n",
              "  </thead>\n",
              "  <tbody>\n",
              "    <tr>\n",
              "      <th>1949</th>\n",
              "      <td>2</td>\n",
              "    </tr>\n",
              "    <tr>\n",
              "      <th>1950</th>\n",
              "      <td>1</td>\n",
              "    </tr>\n",
              "    <tr>\n",
              "      <th>1953</th>\n",
              "      <td>2</td>\n",
              "    </tr>\n",
              "    <tr>\n",
              "      <th>1954</th>\n",
              "      <td>2</td>\n",
              "    </tr>\n",
              "    <tr>\n",
              "      <th>1955</th>\n",
              "      <td>4</td>\n",
              "    </tr>\n",
              "  </tbody>\n",
              "</table>\n",
              "</div>\n",
              "      <button class=\"colab-df-convert\" onclick=\"convertToInteractive('df-0bf70e61-02a2-40b0-b913-d9216023a677')\"\n",
              "              title=\"Convert this dataframe to an interactive table.\"\n",
              "              style=\"display:none;\">\n",
              "        \n",
              "  <svg xmlns=\"http://www.w3.org/2000/svg\" height=\"24px\"viewBox=\"0 0 24 24\"\n",
              "       width=\"24px\">\n",
              "    <path d=\"M0 0h24v24H0V0z\" fill=\"none\"/>\n",
              "    <path d=\"M18.56 5.44l.94 2.06.94-2.06 2.06-.94-2.06-.94-.94-2.06-.94 2.06-2.06.94zm-11 1L8.5 8.5l.94-2.06 2.06-.94-2.06-.94L8.5 2.5l-.94 2.06-2.06.94zm10 10l.94 2.06.94-2.06 2.06-.94-2.06-.94-.94-2.06-.94 2.06-2.06.94z\"/><path d=\"M17.41 7.96l-1.37-1.37c-.4-.4-.92-.59-1.43-.59-.52 0-1.04.2-1.43.59L10.3 9.45l-7.72 7.72c-.78.78-.78 2.05 0 2.83L4 21.41c.39.39.9.59 1.41.59.51 0 1.02-.2 1.41-.59l7.78-7.78 2.81-2.81c.8-.78.8-2.07 0-2.86zM5.41 20L4 18.59l7.72-7.72 1.47 1.35L5.41 20z\"/>\n",
              "  </svg>\n",
              "      </button>\n",
              "      \n",
              "  <style>\n",
              "    .colab-df-container {\n",
              "      display:flex;\n",
              "      flex-wrap:wrap;\n",
              "      gap: 12px;\n",
              "    }\n",
              "\n",
              "    .colab-df-convert {\n",
              "      background-color: #E8F0FE;\n",
              "      border: none;\n",
              "      border-radius: 50%;\n",
              "      cursor: pointer;\n",
              "      display: none;\n",
              "      fill: #1967D2;\n",
              "      height: 32px;\n",
              "      padding: 0 0 0 0;\n",
              "      width: 32px;\n",
              "    }\n",
              "\n",
              "    .colab-df-convert:hover {\n",
              "      background-color: #E2EBFA;\n",
              "      box-shadow: 0px 1px 2px rgba(60, 64, 67, 0.3), 0px 1px 3px 1px rgba(60, 64, 67, 0.15);\n",
              "      fill: #174EA6;\n",
              "    }\n",
              "\n",
              "    [theme=dark] .colab-df-convert {\n",
              "      background-color: #3B4455;\n",
              "      fill: #D2E3FC;\n",
              "    }\n",
              "\n",
              "    [theme=dark] .colab-df-convert:hover {\n",
              "      background-color: #434B5C;\n",
              "      box-shadow: 0px 1px 3px 1px rgba(0, 0, 0, 0.15);\n",
              "      filter: drop-shadow(0px 1px 2px rgba(0, 0, 0, 0.3));\n",
              "      fill: #FFFFFF;\n",
              "    }\n",
              "  </style>\n",
              "\n",
              "      <script>\n",
              "        const buttonEl =\n",
              "          document.querySelector('#df-0bf70e61-02a2-40b0-b913-d9216023a677 button.colab-df-convert');\n",
              "        buttonEl.style.display =\n",
              "          google.colab.kernel.accessAllowed ? 'block' : 'none';\n",
              "\n",
              "        async function convertToInteractive(key) {\n",
              "          const element = document.querySelector('#df-0bf70e61-02a2-40b0-b913-d9216023a677');\n",
              "          const dataTable =\n",
              "            await google.colab.kernel.invokeFunction('convertToInteractive',\n",
              "                                                     [key], {});\n",
              "          if (!dataTable) return;\n",
              "\n",
              "          const docLinkHtml = 'Like what you see? Visit the ' +\n",
              "            '<a target=\"_blank\" href=https://colab.research.google.com/notebooks/data_table.ipynb>data table notebook</a>'\n",
              "            + ' to learn more about interactive tables.';\n",
              "          element.innerHTML = '';\n",
              "          dataTable['output_type'] = 'display_data';\n",
              "          await google.colab.output.renderOutput(dataTable, element);\n",
              "          const docLink = document.createElement('div');\n",
              "          docLink.innerHTML = docLinkHtml;\n",
              "          element.appendChild(docLink);\n",
              "        }\n",
              "      </script>\n",
              "    </div>\n",
              "  </div>\n",
              "  "
            ]
          },
          "metadata": {},
          "execution_count": 111
        }
      ],
      "source": [
        "themes_by_year.rename(columns = {'theme_id': 'nr_themes'},inplace= True)\n",
        "themes_by_year.head()"
      ]
    },
    {
      "cell_type": "code",
      "execution_count": 112,
      "metadata": {
        "colab": {
          "base_uri": "https://localhost:8080/",
          "height": 467
        },
        "id": "27OA8-sEmeGK",
        "outputId": "de333468-e86c-41f6-952d-d4b2f418ffed"
      },
      "outputs": [
        {
          "output_type": "execute_result",
          "data": {
            "text/plain": [
              "[<matplotlib.lines.Line2D at 0x7f2bdd9f02d0>]"
            ]
          },
          "metadata": {},
          "execution_count": 112
        },
        {
          "output_type": "display_data",
          "data": {
            "text/plain": [
              "<Figure size 1152x576 with 1 Axes>"
            ],
            "image/png": "[encoded data removed]"
          },
          "metadata": {
            "needs_background": "light"
          }
        }
      ],
      "source": [
        "plt.figure(figsize=(16,8))\n",
        "plt.xticks(fontsize=14,rotation=45)\n",
        "plt.yticks(fontsize=14)\n",
        "plt.xlabel('Year',fontsize=16)\n",
        "plt.ylabel('Number of themes',fontsize=16)\n",
        "plt.plot(themes_by_year.index[:-1], themes_by_year['nr_themes'][:-1], color=\"#EF5B0C\")"
      ]
    },
    {
      "cell_type": "markdown",
      "source": [
        "**Answer:**\n",
        "<img src=\"data:image/png;base64,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\">"
      ],
      "metadata": {
        "id": "7kWQfjKCQIfB"
      }
    },
    {
      "cell_type": "code",
      "execution_count": 113,
      "metadata": {
        "colab": {
          "base_uri": "https://localhost:8080/",
          "height": 429
        },
        "id": "jig-775YmcpE",
        "outputId": "b78ed48b-5b76-44ab-e6a6-a8b66f58ae65"
      },
      "outputs": [
        {
          "output_type": "execute_result",
          "data": {
            "text/plain": [
              "Text(0, 0.5, 'Number of Themes')"
            ]
          },
          "metadata": {},
          "execution_count": 113
        },
        {
          "output_type": "display_data",
          "data": {
            "text/plain": [
              "<Figure size 1152x576 with 2 Axes>"
            ],
            "image/png": "[encoded data removed]"
          },
          "metadata": {
            "needs_background": "light"
          }
        }
      ],
      "source": [
        "plt.figure(figsize=(16,8))\n",
        "ax1=plt.gca()\n",
        "ax2=ax1.twinx()\n",
        "ax1.plot(sets_by_year.index[:-2],sets_by_year.set_num[:-2],color='#3330E4')\n",
        "ax2.plot(themes_by_year.index[:-2],themes_by_year.nr_themes[:-2],color='#FF0063')\n",
        "\n",
        "ax1.set_xlabel('Year',fontsize=16)\n",
        "ax1.set_ylabel('Numbe of Sets', color='#3330E4',fontsize=16)\n",
        "ax2.set_ylabel('Number of Themes', color='#FF0063',fontsize=16)"
      ]
    },
    {
      "cell_type": "markdown",
      "source": [
        "<img src=\"data:image/png;base64,iVBORw0KGgoAAAANSUhEUgAAA94AAAHlCAYAAAADTyRsAAAABHNCSVQICAgIfAhkiAAAAAlwSFlzAAALEgAACxIB0t1+/AAAADh0RVh0U29mdHdhcmUAbWF0cGxvdGxpYiB2ZXJzaW9uMy4yLjIsIGh0dHA6Ly9tYXRwbG90bGliLm9yZy+WH4yJAAAgAElEQVR4nOzdd3yV5fnH8c+Tvdg7IWwUAZFAgICgDLVWLYJKHVVBjXu22rqKqKgd2vaHbZ1x1bbWgaB1VFkORIKBoMwAEsiAAGGPrHPO8/vjPtEASTgnOSdn5Pt+vfJKcp7nuc8FIi+u3Nd9XZZt24iIiIiIiIiIf0QEOgARERERERGRcKbEW0RERERERMSPlHiLiIiIiIiI+JESbxERERERERE/UuItIiIiIiIi4kdKvEVERERERET8KCrQAfhaRESEHR8fH+gwRERERERExA+OHDli27YdUpvIYZd4x8fHc/jw4UCHISIiIiIiIn5gWVZZoGPwVkj9lEBEREREREQk1CjxFhEREREREfEjJd4iIiIiIiIifqTEW0RERERERMSPlHiLiIiIiIiI+JESbxERERERERE/UuItIiIiIiIi4kdKvEVERERERET8SIm3iIiIiIiIiB8p8RYRERERERHxIyXeIiIiIiIiIn6kxFtERERERETEj5R4i4iIiIiIiPiREm8RERERERERP1LiLSIiIiIiIuJHSrxFRERERERE/EiJt4iIiIiINE8uV6Aj8Dun08bptAMdRrMXFegAREREREREmtzuQ3DqDBjfD567CpLiAh2RzzmdNldctpOCrQ5SU6NI7RZFt+5RdOv240f7DhFYlhXoUMOeEm8REREREWl+XvwCtu+HN5ZBbiG8cxOckhzoqHzq6yUVfL/JwdnnxFNZaVNY4GDJV+VUVf14T0KCZRJy90dqtyjOOjueuDgl475k2XZ4lR0kJibahw8fDnQYIiIiIiISrKoc0Ot+OLkz3H8eXP4CHKmErKlw2fBAR+czd9xaysaNVfz3w85ERZtE2um02bHDScFWBwUFjh8/FzjYvs2J0wmLl3QhLj54TyVblnXEtu3EQMfhDe14i4iIiIhI8zInF4r2wjO/gAmnQO5DcOnzJgH/ahP86ecQE9qpUmGBgyVLKrjhphY/JN0AkZEWyclRJCdHkTHy6GeqqmxKtjuDOukOVfodFRERERGR5mXWfOjdAc4fZL5PaQOL7oFfnQ1/Wwhn/BEKdjds7UoHzFkBN70OxXt9F7OX3nn7MJFRcNFFnm8MR0ebsnPxPf2uioiIiIhI85GzBZZ8D/93GUTU2IeMjoI/XQqj+sA1r8CQmfCvTPjJQM/WXbsNXvoSXl8Kuw6a145Uwj+u8/kv4UTKy1y8/95hxo+Pp32HyCZ/fzmedrxFRERERKT5mDUfWsTBNafXfv3iobB8OiS3gp/OgoffA2cdY8cOlMELn0PGEzDgIXh6IYzpCx/eAb88G/651CTkTex/H5dx8KDNpZeF1DHosKbmaiIiIiIi0jxs3wfd74Wbx8Ksy+u/90gF3PIveG0JnDPA7H63bwG2DV9sgJcXw9vLoawSBiTDdaPhypHQoYV5vvSgaeB2zgB452a//9Kq2bbNLy7bhW3b/PvNjmE5KkzN1URERERERILVc5+DwwW3jz/xvQmx8Mo1cHofuP3fkPYoTB0Fb34Dm3aaXfOrMkzCPawnHJvgtm9hzow/8l9YvgWG9vDNr8HlgjXb4NSutV7+9ttKNmyo4oHftg7LpDtUqdRcRERERETCX3kVPPsZnH8q9Onk2TOWBdefAUvuh+hIePxDSGltzm2X/AmevxqG9zo+6a72q3OgbSL8dq7Pfhk88REMehi+Laz18lv/OUxSksVPz4v33XtKo2nHW0REREREwt9/lpmmZ3ee5f2zQ7rD2pmw9zB0ae35cy3j4d5z4d7ZsHgjjO7r/XvXtHYbPPpf8/WXG+G01KMul5Y6WbigjCmXJhKvkWBBRf81REREREQkvNm2aao2INnM7W6IuGjvku5qt42Hzq3gwTkmjoZyuuDaV00y3z4Jsjcfd8vcdw/jcMCUKUkNfx/xCyXeIiIiIiIS3r7cCCsL4Y4JdZeF+0tCLDx4vmnINm9tw9f56wKTbM+6zOycLz068XZU2cx+5zAjR8XSrbsKm4ONEm8REREREQlvs+abs9ZXZgTm/a8fA93bNXzXe/Mu8+z5g+CKETCip2nwtvvQD7d89lk5u3a5mPLzkGr23Wwo8RYRERERkfC1pRTm5prkNyE2MDHERsOMn0HOFhOLN2wbrn8NIiPg2SvNjn1GL3OtRrn5W28eIjk5ktNHx/kubvEZJd4iIiIiIhK+/r7IJKu3Hj9C7J23D1NU6GiaOK4aCSd3hulzzXltT730JSxcD09OgdS25rX0HhBhQXY+AJs2VbFieSUXT0kkMlIjxIKREm8REREREQlPhysg60u4eMiPSatb6S4nv39iH7feXMrePU7/xxIVCY9MNDO4/7PMs2eK98Ldb8OZJ5kd+2pJcTAw5Ydz3u+8dZjYWLhwUoIfAhdfUOItIiIiIiLh6R9LYN+RWkeIFRSYne7iYid3/2oPFRWN6DjuqSnpZgTYjPeg6gQ77bYNt/wLKh2QNRUijkndRvSCZfkc2u/gww+OcM5PEmjdOtJ/sUujKPEWEREREZHw43LB0wtMWfbI3sddLnSXmN9+Z0u++7aSRx/ei92YcV+eiIiAxybB97vgla/qv/etb+D9lTBzEvTpdPz1jF6w7wifv7iVsjJbTdWCnBJvEREREREJP/PWwvoSuLP2EWJFhQ6iouAXVyZx620t+eR/Zbzw/EH/x3X+IJM0z/wAyqtqv6f0INz+BgzrAXcdv1sP/NBgbfMbGxh4ajT9B8T4J17xCSXeIiIiIiISfmbNh86t4OfDar1cUOAgOSWKqCiLadcm8bOJCbz4/EE+/uiIf+OyLHh8MhTthec+q/2eu/5jSuRfmmbOhtemX2cciXF02bqVKT9P8le04iNKvEVEREREJLzklcDHq+HmsRATVesthYVOUlNNUmtZFg/8tjVD02N49OG9rMyt8G9840+B8f3giY/gUPnR1z78Dv6VDQ+cB6d2rXuNiAg2t+vKaRXFnHV2vH/jlUZT4i0iIiIiIuHlrwtMwn3jGbVetm2bwgIH3br9mJRHR1v88al2dEmO4u5f7aGwwM9jxh6fDLsOmnPo1Q6UwY2vw4BkeOD8eh8v2e5gcWUyvY/sINZZ6d9YpdGUeIuIiIiISPjYdwReXQKXD4dOrWq9ZfduF2VlNl1Tj94Nb9UqgllPtwPb5s47dnPggBfztr2V0Rt+dhr88X/s33KAgwdd8Jt3YPs+eHlanTv11Wa/c5jViV2JcLlg+Vb/xSk+ocRbRERERETCx8uLzfzuWkaIVStydzRPTT0+uU3tFsVTf27HtmIHv7lnN1VVvu107qiyWb+ukrfePMTfO42D/WXMzpjDr4cugec/Z/VZZ7KpbWq9HdYrKmzmvHuEFme5u7W753lL8Kr/xygiIiIiIiKhwumCvy6EMX0hrVudt1XP8K5Zal5T2pBYps9ow4zpe/nd4/uYPqM1Vi2d0T1RusvJqlWV5uPbStauq6Ki3CTV7dq1Y9RJg7hqazYXO9ZQktSWG0tOp2LKTjp3jmT0mDhGj4kjfVgscXE/vv/8eWXs2+fivGmdYF4HyM5vUGzSdJR4i4iIiIhIeHh/JWwphaem1HtbYaGDyCjo3KWOjuHA+RckUFjgIOvFg3TrHsW0a1qc8O0rK2025FXx3XeVrPquktWrKtm+3QlAVBT0OyWaiy5K4NRBMZx6agydu0Ribfg59J9Oq917aLXwHuYM6MZXi8tZ/GU5H35whHfePkxsLAwbHsvo0SYRf+vNQ3TvEcXwEbEwoid8sdG736e6/HelmS/+/NXQ4cS/XvGcEm8REREREQl9Lhc8+l/o1QEuHFzvrUWFTpK7RBIVVf8u9o03t6Cw0MHfnj5A165RR3UPt22bHSVmN/u77ypZ/V0l69dXUeUezd2pcySDBsVw2RUxDBoUw0knRxMbW8v7ndwZnpwCLhvG9aMjMPmiRCZflEhlpc2K5RUs/rKcxYvLWfzlfvjdfgDu+U0rswuf0QveWAZFe6BrW69+y47zxjKTxLdJaNw6chwl3iIiIiIiEvreWQ4rC+H16+qefe1WUOAgtY4y85osy+Khh9uwfZuTGdP3UFXVhl27nKxy72iXlprma7GxcEr/GC67IolTTzW72R061h/DUX51Tq0vx8RYZIyMI2NkHHf/2mbrVgeLvyxn61YHEy90J8cjepnP2fmNS7wrquCD7+Dn6Sf8/RPvKfEWEREREZHQ5nDCQ+9B/2S4fES9t9q2TVGhg8GDPdvVjY21+NNf2jLt6l1Mf3AvAF1TIxk2PJaBp5rd7L59o4mKbtgZcE9ZlkWPHtH06BF99IXBqaYDevZmuHhow99g3lo4WA6XpDcuUKmVEm8REREREQlt/1wKeSXw7i0QWf/gpr17XRw+bNfa0bwubdpG8uo/OrBuXRX9Tommbdsg2hGOjTaN5Brb2Xz2cmgVD+P7+SYuOYrGiYmIiIiISOiqqIKH34f0HjAp7YS3V3c096TUvKY2bSMZdXpccCXd1TJ6Qc5Ws/PfEFUOeG8lTBx8wvnh0jBKvEVEREREJHRlfQlbd8Njk8CDkV9FBXXP8A5ZI3pCWSWsKm7Y84vyYO8RuKQRpepSLyXeIiIiIiISmo5UwGMfmrnd5wzw6JHCQieRkZCcHIQ71w2V4W6wtvT7hj0/ezkkxXr8eyjeU+ItIiIiIiKh6e+LoGQ/PD7Zo91uMKXmXZIj/d4MrUn1aG/mbmfne/+s0wVzcuH8QRAXfeL7pUGUeIuIiIiISOg5UAa//xjOHQhjTvL4saJCR3iVmYP5oUNGr4Y1WPtyA+w62LiO6HJCSrxFRERERCT0/PlT2HPYnO32kG3bFBY66BpuiTeYc955JbD3sHfPzV4B8THw04H+iUsAJd4iIiIiIhJqdh+CP8+Di4bA0B4eP7Zvr4tDh2y6ednRPCRk9Dafl3lRbu5ywbsr4NwBkBTnn7gEUOItIiIiIiKh5g8fw6EKmOn5bjdAYWEYdjSvNqyHKTn35pz30s2wbZ/KzJuAEm8REREREQkd2/bB3xbBlRnQP9mrRwsLzZzr1G5h1NG8Wst46N/Fu87ms5ebud0XDPJfXAIo8RYRERERkVDy+IdQ5YSHJ3r9aGGBg4gISE4Owx1vgBG9zI63bZ/4Xts257vP7g+tEvwfWzOnxFtERERERELDllJ48Qu4bjT06uD144WFDrp0iSQ6nEaJ1ZTRyzSc27TzxPeu2Apbd8PFQ/wflyjxFhERERGREPHI+xBhwfQLGvR4YYGD1HBsrFYto5f5nO3BWLF3lkNkBEwc7N+YBFDiLSIiIiIioWD9dvjH13DrOEhp4/Xjtm1TUBCGM7xr6p8MSbEnnuddXWY+vh+0S2qa2Jo5Jd4iIiIiIhL8HnoPEmLgvvMa9Pj+/WaUWFjO8K4WGQHDep64s/nqYti4Q93Mm5ASbxERERERCW65BfB2Dtx1NnRo0aAlCgtMR/Nu4djRvKYRPWFlIZRV1n3P7OVm9Nik8Cwztyzrl5ZlrbEsa7VlWW9YlhVnWVZPy7KyLcvaZFnWm5ZlxTRlTEq8RUREREQkuE2fC20S4O5zGrxEWM/wrimjFzic5ocVdXlnOZzRFzq1arq4mohlWSnAHUC6bdsDgUjgMuAPwF9s2+4D7AWua8q4lHiLiIiIiEjwWrIJPvwOfnMutG742KvCQvcosZQwT7xHuBus1XXOO68E1mwL9zLzKCDesqwoIAHYDowH3nFffw2Y1JQBKfEWEREREZHgNeM96NQSbp/QqGUKCxx07hxJTEyYjhKr1rkVdG9Xd2fz2cvN54vCc4yYbdvFwFNAASbh3g8sB/bZtu1w31YEpDRlXEq8RUREREQkOFU54LMNMHUUJMY2aqnCQkd4N1araUTPune8Zy835egN6AwfRKIsy8qp8XFD9QXLstoAFwI9gWQgETg3QHH+QIm3iIiIiIgEp/xSc165f5dGL1VUGOajxGrK6AUFe2D7vqNf37wLVhTAJSFfZu6wbTu9xscLNa6dBeTbtr3Ltu0q4F3gdKC1u/QcoCtQ3JQBK/EWEREREZHglFdiPvdrXOK9f7+L/fttUsO9o3m16nPex44Ve3eF+RymZeZuBUCGZVkJlmVZwARgLbAIuMR9z1TgvaYMSom3iIiIiIgEp7wd5vPJnRu1TLPpaF4trRtERx5/znv2chjSDXp2CExcTcC27WxME7UVwCpMzvsCcC/wK8uyNgHtgJeaMq5m8idPRERERERCTl4JdGzRqG7mYMrMoRkl3vExcFrq0ee8i/aY7x+fHLi4moht2zOAGce8vBkYHoBwAO14i4iIiIhIsFpf0ujdboCCAgeWBSldm0niDeac9zdbwOky31eXmYf++e6QpMRbRERERESCU55vEu/CQgedOkUSGxvmo8RqGtETDlfAGncPsdkrYGAKnNT430/xnhJvEREREREJPnsPw66DPkm8iwocpHZrRrvdYHa8wTRY27EfvtwIF4d1U7Wg1sz+9ImIiIiISEj4oaO5D0rNC51MmBDd6HVCSu+O0C7JnOt2usC24ZL0QEfVbDX5jrdlWb+0LGuNZVmrLct6w7KsOMuyelqWlW1Z1ibLst60LCvGfW+s+/tN7us9mjpeEREREREJgOrEu5E73gcOuNi/z9X8drwty5SbZ2823cxP6gQDkgMdVbPVpIm3ZVkpwB1Aum3bA4FI4DLgD8BfbNvuA+wFrnM/ch2w1/36X9z3iYiIiIhIuFtfYkZi9WzfqGWa3Sixmkb0grXbYVEeXDzUJOMSEIE44x0FxFuWFQUkANuB8ZhZawCvAZPcX1/o/h739QnuIegiIiIiIhLO8kqgdweIimzUMoUF7sS7ue14gznnbdum1FznuwOqSRNv27aLgaeAAkzCvR9YDuyzbdvhvq0ISHF/nQIUup91uO9v15Qxi4iIiIhIAOTt8E1jNfeOd0pKM0y8h/c0n3u0hyHdAxtLM9fUpeZtMLvYPYFkIBE41wfr3mBZVo5lWTkOh+PED4iIiIiISPByumDTTt80Vitw0KlzJHFxzbBwtnUCTEmHu85SmXmANfWPfc4C8m3b3gVgWda7wOlAa8uyoty72l0B97A5ioFUoMhdmt4K2H3sorZtvwC8AJCYmGj7/VchIiIiIiL+s6UUKh0+2vF2kprauHL1kPbWTYGOQGj6M94FQIZlWQnus9oTgLXAIuAS9z1TgffcX7/v/h739YW2bSuxFhEREREJZ+t909EcTHO1ZtlYTYJKU5/xzsY0SVsBrHK//wvAvcCvLMvahDnD/ZL7kZeAdu7XfwXc15TxioiIiIhIAPholNihgy727m2Go8Qk6DT5n0DbtmcAM455eTMwvJZ7y4EpTRGXiIiIiIgEibwSaJdkPhqhWY8Sk6ASiHFiIiIiIiIidcsrgZM7NXoZJd4SLJR4i4iIiIhIcMnbAf26NHqZAvcM765dm3FzNQkKSrxFRERERCR47D8CJft9suNdVOikY8cI4uKV9khg6U+giIiIiIgEDx81VgNTat5VZeYSBJR4i4iIiIhI8MjbYT77IvEucNBNHc0lCCjxFhERERGR4JFXApER0KtDo5Y5dMjFnj0u7XhLUFDiLSIiIiIiwSOvxCTdMY1LmIuK1NFcgocSbxERERERCR7rS6Cfb8rMAZWaS1BQ4i0iIiIiIsHB6YKNO3zUWM0JQNdUjRKTwFPiLSIiIiIiwaFgN1Q4fDJKrLDQQfv2EcRrlJgEAf0pFBERERGR4KCO5hKmlHiLiIiIiEhw0AxvCVNKvEVEREREJDjklUCbBOjQolHLHD7sYnepSx3NJWgo8RYRERERkeCwvsTsdltWo5b5YZSYSs0lSCjxFhERERGR4JBX4qPz3aajeWo3dTSX4KDEW0REREREAu9gOWzb57PGaoBKzSVoKPEWEREREZHA21DdWM03o8TatY8gIUHpjgQH/UkUEREREZHA8+EosaJCh3a7Jago8RYRERERkcBbvx0iLOjTsdFLFRQ41FhNgooSbxERERERCby8EujZHmKjG7VMWZmLUo0SkyCjxFtERERERAIvb4ePyszdHc1T1dFcgocSbxERERERCSyXCzb4JvEuKNAMbwk+SrxFRERERCSwivZCWaVvRokVmsS7a1cl3hI8lHiLiIiIiEhgrXePEuvnm47mbdtGkJSkVEeCh/40ioiIiIhIYOVVz/D2Tam5yswl2CjxFhERERGRwMorgZbx0Kllo5fSDG8JRkq8RUREREQksPJK4OROYFmNWqa8zMXOnS66qqO5BBkl3iIiIiIiEli+GiVWZEaJdVOpuQQZJd4iIiIiIhI4hyugcI9PO5qr1FyCjRJvEREREREJnA07zOdGdjRfsbyCV146iGUp8Zbgoz+RIiIiIiISOI3saL7qu0qefeYAy7IraN8+ghmPtCGphfYXJbgo8RYRERERkcDJKzFN1fp09Oqx9esqee7ZAyz+soI2bSK461ctuWRKEnFxjWvQJuIPSrxFRERERCRw8kqgezuIj/Ho9k2bqnj+2QMsWlhOy5YWt97WkksvTyQhQbvcEryUeIuIiIiISOCsd48SO4GtW6t44bmDfPpJGQkJFtff2IJf/CJJZeUSEpR4i4iIiIhI41z4N4iNgrdu8u452zbN1c44qc5btm1z8OLzB/nwgyPExFhMnZbElVcn0bq1ZnVL6FDiLSIiIiIiDbeyAN5fab7+aiOc3tfzZ4v3mnFidex4u1w2N1xXyt69Ti6/Iomp1yTRtq0Sbgk9qssQEREREZGGe3oBJMRAp5bw4Byzi+2pPPcosTo6mm/YUEVJiZP7H2jNL+9upaRbQpYSbxERERERaZhdB+Hf2XD1SPjtBfD5Bpi/1vPnTzBKLHtpBQAjMuIaG6lIQCnxFhERERGRhnn+c6hwwB0T4Pox0K0tPODFrvf67ZAUC8mta72cvbSCXr2j6NBRO90S2pR4i4iIiIiI9yod8MwiOGcAnJIMsdEwYyLkbIH3Vnq2Rt4OOKmTmeN9jPJym5W5FWRkxPo2bpEAUOItIiIiIiLee2c5bN8Pd0748bWrR5pEevpccLpOvEZeCfTrUuullbkVVFaqzFzCgxJvERERERHx3qz5Jsk+d+CPr0VFwqMXwupiePOb+p8vq4SCPfWe746OhiFDY3wYtEhgKPEWERERERHvLP0eluXD7RMg4piUYko6nJYKM96DKkfda2zcYc6C1zFKLHtpBYNOiyE+XimLhD79KRYREREREe/MWgAt42HqqOOvRUTAzAth0054dUnda6yvu6P57t1ONmyoUpm5hA0l3iIiIiIi4rniveZ8d+ZoaFFHYnzBaTCiFzz6Xyivqv2e6lFifY/f8f5mWfUYMTVWk/CgxFtERERERDz3zCJwueC28XXfY1nwxGQo2mtGjtUmrwRS20Li8cl19tIKWra06Ncv2kdBiwSWEm8REREREfFMWSU8/wVMHAw9O9R/7/hTYHw/eOJDOFR+/PW8HdDv+DJz27bJXlrOsOGxREYeP2ZMJBQp8RYREREREc/8Oxt2Hzp6hFh9Hp8MOw/C0wuOft22zY53Lee7t+Q72LnTRcZIne+W8KHEW0RERERETsy2zQixQV3hzJM9eyajN1wwCJ78BPYd+fH17fvhYHmtiXf2Up3vlvCjxFtERERERE7sszxYVQx3nmXOcHvqsckm6X7qkx9fq26sVssosaVLy0lNjSQ5OaqRAYsEDyXeIiIiIiJyYrPmQ/skuGKEd8+dlgqXDoP/mw87D5jX8mofJVZVZbM8p1JjxCTsKPEWEREREZH6bd4F738LN54JcQ3oNP7IhaYx2+8+Mt/nlUBCDHRtc9Rtq76rpKzMVpm5hB0l3iIiIiIiUr+/LYTICLhlXMOeP7kzTB0Fz34GRXtM4n1SJ4g4Oh3JXlpBRASkD1PiLeFFibeIiIiIiNTtYDm8tBimDIXk1g1fZ8ZEcNkw8wNYX3tH8+zscgYMiKZFC6UpEl70J1pEREREROr22hI4UGaaqjVG93amVP2lxbBl93GJ94EDLtauqdL5bglLSrxFRERERFwuMy4rnNm2+XV6w+UyM7hH9DIfjfXg+RATZWI5JvHO+aYClwsyRqrMXMKPEm8RERERad5sG8Y+CVdlBToS/7r1X9D2Trj5dcjZ4tkPGv63GjbugDsn+CaGzq3g9vHm6/5djrqUvbSCxESLgQNjfPNeIo1hZUZgZUYd89pPsDLvxspM83Y5Jd4iIiIi0rzNzYUvN8KbObDrYKCj8Y8d+02Jd+dW8NrXMOwxOO1h+L95UFrPr3nWAnOu+5Khvovl4Ynw7i1mzFgN2dnlDBkaS1S0FzPCRfznDeDlH76zMm8CPgaeBJZiZXp19kKJt4iIiIg0X04XTJ9rElKHE/6dHeiI/OO5z6HSAe/dBtufgueuMmPBfvkmJN8DU56Fj1eZ349q67bBp2vglrEQHVXn0l6Lj4HJQ8D6McEuKnJQVOjUGDEJJhnARzW+/zWQBbQC3gUe9GYxJd4iIiIi0nz9Zxms2QazLoOh3U0jsXBTUWXGeP10oDlX3SrBNDlb9lv47mG4bTx8lgfnzYLu98Jv58D3O83Z7tgouOFMv4eYvbQCgAwl3hI8OgLFAFiZfYCewN+wsw4CrwCnerOYEm8RERERqd+T/4Ol3wc6Ct+rcsBD75mS50uGmjnTuQWwqijQkfnWWzmw40DtXclP7Qp/vhSKn4J3boZBKfC7j6DPA/Dil/CLDOjQwu8hZi8tp1OnSLr38OHOukjjHADaub8eC5RiZ33n/t4JeNV+X4m3iIiIiNStogrunW0S1HDzyleweRc8NgkiIuDy4RAdGV673rYNs+ZDv85wzoC674uJgouHwkd3wdY/wOOTYUxfuPdcv4fodNrkfFPB8IxYLEvnuyVoLAHuw8q8ALiLo8vO+wBe/YROibeIiIiI1DRESyAAACAASURBVK1gj0neFuXBnkOBjsZ3yqtg5geQ0QvOH2Rea9/CfP3Ppea8dzhYsgmWb4U7Jhx1prpeXdvCA+fDol/DSZ1PfH8jrVtXxYEDtsrMJdj8BrPj/T5md/vhGtcuBb72ZjEl3iIiIiJSt827zGeHE97/NrCx+NJzn0HRXnjioqMT0qmjTFn2J2sCFppPzVoArRPg6lGBjqRO1ee7hw9X4i1BxM7aiJ3VF+iAndUHO2tLjat3YhJzjynxFhEREZG65Zeaz63iYfbywMbiK4fK4YmPYMIpMK7f0dfOOxXaJ4VHuXnhHnh3BVw/BhKDN6nNXlrOyf2iadM2MtChiBzPztqNlZmEldkdKzPa/doq7Kxd3iyjxFtERERE6pZfas7/TjsdPl0LB8oCHVHjzZpv5nU/Pvn4azFRcMUIeG8l7D3c9LH50t8XmmMCt44PdCR1OnLExXffVmqMmAQnK/MCrMwVwH7ge6o7mVuZWViZV3izlBJvEREREanb5l3Qox1MGWrmQH/w3YmfCWZ7D8OTn8DEwTCiV+33TB1lfq1vftO0sfnSkQp44QszL7t7uxPfHyArllficMCIEUq8xbcsy2ptWdY7lmWttyxrnWVZIy3LamtZ1jzLsja6P7epe4HMScB7QClwL0fnzvnAVG/iUeItIiIiInXLL4We7WFkb+jSKvTLzZ/6BA6Uw8wL674nrRsMTAntcvN/LoW9R+DOCYGOpF7Z2eXExsLgNCXe4nOzgP/Ztt0POA1YB9wHLLBtuy+wwP19XWYAr2BnnQP83zHXVgMDvQlGibeIiIiI1K068Y6IgIuGwMer4XBFoKNqmB374f/mw6XDYFBq3fdZltn1XroZ8kqaLj5fsW14eoH5AcLovoGOpl7ZX1cwOC2W2FiNERPfsSyrFXAG8BKAbduVtm3vAy4EXnPf9howqZ5lTgHedH9tH3NtLz/O+PaIEm8RERERqd3+I7DnMPTqYL6/eCiUVcLHqwIbV0P97mOocMAjE0987y9GQIQVmrveC9bBmm1mtzuI52Lv3Olk82aHzneLP/QEdgGvWJaVa1lWlmVZiUAn27a3u+8pATrVs8YBoH0d13q41/eYEm8RERERqV11R/Oe7n97jukLHVrA7BWBi6mhCvfAs5/BtFGezabu0hrOHQivfw1Ol9/D86lZ86FjC7hseKAjqdeypeUAZGTEBTgSCUFRlmXl1Pi44djrwBDgWdu204DDHFNWbtu2zfE72TXNA+7Hymxd8zGszFjgNuBjbwJW4i0iIiIitTs28Y6KhElp8MG3UF4VuLgaYuYH5vNDP/P8mamjzKzvRev9E5M/bNoBH66Cm8ZCbHSgo6lXdnYFbdtG0KdvVKBDkdDjsG07vcbHC8dcLwKKbNvOdn//DiYR32FZVhcA9+ed9bzHg0BnIA/IwiTp9wErga7Aw94ErMRbRERERGq32V1JWV1qDnDxEDhUAZ+uCUxMDbFxB7y8GG48A7p5cSxz4mBonRBa5eZ/XQhREXDz2EBHUi/btlmWXcHwEbFERARvObyEJtu2S4BCy7JOdr80AVgLvM+P3cinYrqW17FI1hZMsv4BcDbgxJwbXwqMwM7a5k1M+vGSiIiIiNQuvxRaxUObxB9fG9fPJKOzl5vENBQ8/L6Zz/3A+d49FxdtGrG9/jU8Uw4tmqAkumgPLMozs8QjvdwjO1AGr3xlYu7cyj/x+cimjQ5273bpfLf40+3AvyzLigE2A9dgNp7fsizrOmAr8PN6V7CzioDrfBGMR4l3elpxBBCRk5viqPHaTzAt1Bfm5Kbk+iIYEREREQki1R3Na4qJggsHw3srzazrmCDfx1ldDG8sg3vPbVgyOnUUPP85vJMD14z2fXzHuu41U03w+tfwr+vNmXpPvfIVHCyHO8/yX3w+ku0+3z1C57vFT2zbXgmk13IpIDP2PP2b8g2gArgaID2t+CbgGfe1qvS04vNzclPme7KQZVmtMTXyAzF18tdi6ubfxHSH2wL83LbtvZZlWZj5a+cBR4Bptm2HYDcPERERkRCUXwqndDn+9YuHmPLrhetNA7JgNn2u2an+9U8a9nxGL+jbyfx6/Z14f55nku4LBsG8tTDkUXjrJjND/UScLvjrAhjVG9J7+DdOH8jOrqBnzyg6dowMdCgidbMyzwWmAKnAsT8lsrGzzvR0KU/rVzKAj2p8/2tM8twKeBdz8NxT3gwy/ynQ1/1xA/CsF+8jIiIiIg1l27XveAOcPQCSYk25eTBbthnm5sI950DbpIatYVmmE/rnGyDfq+lB3rFteHAOJLc2yfaS+yE6Es74Izw931yvz0ffwfe7QmK3u6LCZsWKSpWZS3CzMn+DyYEvABIxZ7xrfng17sDTHe+OQDFAelpxH8xctL/l5KYcTE8rfgX4t0ex/zjIfBqYQeZApWVZFwJj3be9BnwG3IsZcP4Pd6v3pZZltbYsq0uN2WsiIiIi4g8l+03n8toS77ho+NlpJql99krT7byhDpXDgfKGP1+fB+dA+yS46+zGrXPVSPjtXPjH1zDDgxngDfG/1fDVJvP7GR8DQ7rD8ukw9WW48z/mWta0us+Zz1oAXdvA5DT/xOdD366soKLcVuItwe424HngNuwsZ2MX8zTxPgBUt4AcC5Tm5KZ85/7eyfHb7nWpOcj8NGA5cCd1DzJPAQprPF/kfk2Jt4iIiIg/HTtK7FgXDzVnp7/YAONPadh7rN0GI39nmoL5y1NTGt8ULbUtjO9nEu+HfmZ2wX3J5TI/JOjZHq6tUc7eJhHm3gpPfgIPvAvfFsHsm2FAytHPry6GBevgdxdBdJCfuQc+/6yc2FhIH6bEW4JaS+BtXyTd4HnivQS4Lz2t2AHcxdFl530wCbGn7zcEuN227WzLsmZRyyBzy7JOUEtzNPfA9BsAYmJivHlURERERGpT2yixms4daHZmZ69oWOLtdMG1r5py6ueuAn9MlIqLhsuH+2atqaPg6pdg8UYYc5Jv1qz27grILYDXrj2+WV1EBNz7UxjREy57AYY/Di9cDb/I+PGepxeY/xbXn+HbuPzA5bJZtLCMkaPiiI/XZGMJap9gjlwv9MVinibe1fXt72NasT9c49qlwNcerlPbIPP7cA8yt217+zGDzIsxB9mrdXW/dhT3wPQXABITE71K2kVERESkFtU73j3q2PFOjIXzTjVJ418vNwmiN/66ALI3m87dV4xoXKxN4aIhcMs/TZM1XybeThc89J5pYlczmT7W2H6Q+xBc+jxcmWVKz/9yqZmp/vrXphy+XQPPsTehtWur2LnTxa23xwc6FJETuQ2Yg5VpA58Ce4+7w87a7OliHv0NmZObsjEnN6Uv0CEnN6VPTm7KlhqX78Q0WzuhBgwyfx+42jIygP063y0iIiLSBPJLoUsrs2tcl4uHmLPgS773bu3Nu0xp9fmDfLcj7W+JsXDJUHgrB45U+G7dfy2Fddth5qQTz+3u0hoW3mM6tD/7GYz+g5lRXl4FdwRkQpLXFi0oIzIKxpyhMWIS9GzgIPA4sAzYWMuHxzyd4/0yMDMnNyW/lssHgD9ixoJ5wptB5h9hRoltwowTu8bD9xARERGRxti8q+4y82rnDzKl0bOXw+i+nq1r23D9aybJfO5K35+X9qdpp8OrS2BObv27056qdJjEeUg3s6PuiahI+OMUGNXHNF7L2QITToGBKSd8NNBs22bhgjKGDYulZUuVmUvQexUYBfwFWA9UNmYxT0vNpwHPAbUl3u0xu9QeJd7eDDJ3dzO/1cMYRURERMRX8kvhjBOUVLeMh3P6m3LzP1/qWRL90pdm/vdzV0HXtr6JtamM6WtK719b4pvE++XF5vf573d6/wOISWmwYjrcN7vhM8qb2PffOygsdHLV1BaBDkXEE+OAW7GzXvXFYt78qKmus9OdAT+2ohQRERGRJlXlgKK9dXc0r+mSoVCwx+y8nkjxXrj7bRh7Mlw/ptFhNrmICLh6JMxfB0V7GrdWWSXM/MBUCpw7sGFr9O4Ib98Mw3s1LpYmsmhBGZYFZ45VmbmEhF3ADl8tVueOd3pa8WRgco2XHklPKy495rZ4YAxmLJiIiIiIhIOCPeCyT1xqDjBxsCl/fmc5DOtZ9322DTf/E6qc8OLV3jdjCxZXj4RH/wv/XAr3ndfwdZ5ZBNv2wRs3hFa5fSMsXFDG4MExtGvXiLnvIk3naeAWrMxPsLNcjV2svlLzbpikGsxu92Dg2E4SFZhRY/c3NhARERERCRLVo8Q82fFuk2hmXM9eDr+/uO4k8s1v4L/fmrnafTr5Ltam1ruj2aV+bYkZ89WQpPlgOfz+YzhnwInL+cNEYYGDjRsd/OqeVoEORcRTbYCBwFqszHkc39Xcxs6a4elidSbeObkps4BZAOlpxfnApJzclG+9j1dEREREQkr1KDFPEm8w5eY3/AO+K4LTUo+/XnoQbv83DO8Jd53tuzgDJXM0THsFLnsesqZBCy9Lp/9vHpQegscm+SW8YLRokTmZOm6cyswlZDxY4+vafkJmA41PvGvKyU2pp25IRERERMJKfilER0JKG8/un5QGN71uys1rS7zv/A/sL4OXpp14ZFYouHoUlByAB96Fb4tg9s0wwMOu4nsOwVOfwuS0+kvzw8yiBWWccko0XZI97e0sEmB2lk//svJ4sfS04pT0tOI/p6cV56SnFeenpxUPdL9+V3pa8QhfBiUiIiIiAbR5F3Rv53mS3KGFKZmeXUvbnw++hX9nw4Pnh8TIK49YlikzX3A37DsCwx8387g98cf/mVLzmc1nt3vnTierVlUxbkJ8oEMRCRiP/jZNTyseAKwCrgK2Yc5/x7gvdwfu9Et0IiIiItL08ks9LzOvdslQWLcd1m778bX9R+Cmf5qE+/5GNCILVmP7Qe5DkN4DrsyCW/4JFVV131+yH55eCFcM93yHPAx85i4zHz9eZeYSYqxMCytzIlbmU1iZr2Bldne/fiZWZrI3S3m64/0nYB3QE7gIqNlFYgngg0GGIiIiIhIUGpJ4Tx5iPtfc9b53NmzfBy9NhZgwLTHu0trsfP/6J/DsZzD6D7Dl2EFAbk98CJUOeHhik4YYaIsWltOrVxQ9ekYHOhQRz1mZbTC57lzgeuBqoJ376vXAfd4s52niPRr4fU5uyiGOn+e9AzPLW0RERERC3cFy0/jLk1FiNSW3hlG9YfYK8/1n6+H5z+GXZ4fMnOkGi4qEP06BObfCxh0w5FH46Luj79m6G57/Aq4bHdpd3b20b6+TFcsrGDdeZeYScp4EUoHTMQl3zc3n+cAEbxbzNPGub25Ze6DMmzcVERERkSCV78UosWNdPBS+LYRVRZD5GvTpCI9e6Nv4gtmkNFg+Hbq1g/Ofht/OAaf7n9GP/tf8s336BQENsal9/nk5TieMm6Aycwk5FwIPYmd9zfGbzwWYpNxjnibey4Br6rj2c+Arb95URERERIKUt6PEarp4qPl8/tPw/S548WpIiPVdbKGgd0f4+n64djQ8/iH85C+weKOZ+33zWOjaNtARNqlFC8tITo7k5JNVZi4hJwkoruNaHEfvgJ+Qp4n3TOBn6WnFn2IarNnAWelpxa8Bk4HHvXlTEREREQlSm9073t6WmoPphJ7eAwr3wI1nmuZjzVF8jBmd9tI0+GoTjPkDxEWHZ4O5ehw65CJ7qSkztyyvchSRYJAHnFPHtTMxzcc95lHinZOb8jkwCdNc7WVMdv97YAwwKSc3JdubNxURERGRIJVfCi3ioG1iw56/eSykdYM/XuLTsELStaPN7vfgVFNy37FloCNqUl8tLqeqSmXmErKeAe7CynwQM9ULoDVW5jXAbcDfvVnMsu1jy9Xrl55W3AfoCOzOyU3J8+rhJpCYmGgfPnw40GGIiIiIhKafPQ0Fe+DbhwMdSaPYts26tVX0OyWaiAjttgbCfb/ZQ25uBR9/0ln/DcSnLMs6Ytt2A3866M0bZf4euAez8WxhKr9dwB+xsx70Zimv5zrk5KZsAjZ5+5yIiIiIhID8UtMULcR9u7KSzGtLueGmFtxwY/PaaQ4G5eU2Xy0u57zzE5R0S+iys+7DynwWU3LeAdgNzMPO2uztUnUm3ulpxb2B/jm5Kf895vXxmDLz/sB24Mmc3JQXvH1jEREREQkytm0S73MGBDqSRlu5shKArBcOMnRoLEPTm1mTtwDLXlpOWZnNeJWZS6izs7YCLzZ2mfp2vKcDfYEfEu/0tOKTgQ8AJ/AJcBLwbHpa8a6c3JQ5jQ1GRERERAJo5wE4UtmwjuZBZs3qSjp3jiQmBn77wB7eeLMjrdtEBjqsZmPRwnJatrQYOlQ/8JAQZ2V2xpzxPv6nSHbWF54uU19ztRHA28e8dhsQA0zIyU25GDgNWOB+XURERERCWWNGiQWZtWuqGJwWwxN/aMu+fS4enrEXb3sbScM4qmy++LyMM86MJypaZeYSoqzMFKzMhZiRYl8Dn7k/FtX47LH6Eu9kYN0xr/0UyM3JTVkGkJOb4gKygMHevKmIiIiIBKHN7sS7IaPEgsiunU527HAyYGAM/frFcOcvW7H4ywr+/S814G0KOcsrOHDAZtx4lZlLSHsWOBX4DSYPHuf+GF/js8fqKzW3MCXlAKSnFXcEegFPH3PfNsxwcREREREJZfnuGd492gU2jkZas8ac7x4wIBqASy9LJOebCv46az9paTH0HxATyPDC3qIF5cTHW4zIUOItIW0McAd21uu+WKy+He/NmHLzamdj2qcfu6XeESj1RTAiIiIiEkD5pdCpJSSE9rncNWsqiYyCk042CbZlWUyf0YZ27SO5/749HDroCnCE4cvptPlsURmnj44jLk5l5hLSyoCdvlqsvsT7NeDe9LTi29LTiqcAMzEJ9qfH3DcW2OirgEREREQkQDaXhnyZOcCaVVX07Rt9VOLXqlUEj/+uDSXbnTz+2D6d9/aTVasq2b3bpTJzCQcvAlf5arH6Ss3/jtlery4tPwD8Iic3paz6hvS04gTgcmCWrwISERERkQDJL4VRvQMdRaO4XDZr1lZy7rkJx10bPDiWG29uyTN/O8CIEbFMuigxABGGt0ULyomOhtNHK/GWEGRlXlvjuyLgKqzMBcDHwJ7j7rezXvZ06ToT75zclErgovS04p5AW2B9Tm7KsR0pIoBzgU2evqGIiIiIBKEqBxTugZ4jTnxvECvY6uDwIZsBA6NrvT7tmiRyvqngySf3c+ppMfTuXft94j3btlm0sIyMkXEkJdVXWCsStLJqea0HppnasWyg8Yl3tZzclHwgv45rh4Dlnr6ZiIiIiASpwr3gdIX8KLHVq6sAGDCw9gZqEREWjz7Whisu3cn99+7hH693IC5eSaIv5K2vYts2J5k3tAh0KCIN1dNfC58w8RYRERGRZiA/PEaJrVlTSUKCRY8edf8zt337SB59rA233bKbPz21nwent2nCCEPH/v0uWrSwiIjwrEnawoXlREbCGWeozFxC1pnAh9hZu329sBJvEREREflxlFiI73ivWV1J/wHRREbWnyxmjIxj2jVJvPrKIYYNj+Wcnxx/Jrw5y8ur5KordtGyZQTpw2JJT48hfXgs3btHYVm1/94uWlDGkKGxtG4T2cTRivjMK8BIQIm3iIiIiPhBfilERkDX0N39ray02ZBXxS+uTPLo/ptubsmK5ZU8PnMf/fvH0DVV/zSu9r+PyoiIgNNHx5KTU8n8eaa/cocO7kR8WCzDhseSnGx+z/I3V5Gf72DKpWpYJyHNbzPw9LeLiIiIiJhRYt3bQVTo7lZu2FCFw1H3+e5jRUVbPP67Nlxx2U4euG8PL73agehozZ62bZv588oYkRHLIzPbYts2RYVOcnIq+GZZBdlLK/j4I5OIJydHkj4slrIyM55t7Lj4QIYuErTqTLzT04r3AGfl5KasSE8rfhmY6W60JiIiIiLhJr80LMrMwfPEG6BLchTTZ7ThN/fs4YXnDnDr7a38FV7IWLu2iu3bndxwk2mSZlkWqd2iSO0WxeSLErFtm82bHeR8U0HONxV8tqiMAwdsThscQ8eOofuDGxG3FKzMXh7daWdt9nTR+na8E4FY99fTgOeoo7u5iIiIiIS4/F0wcXCgo2iU1asrad8+go4dvetSPn5CPGefE8/bbx3muswWzb7L+fx5ZURFwZlja9+9tiyL3r2j6d07mksvS8LptNm0qYp27ZR0S1h4x4t7Pf5DX1/ivRW4Pj2tuDr5TktPK66zRWFObsoXnr6piIiIiASRQ+Ww82DodzRfXcWAgTF1Nv+qz5SfJzLv0zLmzyvjgonN95yybdvM/7SM4SNiadnSsx9AREZanHyy51UGIkHuceB7Xy9aX+L9e+B5YCpmOPgzddxnua/rR1wiIiIioWiLu4FvCJeaHzjgomCrgwt+1rDu5GlDYujeI4o5c44068S7usz8+hs1i1uarQ+ws5b5etE6E++c3JSX09OKPwZOAhYBdwDrfB2AiIiIiARYGIwSW7vWfb57QHSDnrcsi0mTE5j1lwN8/30VvXs3bJ1QN39eGZH1lJmLSMPU29U8JzdlO7A9Pa34NeBDNVcTERERCUObS83nEC41X7O6CoD+Axpe8nzBBQn8/a8HmDvnMHff09pXoYUM27ZZMK+MEcNjadWqeZ9zF/E1j/6PyslNuaY66U5PK05KTytOTU8r9mxAooiIiIgEt/xSSIyF9qH7z7s1qyvp0TOKFi0anjC2aRvJ2HHxfPTBESoqbB9GFxrWra1i2zYnE87Wbrc0W48ARf5Y2OO/mdLTin+SnlacA+wDtgD70tOKl6WnFZ/tj8BEREREpIlUjxJrQFOyYGDbNmtWVza4zLymSRclsH+/zaKFZT6ILLTMn2/KzDWLW5otO+sR7Kxt/ljao8Q7Pa34J8CHQBIwE7gFeAxoAXyk5FtEREQkhOXvCunz3Tt2ONm92+XV/O66DB8eS0pKJHPnHPZBZKFDZeYi/uXp/1UPA58C/XNyUx7JyU15Pic35WFgADAPsyUvIiIiIqHGts0Z7zA43+2LxDsiwuLCyYnkfFNJwVZHo9cLFevWVlFcrDJzEX/xNPE+Dfh7Tm6Kq+aL7u+fAQb7OjARERERaQKlh+BwRUjveK9ZU0l0NPTt65tO5BMnJhAZCXPnNp9db5WZi/iXp4l3BdCyjmst3NdFREREJNSEwSix1asqOenkaGJifHNGvX2HSEaPieOD949QVRX+Tdaqy8yHq8xcmjsr812szD7ur6/Gymznq6U9/T/rM2Bmelpxz5ovpqcVd8OUoS/yVUAiIiIi0oRCfJSY02mzbm0VAxoxRqw2ky9KZM8eF198Xu7TdYPR+nXuMvOztNstzd6FQFv3168AvX21cL1zvGu4F/gKyEtPK14KbAc6AxmYLuf3+iogEREREWlC+e7Eu4fPNnaaVH6+g7Iy2yfnu2saOSqWTp1Mk7VwT0jnzysjMhLGjosLdCgigbYDGAksAyzAZyUvHiXeObkpG9LTigcBdwNjgCHAHmAW8Jec3JTtvgpIRERERJpQfil0aAFJoZl0rVldCcCAgb45310tMtJi4oUJZL14kG3bHCQne7pfFVps22b+/DKGDY+ldevIQIcjEmhvAX/ByvwzJuleipVZ1702dpbHfzF4fKM7ub7H0/tFREREJARs3hWyZeZgEu8WLSy6dfN9YnzhJJN4vz/3CDfdUle7o9CWt76K4iIn11zbItChiASDX2IqvfsDM4BXgWJfLByeP7oTEREREc/kl8Lwnie+L0itWVNF/wExRET4prFaTZ27RDFyVCzvzT1M5g0tiIry/XsEmsrMRWqws2zgbQCszGnALOysb32xtNoWioiIiDRXDicU7AnZjubl5TabNlb5/Hx3TZMvSmTXLhdLvgq/Jmu2bTNvnsrMRWplZ/X0VdIN2vEWERERab6K9prkO0QT77z1lTidMGCAb8931zRmTBzt2kUw590jnHFmeDVZ+6HM/BqVmYvUysrsgulzdiam2/kezESvP2NnlXizlHa8RURERJqr/NAeJbZmTRWAz0eJ1RQVbfGziQl8tbicnTudfnufQFCZuUg9rMyTgG+BO4BDmE7nh4A7gZVYmX29WU6Jt4iIiEhzVZ14h+iO9+pVlXTqHEn7Dv4tk540ORGXC95/77Bf36cpVXczTx8WS+s2KjMXqcUfgP3ASdhZ47CzLsfOGgec5H79D94s5lXinZ5WHJGeVjwwPa34zPS04kRvnhURERGRIJNfChEWpLYJdCQNsmZNpV/LzKt1TY1i+PBY3ptzBJfLZ2N9Ayovr4qiQidnnR1e5fMiPjQOmI6dteWoV+2srcDD7use8zjxTk8rvhUowWy3LwROdr8+Nz2t+A5v3lREREREgsDmXdCtHUSHXtuffXudFBc5/dpYraZJFyWwfbuT7KUVTfJ+/rbAXWY+TmXmInWJAQ7Wce2g+7rHPEq809OKrwdmAXOBS4GasxS+BC725k1FREREJAjkl4ZsmfkP57ubKPEeOy6eVq0jmPNu6Jeb27bN/HkqMxc5gZXA7ViZR+fMVqYF/8/efUZHVXVxGH/upJPQAlIFKUGqSDCggI2iVAuiIqiIGkHsYm9Is4MKolhiwQKiIhaqEEBBBWkSQFBCJyoIISE9mcx9P9zwEiCBmWRakv9vrVkDM3PP2YmYzJ6zzz7cVfC805z9eHMkMHHN+vqPxUQnnfh/51bgEVcmFRERERE/sPMg9DnH11GUyObNudhs0KqV50vNAYKDDfr1q8Tnn6dz6FA+NWqU3YT1zz/z2Ls3nyFD1c1c5BTGAnOALRixM4F/gDrAdUAzoK8rgzlbat4YWFjMcxlANVcmFREREREfy8yBf1OhSRld8d6US+MmgVSq5L1ewVf3r0S+HeZ8n+m1OT1BZeYiTjDjFgD9sMrKnwLeBJ7G6mzex+XblAAAIABJREFUDzPuB1eGc/Yn1UGgUTHPNQeSXJlURERERNxsxir4ao3zr991yLpvXPaOEjNNk82b8jx6jFhRGjcJol10MN/OzsA0y2aTtaNl5ufFqMxc5LTMuAWYcTFAZaABUBkzriNmXHGL0sVyNvGeA4yKiU5qUjiMmOikmsCDWHu/RURERMQXVu+Em+Lgurdh2MeQnXf6a8rwUWJ//51PSorDa/u7C7u6fzh79uSzdm2u1+d2h7/+ssrM1c1cxAVmXCZmXBJmXInLXZxNvJ8GcoBNwGLABCYDW4B8rPp3EREREfG2XDvc/hHUqQoP94T3foIuL8DO/0593Y6C58tg4r15k5X0tm7jnf3dhfW4LIzKlQ2+KaNN1harzFzEJ5xKvNesr38QiAFeAIKA7ViN2aYAndasr5/qsQhFREREpHgvzoeNSfD2TfDKdfDdPbDjILQfB9+founuzoMQFgy1q3gvVjfZtDGXkBCIaur9xDs01KB3n0rEL84i5XC+1+cvzDRNFv2QyeJFWfz5Zy5ZWY7Tvj5+URbnnRdC9UiVmYt4k9OHNq5ZXz8NGFdwExERERFf25wE4+fAoI5wRTvrsSvawdpn4LqpcOUUeLw3jLsaAk9ItI4eJWYYJ4/r5zZvzqN5i2ACg3wT+4DrwvliZgbfzM5k6G2+6wy+Ynk2Tzx2+LjHatWy0aBhIA3PCqRhw2O3+mcGsmunnT178rnxZnUzF/E2pxNvgJjopCpAG6A+sA/YVJCQi4iIiIg35Tvg9mlQNQwmDTr+uSZnwM9PwH0zrBXxlTtgxjCrHP2oMnqGtz3PZOvWPK4ZUMlnMTRtGkTHjiF8+UUGN90c4ZMPAPLyTF6dkMpZjQJ57oXq7Nubz+7ddvbusbNnt52l8dmkpBxbAbfZIDzcwGaDbt1UZi7ibU4n3jHRSaOAh4AI4OhPl7SY6KRX1qyvP94TwYmIiIhIMSYvhlU7YPodcEYRK5ihQfDuEOjSFEZ8Bu3HwszhcNHZYJrWHu+Lm3k/7lLaviOPnGyTNj5orFbYDYPDGflAMkuXZnHZ5d7/EGDG9HT27s1n8pQatGgRTIsWJ7/myBEHewoS8b177OzebadJk0CVmYucjhEbDKwEHnf12LDiOJV4x0QnjQGeAeKAz4H9QG1gEDAmJjopcM36+qPdEZCIiIiInMb2A/DUN9CvLdzQ8dSvvaULRDeEa9+GrhPgxQEwtDOkZZfJFe/Nm6yO7b7oaF5YlwtDqX9mADOmZ3g98T54MJ/330vjootD6dyl+NXrKlVstGkT7PMPKUTKHDMuFyO2MWB315DOrnjfAUxcs77+I4Ue2wwsiYlOSgWGAaPdFZSIiIiIFMM04Y6PISgA3r7ZuT3abRvA6qfgto/gkS/hi9XW42XwDO/Nm3KpWs1G/fq+XbUNCDAYeEMEr05I5Y/NubTy4pnib045Qk6OyYMjq57+xSJSUouAy4El7hjM2cS7KlDcIeELgBHuCEZERERETiNuOSzdapWR16/u/HVVK8FXI+C1RfDoV9ZjTcrgivfmXFq3DsLwg6ZwV15ZibffOsLnM9IZOz7SK3Nu3pzL999mcvMtETQ8y6V2TSLimjeATzFiA4FvgH+wjtU+xozb4exgzp7jvQroUMxzHQqeFxERERFPSjoMD38JXVtA7EWuX28YMPJy+PEReLIPtK7v/hg9KDPTwY7tdp+XmR8VUdnGFVdW4oeFWRw86PmjxUzTZMJLKdSoYeP2WHUmF/GwH4EGwMiCP/8FbDvh5rRiPyaLiU4qnJTfB8yOiU6yA19ybI/39cBtwFWuTCoiIiIiLjJNGPEp5OXDe0NKdwxYl2bWrYzZuiUPhwNae7Gs+3QG3hDBFzMzmPVVBsPv9OyZ6PPnZbFxYx6jRlcjIsLZ9TMRKaFb3TnYqepT7By/lG4ALxbcOOHxhNOMJSIiIiKlMXM1fL8BJl4PTWv5Ohqf2LQpF4DWrYN8HMkxDc8KpMuFIcz6MoNbb6tMcLBnSuAzMx28MSmVVq2C6HeF745SE6kwzLhp7hzuVMnyWE6sYRcRERER7/svDe6dDh0bw/09fB2NT6SnOZjzXSYNGgT43XFYNwyK4J67DrHohyz69vNMUvzhB2n895+Dl16JxGbz/f52kQrDiLUBrYAawBrMuIySDFNs4q3jwURERET8xP0zIDULPhgKARWvxDgvz+SRh5PZvcfO5Ddq+Dqck5x/QQiNGwfy+fR0+vQNc3vjt3377Hz2STq9+4TR9twQt44tIqdgxN4NPAvUxFqU7gCsw4j9BliCGTfZ2aEq3k9uERERkbLk+99hxm/wdL8y1wzNHUzTZOyYw6z+LYdRz1bn/AuKP7faVwzDYOCgCLZsyWPDhly3jz/ptVRsNoN779fxYSLOMgwjwDCM9YZhzCn4e2PDMFYZhpFoGMZMwzBO3SzCiL0DmITV0fx6rC3WRy0HBrgSj9P7smOik1oC12J1djvxJ565Zn39W1yZWEREREROIzUTRnwG59SHx3v7OhqfeOvNI8yfm8WIu6t4rIzbHfr2C+PNN1L5fHoG7dq5b1X6t1XZLF2SzYi7q1Crln+V2Iv4ufuBLcDRrocvAa+Zpvm5YRhvA7cDU09x/UhgImbcYxixJ/7PtxV4xJVgnEq8Y6KThgAfYC2vHwBO/ChPe8FFRERE3O3Rr+CfFJh9FwRXvD62X8/K4MP30+l/TSVuuz3C1+GcUliYjauvCWf6p+n8+6+dOnVK/9/LbjeZOCGVevUCuOlm//76RfyJYRhnAn2B54CRhrX/oxswuOAl04DRnDrxbgwsLOa5DKCaKzE5+xPhGeBb4PY16+unuDKBiIiIiJTA+j3w7k/wSE/o0NjX0XjdiuXZvPh8Cl0uDOGxJ6q5fd+0J1x/fTiffZLOV19kcM99pS8L/3pWBtsT7bw8IZKQEP//+kX8yOvAo8DRA+9rACmmadoL/r4PON3enYNAo2Keaw4kuRKQs3u86wBvKekWERER8ZIZqyAoAJ7s6+tIvO6Pzbk8/mgyzZsH8cJLkQQGlo2ks269QC65NJTZX2eQneUo1VgpKfm8/dYROnQMoWs3/9vXLuJjgYZhrCl0G3b0CcMw+gEHTNNcW8o55gCjMGKbFHrMxIitCTyItffbac4m3j8DLV0Z+FSc3ehuGEZIwd8TC55v5K4YRERERPyWacJXa6F7S6jmv/uaPWHfPjsP3HeIyEgbr02uQaVKZasX8KDBEaSmmsyfn1Wqcd6ZmkZ6uslDD1ctE6v9Il5mN00zptDt3ULPdQGuNAxjF/A5Von5JKCaYRhHK77P5PQr1k8DOcAmYDHW9urJWPvG87GO33aasz/J7gGGxUQnDYqJTqoRE51kO/HmyqQc2+h+1NGN7lHAYayN7hTcHy54/LWC14mIiIiUb7/vhZ0H4drzfB2JV6Wk5HPfPYew200mT6lBzZplr5lYdPtgzm4exIzp6ZhmydogJW7LY9ZXGQy4LpyoZkFujlCkfDNN8wnTNM80TbMRcAOwxDTNG4GlWM3CAW7B2kp9ioHiDgIxwAtAELAda6v2FKATZlyqK3E5u8d7H7Ae+LS4sJwdy8WN7lcV/BngK2CKYRiGWdKfYiIiIiJlway11nndV7XzdSRek51t8tCDyfz7j5233q5Jo8ZlM+E0DINBg8MZ82wKq3/LoeP5rpWJm6bJhFdSiIgwGH5n5dNfICLOegz43DCM8Vi57funvcKMSwPGFdxKxdnE+z1gIFYd+1ZO7mruClc2utcH9gKYpmk3DCO14PUHSzG/iIiIiP86WmZ+ydlQs2IkXg6HybPPJJOwIZcXXoqkXbT7juPyhct7VmLy60f4fEaGS4l3Xp7Jx9PSWbM6l0cfr0q1amVvxV/En5imuQxYVvDnHUBHlwcxYqsAbbBy033ApoKE3CXOJt5XAY+sWV9/kqsTFFZ4o7thGJeWZqwTxh0GDAMIDj71OegiIiIifu2Pv+HPf+G+7r6OxGtefzWV+MXZPDCyCj0uC/N1OKUWEmJwzYBwPng/jX177ZzZ4NRvuU3TJH5xNlPeSGXf3nwuujiUawaEeylaESmWETsKeAiIAI42W0jDiH0FM268K0M5uzc7A/jDlYGL4epG9ySgAUDB81WBQycOaprmu0c31gcGVrwzLkVERKQcmbUODAP6R/s6Eq+YMT2d6Z9lcMOgcG68qfycVX3tdeHYAmDmzPRTvu739Tncest/PP5oMqGhBpOn1ODV18tOJ3eRcsuIHYO17XkmcBlwDtAD+AIYgxE72pXhnM1SP8Tag73IlcFPZJrmE8ATAAUr3g+bpnmjYRhfYm10/5zjN7p/V/D3XwueX6L93SIiIlKuzVoLXaKgbjVfR+Jx69fl8OqEVLp2C+XBh8pX9+4zagVw2WVhfPdtJneOqEJ4+PHrXbt25TFl8hGWLc3mjDNsjBpdjb79KhEQUH6+ByJl3B3ARMy4Rwo9thlYghGbilVxPdrZwZxNvHcDg2KikxYBC7A6jx9nzfr6Hzg7aRGK2+j+PvCJYRiJQDJWVzoRERGR8mnbfkjYB68N9HUk/2eaJrG3HaTLhaHcdrv79pxnZjoYPeow9eoHMGZc9XKZcN4wOIIF87OY830mA2+wVvOTk/N59+00Zn+dQWiowYi7q3DjjeGEhpWtY9NEKoCqwMJinlsAjHBlMGcT76kF92cBRW04MgGXEm9nNrqbppkNXOfKuCIiIiJl1qy11v017X0bRyFJSfls+D2XhA25tG4dxPkXuNaluzivv5rK33/n825czTJ3Vrez2rQJ5pxzgpg5I50rrqzE9M/S+fijdHJyTK4ZEM4dwysTGakGaiJ+ahXQAesM7xN1KHjeac4m3o1dGVRERERESmDWOujYGBrW8HUk/7cxwTrMJjLSxqinDzN9Zi1q1ChdsvjrL9l8PSuTm4dEEN2+bHcwP52BgyJ4+snD9O31L2lpJl27hXL3vVVo1KhsHpcmUq4ZsYU/BbwPmI0Rawe+BPYDtYHrgduwGpA7P3R52zIdHh5uZmRk+DoMEREREdfsPgSNHoOXBsCjvX0dzf+99EIKc+dkEvfBGdx6ywGi24cweUoNbLaSlYYfOeJg4LX7qVzZxifTaxESUv5KzAuz55kMGniAiAiD+x+sWuaPShPxB4ZhZJqm6f7W/0asA6ua+/+PnPD3wo87MOOc7uytFuAiIiIi/uBomfmA83wbxwkSEnJp3SaYs5sH8dAj1Xh+fAoff5TO0NtKtt/7lZdTSE528OrrNcp90g0QGGTwxaxa5apxnEg5NpaiE+1ScyrxjolO2nm6ANasr9/ELRGJiIiIVESz1kK7BtC0lq8j+b+sLAeJ2/IYequVZPe/phKrf8th6ltHaH9eMG3PdW31dkl8FvPnZnHH8Mq0bBXsiZD9kpJukTLCjBvtqaGd7WTxYxG3TUCVgjGWeSI4ERERkQoh6TD8st3vVrs3b84jPx/OaWslyYZh8NTT1ahTJ4AnHz/MkSMOp8dKTs7n+fEptGgZxO1u7I4uIlIWOLXivWZ9/aFFPR4TnVQNq5V6UZ3eRERERMQZs9db9wP8p5s5wMYNVmO1o4k3QERlG8+9GMntt/7HuDGHeXlC5GlXdE3T5PnxKWRmOhgzriaBQVoBFpEywIhtCVwLNABOPNLBxIy7xdmhSnV2w5r19VOAV4BRpRlHRERExG/sPgRzE7w756y10LIutKzn3XlPIyEhl7MaBVK16vFvGdu0Cebee6uwdEk2X315+qa28+ZmsWxpNiPurkLTpurmLSJlgBE7BNiIlev2BS4q4uY0dzRXywbOdMM4IiIiIr5lmnDL+/DTNtjwLJzjhbc4/6XBT3/BU309P5cLTNNkY0IuF11c9Lndg2+KYPXqHF6bmErbc4Np3rzoPdv//mvnlZdSaBcdzOAbIzwZsoiIOz0DfAvcjhmXUtrBSrziHROdFBgTndQOGA1sLm0gIiIiIj63+A/48S8rAX/mG+/M+c16cJh+t7977558UlIctD236ITaZjMYPaY6VavaeOKxw2Rmnrzf2zRNxo1JwW6H0WOqExCgEnMRKTPqAG+5I+kG57uan3ieWWFHsJbeRURERMou04SnZkPDSBjSGcbPgd92QEcPH9zy1Vpoega09a8CwoSEk/d3n6h6ZADjno/kruEHefnFVEaPrX7c87O+zGDVyhwef6IqZzbQKbYiUqb8DLQE4t0xmLM/AYs6zywb2A3MX7O+fqo7ghERERHxme9+h9W74P2hcF0MvL0Mnv4GfhjpuTkPZ8CSrTDyMvCzI6c2JuQSHmHQpMmp3y7GxIRw+x2Vee+dNDp0DKFvv0oA7Ntr5/XXjnD+BSEMuC7cGyGLiLjTPcDXGLGHgB+Awye9woxz+mgHZ7uaj3Z2QBEREZEyx+Gwkuyza8OQThAYAE/0gYe+gGVb4dIWnpn3u9/Bng/X+leZOUDChhzatAnGZjv9BwK3x1Zm7eocXnw+hdZtgmjQIJBnRx0mMBBGja6uc6xFpCzaB6wHPi3meRMXeqap5kdERETk89WwKQlmDLOSboARl8LEH6zy8xWPe2ZFetY6q7Q9ppH7xy6FjAwH27fbubRrmFOvDww0GP9CJIMGHuDJxw7TrUcoG37PZcy46tSuHeDhaEVEPOI9YCDwDbAVyC3NYMUm3jHRSS4dEbZmff2xpQlERERExCfy7PDst9Ye6+tjjj0eFgyjroA7P4H5G6FPW/fOeyQLFm6Guy71uzLzzZtycTgotrFaUWrVCmDM2Oo8cN8h/vorj67dQunT17nEXUTED10FPIIZN8kdg51qxXu0E9cX3vetxFtERETKnmm/QOIB+O4esJ1w4MttXeDlBVYZeq82Jz9fGnMTINfud93M4VhjtTbnOJ94A1x4USi3xVZm4fxMnniqmkrMRaQsywD+cNdgp/rtEXSaWwesTeYGkOiugERERES8JjsPxs6B85tAv3NPfj4oEEZfCev3wNfr3Dv3rHVQtyp0burecd1gY0IuTZoEUrmy6x803HV3FWZ/V5vISJWYi0iZ9iEw2F2DFbvivWZ9/fyiHo+JTmqGtbp9HZAEDCsISkRERKRseedH2JsMH95afLn34PPhxfnWud7920OAG1a9M3Jg3ka4tYt7V9HdwOEw2bQx1+n93UVxpiGbiIif2w0MwohdBCyg6K7mHzg7mNPN1WKikxoAzwJDCiZ9GHhrzfr6pdpkLiIiIuITGTnw/Fzo2gK6tyz+dQE2GHsVXDsVPv0VbulS+rkXbIKsXBjQvvRjudme3XZSU81Tnt8tIlIBTC24PwvoXsTzJuC+xDsmOukM4Gmsle1srNXu19asr5/h7CQiIiIifmdyPBxIg2/6n/6117SH886C0d/DoPMhuJQHw8xaCzUi4OKzSzeOBxzd332uC43VRETKocbuHOxUXc2rAo8B92Lt454EvLRmff2Tl9hFREREypKUTKtpWr+20MmJPdaGAeP7Q+/X4f3lMKJryefOzoM5CTCww7Gjy/zIxoRcKlc2OKuRTp0VkQrMjNvtzuFO9RN1J1AVq4HaeOAfoHpMdFL1ol68Zn39He4MTERERMRjJiy0ku9xVzt/Tc/WcGEzGDcHbukMlUJKNveizZCW7ZfdzMFa8T7nnGDt0xYRcaNTJd7VCu57Apc7MZb/fWQrIiIicqIDR+D1xdaZ3e0aOn+dYcBz/eGSl+GtZfBwz5LNP2sdVA2Dbi1Kdr0Hpac52LHdTo8eOn9bRCo4I3Ynxx+ffTIzromzw50q8b7V2UFEREREyowX51uNzca6sNp91MVnWyvfL86HYRdDFRcT1Dw7fPc7XNmu9PvEPWDTplxME87R/m4RkR85OfGuAXQG0oElrgx2quPEprkcmoiIiIg/25cMby21SsWb1ynZGOP7Q4fx8NoiePZK165d+icczoRr/bfM3DCgTRsl3iJSwZlxQ4t83IithnW82GJXhvOvgyNFREREPGncHHCYMOqKko8R0wj6R8PEH+BQunPXZOfB57/Bo19BRAhc3rrk83vQxoRcmkYFEhGht4giIkUy41KAV4BRrlymn6oiIiJSMWw/AB/8bJWIN6pZurHGXQ3pOVZn9FNZvwfunQ71HoJB71oN3d66CUKDSje/BzgcJhsTcnV+t4jI6WUDZ7pygf9tLhIRERHxhNHfQVAAPNW39GO1rg+DO8IbS+CBHlC32rHnktNh+m/wwQor8Q4JtM4Bv+1Cq6GazT/XPXbttJOebtJWibeISNGM2ECgDTAa2OzKpUq8RUREpPzbnASfrYJHeh6fJJfG6Cth5hp4bi5MHgTxW6wV9dnrIMcO7RvClMEw+HyoHu6eOT0oYUMugFa8RUQAjFgHxXc1PwK49CmuEm8REZHyZtdBWL3LauBl6CxmHA544muoHAqP9nLfuFG14bYu8O5PMCcBdh+CyHAYfgnc2sW1o8r8QEJCLlWrGpx1lt4eiogAYzk58c4GdgPzMeNSXRlMP1lFRETKmye+thp5XdUOProNqlXydUS+k5wON78P8zbCiwOgRoR7x3+mnzV28zrw8rXWMWF+uH/bGUf3dxv6sEZEBMy40e4cTom3iIhIeWKasGQLRNWCuRshZhx8NaLMrb66xeqdcN3b8E8qTL3JWol2tzMjYe8r7h/Xy44ccbBzp51efSrwhzQiIh6kxFtERKQ82fw3HEiDFwZAizpw/TtwwfPw5o1w+0W+js47TBPeXgYPzIS6VWHFY9Chsa+j8mubNlr7u9VYTUQqNCPWpSPCMOPGOvtSJd4iIiLlSfwW6757SzirBqx7Bga/B7HT4OdEKwEPK8fJVUYODP/YaqTWuw18Euv+8vJyKGFDLjYbtG5TNsvkRUTcZLQTrym879vpxNs/z7MQERGRklmyFZqeYSXdALWqwMIH4el+8OHP0OkFSNzv2xg9Zes/0PE56yivcVfDnPuUdDspISGXqGZBVKqkt4YiUqEFnebWAfgBMIBEVwbWireIiEh5Yc+HZX/CwA7HPx5gsxLRzk3hpjg4bzxMuw2ujvZNnJ7wxWq4/SNrNf+HB6FHK19HVGbk55ts3pRLb+3vFpGKzozLL/JxI7YZ1ur2dUASMAz40JWh9bGmiIhIebF2NxzJgu4tin6+9zmwbhScXRv6vwmPfGkl62VZrh3unwED34G2Z1ql9Uq6XbJzh52MDFPnd4uInMiIbYARGwdsBroBDwPNMOPiik3Si6EVbxERkfJiyVbrvmsxiTdYJegrHoMHZ8KEhbBqB8wcDnWreSdGd9qbDNe/DSt3wAM9rOO8gvTWxlUJCWqsJiJyHCP2DOBprJXtbKzV7tcw4zJKOqR+O4mIiJQX8VvgnPrWvu5TCQmCt26CLlEw7GOIHgvz7of2Z3knTnfYsBd6TITsPPjiTrguxtcRlVkJG3KpVs3GmQ0CfB2KiIhvGbFVgceAe7H2cU8CXsKMO1zaoZV4i4iIlAfZeVbX8jtdOKv6xgugXQPoMwn6ToZVT0LDGp6L0Z0enAmGAWuegeZ1fB1NmZaQkEvbc4MxDMPXoYiI+NpOoCpWA7XxwD9AdYzY6kW+2ozb4ezA2uMtIiJSHvy63Uq+u7d07brW9a3V7qxcKwFPzfRMfO4UvwWWboWn+irpLqWUlHz27LarzFxExFINa6W7J/ATsO00N6dpxVtERKQ8iN9idS+/+GzXr21dH76+C3q+DgOmWol4sJ++RTBNeGo2nFkdhruwui9F2rQxD0CN1URELLd6amA//a0qIiIiLlmyFTo0giphJbu+W0uIGwJDP4Q7P4H3h1ql3P5mzgarIdx7QyA0yNfRlHkJCbkEBECr1vpeiohgxk3z1NAqNRcRESnrjmTBbzuh2ym6mTvjli7w7BXw4c/w3Fz3xOZODgc8/Q1E1YJbOvs6mnIhYUMOzc4OIixMbwlFRDxJP2VFRETKup/+gnyH6/u7i/LslXBzJ3jmG/j019KP505frIGEfTDmKh0b5gZ2u8nmTXna3y0i4gX6rSUiIlLWLdkKIYHQOar0YxkGxN0C+w7DbR9Bg0i4pHnpxy0tez48+y20qQ83dPB1NOXC9u15ZGWZtD1XibeIiKdpxVtERKSsi99incntrj3PwYEwa4RV0n31m7Dlb/eMWxof/wp/7YfxV4NNb1/cYeOGXECN1UREvEG/uURERMqyA0es8mt3lJkXVj28oLt5APSZDPtT3Tu+K3LyYMx30LExXNnOd3GUMwkJudSoYaNevQBfhyIiUu4p8RYRESnLlv1p3bs78QZoVBPm3Af7j8CVUyAzx/1zOOPdn2BPsrXa7Y+d1suohIRc2p4bjKHvqYiIxynxFhERKcvit1hHiJ13lmfG79AYZtwBq3fBTXFWEzdvysixOqxfcjb0aOXducux5OR89u3NV5m5iIiXKPEWEREpy5ZstZLSQA+WC18VDa8PhNnr4ZEvPTdPUaYssVbcn+uv1W43SijY362O5iIi3qGu5iIiImXVnkOQeADu7ur5ue7rATsOwmuLIDwERl5m7QP3pJRMeGk+9DkHujTz7FwVzNIlWUREGLRqrcRbRMQbtOItIiJSVsVvse49sb+7KBOvh4EdYPwcqPsQDH4XFv8BDg+Vn7/6AxzOhPH9PTN+BZWd5WDpkmy69wgjOFhVBCIi3qDEW0REpKxashXOqGydbe0NATb4fDisGwV3XAwLNsFlr0KTJ2D0t7D7kPvm+i/NWl2/9jyIbui+cYXly7PJzDTp3aeSr0MREakwlHiLiIiURaZprXh3a+H9vc/RDeGNwfD3RJgxDM6uDWPnQOPH4bKJMGMVZOeVbo6X5kNmLoy9yj0xy//Nn5dFrVo2oturzFxExFu0x1tERErGNCEt2+qoLd7357/wT6r3ysyLEhoEN3S0brsPwUc/w4c/w+D3oFoluPF8uO2ZWzoZAAAgAElEQVRCaO9ix/Wkw/DmUri5E7Ss55nYK6jUVAe//JzNDYMiCAhQmbmIiLdoxVtERErm3Z+g9khY/pevI6mYvL2/+3TOqgHPXgk7XoBFI6F3G4hbDueNg+gx8EY8JKc7N9b4OdaxZc9e4dmYK6D4xVnY7dCrjz4wExHxJiXeIiJSMt9vsMqJr37TWn0V74rfYiW7jWv6OpLj2WzWedvTh8E/E2HKYLAZcN8MqPsw3PAO/LC5+PPAd/wHcSsg9iJofIZ3Y68AFszLpHHjQJo3D/J1KCIiFYoSbxERcV2eHX780zrmKcAGfSZZzbDEO/IdsOxPa7Xbn8+2rh4Od3eDtaNg/SgYfrGVdPd8DZo8Ds9+Czv/O/6aMd9BoA2e7uebmMuxf/+xs25dLj17h2H4878bEZFySIm3iIi4bs1uSM+BoV3g+3vh7xS48g3IyvV1ZBXD73usY7b8pczcGe0awuSChmwzh0OLujBujtURvcdEmL4K1u2GT1fCPd2gXjVfR1zuLFyYBUCv3upmLiLibWquJiIirju6v7hrc6hZGT6LhWvfhpvfhy+GW+XG4jmFv/9lTWgQXN/Buu05BNN+gQ9+hhvfs56vHAqP9fJtjOXUgnmZtG0bzJln6u2fiIi36Z2RiIi4bslWaNfASroBrjkPJl4Hs9bCY7N8G1tFsGQrtKoHdcv4qnDDGvDMFbD9eYh/CIZ2hjcGHft3JW6TmJjHtm12evZWUzUREV/QR54iIuKarFz4JRHu7nr84w9cBjsOwoSFVsOvu7oWfb2UTq4dlm+zjukqL2w26NbSuolHLJiXSUAAXHa5Em8REV9Q4i0iIq75ORFy7CfvLzYMeP0G6zzne6dbHbf7tvVNjOXZqh2Qmeuz/d379trJzjGJilJX7LLC4TBZuCCL8y8IITIywNfhiIhUSCo1FxER1yzZCoEBcNHZJz8XYIMZwyC6IQx8x2qWJe4Vv8U6nutS3+zvfvyxZJ58LNknc0vJJGzI5Z9/8tVUTUTEh5R4i4iIa+K3QMdGVhOsooSHWJ3Oa4RDv8lWAy1xn/it0P4sqOb9JGr79jy2bslj1y472dmm1+eXkpk/L4uQUINLuxbz/6yIiHicEm8REXFeSias2XX6Mue61WDe/ZCRC30nQ2qmV8Ir9zJyYOUO6N7CJ9PPm2P9d3Q4YNfOPJ/EIK7JyzNZvCiTSy4JpVIlve0TEfEV/QQWERHn/fQXOEzo5kTi17o+fH0XbP0Xrp0KeXbPx1feLd8G9nyf7O92OEwWzM/irEZWe5ht25R4lwUrf80mNdWkdx81VRMR8SUl3iIi4rz4LRAWDJ2aOvf67i3hvSGweAvc+SmYKk8ulfgtEBwIXaK8PvXaNbns359P7B2VCQmBxG36IKUsmD8vi6rVbHTqpDJzERFfUuItIiLOW7IVLoyCEBc6Wg/tAqOugA9WwHs/eS42Z42cCUPe93UUJbNkC3RqApVCvD71vLmZhIcbdO0WRpMmQSQmasXb32VmOvjxx2x69AgjMMjwdTgiIhWaEm8REXHO/lTYlORcmfmJRl8JFzSBVxZaG4R9JTMH3vkRPvkV/vjbd3GURHI6rN/rkzLz7CwH8Yuz6NYjjNBQg6hmQSSq1NzvLVuaTU62ysxFRPyBEm8REXHOkq3WfUkSP8OAB3pA4gGYt9G9cbli4WbrDGyAyfG+i6Mklv1pleqX5IOP0k69LJvMTJO+fa1O6k2jAjl0yMHh5HyvxyLOWzAvk7p1A2h7brCvQxERqfCUeIuIiHOWbIWqYdZRViVxTXuoXx0mLXZvXK6YtRZqRMCQTvDxr9YqclkRv9U6qq1jY69PPW9uJrXrBND+PCuBa9bM2mqQmKh93v4qOTmfVaty6NkrDJtNZeYiIr6mxFtERJwTvwUubQ4BJfzVERQId3e1Gq1tSnJvbM7IyYPvE+CqdvDQ5ZCVC3HLvR9HSeTa4YfNcHEz6/voRYcO5bNqZQ69ex9L4KIKEm91Nvdfi37IIj8fevXx/nnvIiJyMiXeIiJyejv/g50HS7+/eNjFEBrkmzLvxVvgSBYMaA9tG1gfIkxZah3P5c/2HIKLX7bK9G+8wOvTL1xgJXB9+h5L4GrUCKB6dZv2efuxBfMyadYskKgoFxohioiIxyjxFhGR0yvN/u7CakTATRdYzc0OebnMe9Zaq1T+6NfwQA/YmwzfrPduHK5YuAnaj7MawX01wieJ97y5mbRoGUSTpscncM2aqbO5v9q3z87GjXn07K3VbhGpmAzDaGAYxlLDMP4wDGOzYRj3FzweaRjGIsMwthXcV/dWTF5NvF39BhiWyYZhJBqGkWAYRntvxisiIgXit0CdqtCybunHuq87ZOd592ixPDt8+ztcce6xo9D6nQuNa8IkP2yylu+A0d9C70lQryqseRoGnOf1MLZvz2Prljz69js5gWvaLJAd2+3k5+tsdn+zYH4mAL16qZu5iFRYduAh0zRbARcAdxuG0Qp4HIg3TbMZEF/wd6/w9oq3q9+A3kCzgtswYKqX4xUREdO0Vry7tbC6k5fWOWdaY7251EqIveHHvyA54/jkNcAG93aDFdtg3W7vxOGMg2nQZxKM+R5uvgBWPgln1/FJKPPmZBIQAD2LSOCiooLIzjZJ2ufnpfoVjGmaLJifRfv2wdSp691+ACIi/sI0zX9M01xX8Oc0YAtQH7gKmFbwsmnA1d6KyauJdwm+AVcBH5uWlUA1wzDcsNwiIiJO++Nv2H/EvcdY3d8D9h2G2V4q8/5qrdURvGfr4x+/7UKICPFtp/XCVm6H6LHw45/w7hD46DaoFOKTUBwOK4G7oFMIkZEBJz1/rLO5ys39yZ9b89i1064ycxGRAoZhNAKigVVAbdM0/yl46l+gtrfi8Nkebye/AfWBvYUu21fw2IljDTMMY41hGGvsdh1tIiLiVvFbrPvS7u8urG9baHKGdxLefAfMXgd9z4GwE84zrloJhnaBGb/Bv6mej6U4pglvxFtN1AID4OfH4Y6L3VNhUEJr1+Syf3/+cU3VCmvSJBDDUOLtbxbMzyIwELr3CPV1KCIinhR4NP8ruA0r6kWGYUQAs4AHTNM8Uvg50zRNwGv7pXySeLv7G2Ca5rumacaYphkTGKiyKhERt1qy1UqSG9V035hHy7x/2Q5rdrlv3KL8nAgH0orfI31vN8jLh7eXeTaO4qRlw6B34b4Z1or8umfgvEa+iaWQeXMzCQ83uOTSovcJh4bZaNAggG1/KfH2F/n5JgsXZNKpcyjVqp1cpSAiUo7Yj+Z/Bbd3T3yBYRhBWDnnZ6Zpfl3w8P6jFdQF9we8FbDXE28XvwFJQINCl59Z8JiIiHiDPR+W/eneMvOjbu3inTLvWWutI8z6nFP082fXsZ6busw669ubNidBx/Hw5Rp4/hr49h6oHu7dGIqQneUgfnEW3XqEERpa/Kp7VLMgtmvF22+sW5vLf/856N1HTdVEpGIzDMMA3ge2mKb5aqGnvgNuKfjzLcC33orJq8vDTnwDXuT4b8B3wD2GYXwOnA+kFipJFxERT1u3G1Kz3FtmflTVSlby/faP8PK1ULea++dwOGDWOmslOeIUpbf394Cer8HM1TCks/vjONG2/fDBCus884gQWPwQdPXAhxsltGxZNpmZJn2LKTM/KqpZEEuXZJOd5SA0TCeUekJycj5HjjjIzjbJyTat+5xj90cfy84x+fWXHCpVMrj4YpWZi0iF1wW4GdhoGMbvBY89iZVvfmEYxu3AbuB6bwXk7bpsV78B84A+QCKQCdzq3XBFRCq4o+d3d23umfHv7Q5TllrJ95ir3D/+bzsh6TC8eM2pX3dZK+uotEmL4eZOntlbnZFjrWx/sAKWbwObAVe2gzdvhHoe+NChFObNzaR2nQDanxd8ytdFRQVhmrB9h53WrU/9WnFNbq7JG5NSmTE9w+lrAgJg0OAIfQgiIhWeaZorgOJ+mXf3ZixHeTXxdvUbULDf+26PBiUiIsWL3wJt6kPtqp4Zv1ltq8z77WXwZJ9jZ2y7y6x1EBRgndl9KoZhnS8+4lNrT/iFzdwzv2nCqh3w/gr4/DdIz7G+5heusVbW/SzhBjh0KJ9VK3O4eUgENtupP4D4f2fzbXlKvN1oz247TzyezJ9b87j2unDaRQcTGmoQGmoQEnLsPqTwYyEGgUG+a8YnIiKnpk5kIiJStOw8WJEIwy/x7Dz3d4fLX7MS01u6uG9c07SOEevREqo5cbTSzZ3gia+tVe/SJt77U+GTldbq9pZ/oFIwXB8Dt18EXaJ82q38dBYuyCI/n2K7mRdW/8wAQkMNdTZ3o3lzM3nx+RSCgmDia5HFNrcTEZGyRYm3iIgUbeV2K/n2RGO1wnq0glb1YFK8tQrsrqR0/R7YdRCe6efc68ND4I6L4NVFsOcQNKzh+pzLtlpfx5wEqzFdp6YQdwtc3wEql419t/PmZtKiZRBNmp6++sBmM2jSNJDEbTrKs7QyMx289EIKc+dkER0dzPgXIqldW53JRUTKC20CEhGRosVvtfYhX3K2Z+c5Wua9fg+s2Oa+cWettY4tu6qd89fc3c1aKX9zqWtz2fPhya+h6wT4JREe7AF/jIVfnrBWuctI0r1jex5bt+Q5tdp9VLNmQSRu04p3aWzdmstNg/9j/rws7hhemanv1lTSLSJSzijxFhGRoi3ZAh0aW93HPe3mC6B6JWu12B2Olplf2hxqRDh/3Vk1oH97eO8nqxmaM/anWqXyL8yDOy6GXS/By9dBy3oli92H5s3NJCAAevZyvrw5qlkQhw87OHQo34ORlU+mafL59HRuHfIfWZkO3nqnJsPvrEJgoP9uRRARkZJR4i0iIidLy4bfdnm+zPyoSiFW0jp7Hew+VPrxNv8Nf+2HAe1dv/b+7nA4Ez5defrXrtgG0WPh1+3w0a3w7hAIK5tNxhwOk/nzs7igUwg1aji/2hoVZZWkb9Oqt0tSUvIZ+UAyE15J5YJOocyYWYuYmBBfhyUiIh6ixFtERE72019W+bQnzu8uzt1drbLzN5eUfqxZa62x+pcg8b6wGUQ3tM7YNs2iX2OaMHEhXPqKtTd81ZPubQxXSonb8pj2URr//uP83ut1a3PZ/2++S2XmAFFRgf+fU5yzbm0Ogwce4Ndfsnnokaq8+nok1aqrtFxEpDxT4i0iIidbsgVCAqFzU+/N2bAG9I+G95Y7X+ZdnFlr4cIoqFOCY9AMw1r1/uNvWPzHyc+nZsK1U+HhL63942uehrYNShevm73+WipvTDrClf328+D9h1j+Uxb5+cV8iFBg7txMwsMNl7toV48MoEZNG9sT1WDNGZ/PSOfOYQcJCTH4cNoZDBocgeHHXe5FRMQ9lHiLiMjJ4rdC5yjvl03f3wNSMuHjX0o+xl//wsYkGHBeyce4oSPUqnzynvOEvRAzHr79HSZeD1+N8M4eeBccOpTPb6ty6H9NJYbeVpk//sjlwfuTubLffuLePcJ/B07ei52d5WDJ4iy69QgjNNT1JDAqKkil5k5YsTybia+kcuFFoXw6oxYtW5XNbQkiIuI6Jd4iInK8/9Jgw17o7qX93YV1iYL2BWXeDkfJxpi1zrq/pgRl5keFBMGdl8LcBNi233ps2s9wwQvWavyyR2Dk5X55HveihVk4HDBocAR33V2FufPq8NIrkTRqFMjbU9Po1+dfHh55iF9+zsbhsFbBly3LJiPDpK+LZeZHRUUFsXNH3mlX1SuyPbvtPP1kMs3ODuL5F6oTHq63YCIiFYnO8RYRkeMt+9O69+b+7qMMw1r1vuUDWPQH9Gzj+hiz1sL5TaBBZOliGXGp1an8lYXWnu645dC1Bcy4A2qXoITdSxYsyOTs5sfO4Q4MMujeI4zuPcLYu8fO7NkZfP9tJsuWZlOvXgD9rwln5cpsatcJoP15JVuBbdYskJwc2LvXTqNGpz//u6LJyHDw8MhDBAQaTHg1ktAwJd0iIhWNEm8Rqbi2/gOvLYJ8J1dWAwOsBmDnnOnZuE7n2/VW1+1bOntmxTV+i3XudEwj94/tjIEd4NGv4KUFVlf1IBd+Ve06CGt3w8vXlj6OOlWtWN77yfr7E31g7FXWvwM/tXePnU0b87jvgSpFPt+gYSD33V+VO0dUYdnSLGZ9lcGbU44AMPTWCGy2kv17impmJduJ25R4n8jhMBk96jC7d9t5480a1Kunt14iIhWRfvqLSMU15nvrrOfaRScpJzmcAd+sh1VPWec9+8Kf/8LAdyDHDvM3QtxQK0l2pyVb4ZKzfZdghgTBU33hvhnQdQLMHA71qzt37dcFZeal2d9d2BN9YNsBeKoPXNHOPWN60IL5mRgG9Ox16pLx4GCDy3tW4vKeldi1K48fl2Vz1dUl36veqHEQNpvV2bzHZa41ZyvvPng/jaVLsnnwoap0PN/N/6+KiEiZocRbRCqm1EwriR52Mbx5o3PX/PE3dH4B+kyCnx+Hal5uquVwQOw0qBQMj/aC5+bChn0wawS0ru+eOfYmW3uaR1zinvFK6t7ucEZl6+ttPxZmDINuTpS+f7UW2jWAJme4J45W9WDlk+4Zy8NM02TBgizanxdM7drOf2jSqFEQjYaWbpU6NNSg4VmBJCaqwVphy3/K4p2pafTuE8bgG8N9HY6IiPiQNhmJSMX0xRrIzoNbOjl/Tat68PVdVmI64C3I9fLxSVOXwYpt8NpAGHs1LHnY6gDe8Tn4bKV75ojfYt37Yn/3iW7oCKufghoRcNmr8PzcUzdcSzoMv26Ha9202l3GbN2Sx+5ddnr19k2XdXU2P96uXXk8/dRhmrcI4qlnquvIMBGRCk6Jt4hUTB/9DC3qQIfGrl3XrSXE3WKVYw/72Gq65Q27D8Hjs6BnaxjS2XrskuawfpS1F/umOLjrU8gpZeITv8VaaW7jphX00mpZD357ytpr/dRsuHIKJKcX/drZ6617d5WZlzHz52USFATde/im1DsqKpCkfflkZpawG305kp7u4OGRyQQFGkyYGFmiI9pERKR8UeItIhXPtv3wy3YY2qVkzcmGdIbRV8K0X2DcHPfHdyLThOEfgwm8M+T4mOtWg/iH4JGe1or4RS9ZSborMnPg01+h6yvw6Uorubf50a+HiFD47A6YMhh+2AznjYc1u05+3ay1VlVCi7peD9HX8vNNfliYRZcLQ6lSxTf/7Y42WNux3cuVIE7KzTX/f3yaJzkcJs8+c5i9e+y8+EokdepqV5+IiCjxFpGK6ONfwWbATReUfIxRV8CQTvDst/DxL+6LrSgf/wILN8OLA4pu6hYYAC9fB7Pvhr/2Q/QYmJdw6jFNE1bvhBGfQN2H4eb3YU8yjL8a3hjsma+jNAwD7u4Gyx+zutB3eRHe+fFYxcGBI/DTXzCgFGd3l2Fr1+Rw8KDDZ2XmcCzx9sdy8z277fTp+S9X9NnPxFdS+H19jseS8PffS+PHZdk8OLIqMTEhHplDRETKHn0MKyIVi8NhJbI9WjnfKbsohgHv3QJ7D1sNwBpEWmc8u9u/qfDgTOgSBXddeurXXh0Na5+BAVOh72R4up+1Mh9Q6DPWg2nWqvYHK2BjEoQFW3uib+sCF5/tXyvdRTm/iVVef1Mc3PmJtef97ZutRnkOs8Lu754/P4vwcIMLL/Jd1+x69QIICzNI9LPEOyUlnwfuOwhA8xZBzPoqgxnTMzjjDBvdulvnm5/bLpiAgNKXg/+4LIt33k6jb78wBg5SMzURETlGibeIVCw//mWt7L4woPRjBQdazda6vAj934RfnrBKnd3pnumQmQvvD3UuKW5aC359wrpu/BxYuR0+iYX1e6xk+9vfIS8fOjSyEtYbOkBV362SlkiNCJh7H4yfC6O/s762sGCIquX7M9Z9ICfHZEl8Ft26h/l0L7HNZhAV5V+dzXNzTR59KJl//81n6js1ObddCOnpDlYszyZ+cRbfzM5g5ucZ1Khpo1u3MLpfFkZ0dMmS8F078xj19GFatgziiafUTE1ERI6nxFtEKpZpv1jnXl/tpjOZq1WyksALnreOGVv5JNSp6p6xZ621bi9cA83rOH9dWLCVqHeJgrs/g/oPW6vBNSPgnm5wa5eyn6DabFa5/wVNYPB7cCgdHutVsj37ZdyK5dlkpJv07O3787OjmgWxJD4L0zR9nniapslz4w6zbl0u45+vzrntrLLviAgbvXpXolfvSmRmWkn44kVZfPddJl9+kUFkpI2u3cLo1DmEyEgbVaraqFbVRuUqtmIT8vQ0Bw+NTCY42OCVV9VMTURETmaY3urI6yXh4eFmRkaGr8MQEX+Ung11HrJWeeOGunfsNbvgkpetFe9lj0B4Kfd2JqdDq1FQrxqsehKCSvg56e97IG65VQZ/xbnWKn15szcZJv5gNZgrzfaBMuqRhw6RkJDLvAV13FIuXRqfz0hnwsupzF9YhzNqOX+W+FEOh4nN5p6v4f24NKa+eYThd1bmjuFVTvv6rCwHP6/IIX5xFst/yiY7++T3R5UrG1StZqNq1eNvf27NI2FjLlPfrkn787SvW0TE0wzDyDRNs0zt6SmH78BERIoxay1k5FjdzN0tphHMGAZXvwk3vgez7jp+b7WrRn4BhzJgwQMlT7oB2jWEKTeW/PqyoEEkvH6Dr6PwibQ0a8X22uvDfZ50AzQraLCWmJjncuLtcJjE3noQ0zQZ93wkZ55Z8n/3PyzMZOqbR+jdN4zYYZWduiYszEaPy8LocVkY2VkOtu+wk5riIDXVcey+0O1wsoNdO+2kpjrIyzN59LFqSrpFRKRYSrxFpOKY9is0PcMqwfaEK9vBpBvgvhnw0BclTwYXbrJK4p/qayXOIsWIX5xFXh4+7WZeWOHO5p06u9bobdEPWSQk5BIcDDcOOsCTT1WjZy/Xv66EDTmMHnWYdtHBPDOqZHutQ8NstG4d7PTr3blSLyIi5ZOft68VEXGT3Ydg6VbrDG5P7j29tzs80AMmLbaam2XlunZ9WjYM+xha1LG6koucwsIFWTRsGECrVkG+DgWAqlVtnHGGzeXO5na7yTtvp9E0KpCvZtemadMgnnriMOPGHCYry+H0OElJdh56MJlatQOYMDGS4GDvJMNKukVE5HSUeItIxfDJr9b9kE6en2vC9TDgPHjmG6j3sNXgbO2uY2dOn8qTX1tHlL0/FEL9I5kS/3TgQD5rVufQq08lnzcyK6xZsyASE+0uXbNgXiZ7dtu5c0QV6tUL5N24mtwWW5nvvs1kyI3/OZXIp6c5ePC+Q9jtJq9PrkG16q7vMRcREfEUJd4iUv6ZplW6fcnZ0Kim5+cLsMEXwyH+Ieh7jnWMV8x4aDcGJi+2OnAXZcU2mLIE7u0GnT1UDi/lxg8LMjFN6FWCcmxPatosiJ078rDnOde8NS/P5L1302jRMohLu1rl6YGBBnfdXYU3p9bgSJqDITcd4Ksv0imuIaw9z+SxR5PZvcfOKxNr0KiRPrQSERH/osRbRMq/XxIh8QDc0tl7c9ps0K0lfHoH/DMR3rrR6ih+/+fWKvj1b1t7ufMLymiz8+D2j6wPBp7r7704pcxasCCLVq2DaHiWf7VriYoKIi8P9uxxbtX7u28zSUrKZ8RdVU5aue94figzZtYiJiaEF19I5dGHkzly5PjSc9M0efmlFFatzOGpp6sR00ENzkRExP8o8RaR8m/ar1ApGK6N8c381SrBiK6w+mn4/VkYcSnEb4Fer0Ojx6yS9JEz4a/98O7NEOFaUyqpeHbtzGPrljx69/Gv1W6AqGbWBwGJiacvD8/JMXn/vSO0bRtM5y5FJ8yRkQG8/kYN7n+wCj/9lM3ggQf4/fec/z//2afpfD0rk6G3RnDlVWXqZBkREalAlHiLSPmWlQszV1t7riv7QUJ7bgOr2/nfE+CLO6FNfXhuLkxdBrddCJe19nWEUgbMn5eFzQaXXR7m61BO0rhxEAEBVmfz05k9K4MDBxyMuPvk1e7CbDaDm4dU5v0PzyAgEIbHHuSD99NYuiSLSa8doXuPUO665/RndYuIiPiKf9WniYi427e/w5Es75aZOyMkCK6LsW57k+GHzXB9B19HJWWAaZosWJBJh44h1Kzpfw3EgoMNzjorkMRtpy41z8py8OEHacR0CKZDR+fKw9u0Ceaz6bV4bnwKb005AkDrNkGMGRepzuIiIuLXlHiLSPk27RdoEAldm/s6kuI1iITbL/J1FFJGbNqYR9K+fO64o7KvQylW06ggNm869VF6X8zM4NAhBy9NcG2lOqKyjedfrM75F4SwJD6LUaOrExqqpFtERPybSs1FxOvGjTnMc+MOe36iv1OsleSbL7CanYmUA/PnZRISApd2878y86OanR3E33/nk55e9Bnc6ekOPp6WTufOIbRr53ozNMMwuLp/OJOn1PTLVX8REZET6Z2oiHhVdpaDnE9+I33ammLflLvNZyvBYcIQPyszFykhu91k0Q9ZXHRxGBER/vsrPCrKKqjbXkyDtc+np5Oa4uDOu7QvW0REKgb//a0tIuXSls93MHr7LMbu+IrfP9nhuYlMEz76BTo1heZ1PDePiBf9tiqHw4cd9Ortv6vdAFHNrHO0ExNP3uedmurgk0/SubRrKK1aB3s7NBEREZ9Q4i0i3mPPp+4zn3AkKIyMwBAajv3s2DnW7rZ2N/zxt/81VROfO/hf/klnQZcV8+dnUrmyQecuftCh/xTq1g0gPNwo8kixTz9JIyPdZPidWu0WEZGKQ4m3iHjPxB+ok5TEN92v5sf+/Wn4717yJizyzFzTfoGQQBioTuH+YvVvORxOzvf6vPn5Jgkbcnjrf+3deZyN5f/H8dc1+2Y2Y8ZSUtS3b0UbLVKK9CsqSUlka5FSSaS0WEvqm6IS2bK2SiuttKGiVREVRQrD7Ns5c86c6/fHfTCWYVZzjPfz8TiPc597vc585j4zn3NtE7Pp1jWVS0kuaLYAACAASURBVC/ZyhUdtrLwvXystYe8POXlKvDx2RIXF7eLJCwssAcTM8bQuEkof/y2Z+KdkV7EKy/l0e6SSI4/IbSaSiciInLoaVRzETk0ftuKHf42n8b9l+heLajXKJgvPviW84a/BdecDo2TK+9ahV54eQV0PA3ioyrvvFIuXq/lqSezeO3VPFLqBjN+Qu0qT7qys318tdzF0qUuvlrmJjPTR3AwNGsWRv87Ylm2zMXwhzP44vMChj4YT3x84A/Q9fnnLgoKLJdednj8TjdpEsLHHxVgrd01R/esmbm43ZZb+wXuiOwiIiJVQYm3iFQ9nw9umoUnJJTHj+rAtJYR1KsfTPeTr+Ss758l+JbZsHgQmEqqxVu4CtJy1cw8AOTm+Bh6fzpfLXfT8aoovlru4sbe23n0sQQuaF15/ZSttWzY4OXLL1ws+9LFqlWFFBVBXHwQLc8Lp1WrCM5tGUFsrNPQq2fvGObMzmXy89n89GMqw0cmcG7LwG6+/cH7BaSkBHP6GYdHv+jjTwhlwRv5pKb6SEkJZntqEa+/lkv7DlE0Ola13SIicmRR4i0iVW/y57D0d15vew1RUfEc3dD56Dn5kmSeTb2Eez99B6Z9CbdcUDnXm7Uc6sbBJSdXzvmkXP75x8vAu9LYuMnLgw/H0+nqaLanFnHP3WkMGpjOgIGxdL8hZldtaHlYa/l0iYtnJmSx+W+nGfsJJ4TSs3cMrVpFcErTMIKD9z1/cLChd59anNsynIcfzODO/ml0uS6auwbEEhEZWL2wfD7LjGk5fPmFi959YggKCuxm5js1aeIk17//5iElJZgZM3LwFsHNfVXbLSIiR57A+u9CRGqejWlw33x8F5/E87lN9xgUqu3FkbwacwaZpx8Pg1+HzekVv972HFj4M9xwDoQEfvPhmurHH930umE727cX8dzEJDpdHQ1AneRgpk5P4qI2EYx/Kpsxj2Ti9ZSvn/WWf73cc3c6QwanExlheOCheBZ+UJeXXk2m/x1xnHpa+H6T7uL+858w5sxLplv3aF57NY/u3bazZnVhucpTFfLyfNx3bzqTJ+VwWYdIbu57+AxI1rjJzpHNPWz518ubb+RxZccojjpK3/mLiMiRR4m3iFQda6HfHLDw023X4XazR+J91tnhxNQKYvZ5V4OnCG6b6xxTES99A94iNTOvRosW5nNb3x3ExhpmzqlDi7PC99geERnE2CcS6XNTDG8uyOfOO9LKNMq412uZOzuHazunsnKFmwEDY5kzL5mrO0eTklL2L1vCww33DI7n+cm1cRVY+vTezrSp2Xi91Tvw2t+bvPTptZ3PP3MxcFAco0YnEBFxeNR2A8TGBpFSN5j1f3iYPi0HY+Cmm1XbLSIiRyYl3iJSdeZ8BR/8Ao9dzZIN0YSFwZln7u6fGhpqOL91BG+tiqZoZEd4bxW8sqL81/snAyZ+Cmc0hFMaVMIbkLLw+SzPT8xm2EMZNDs1jBdnJ3PMMfvvyxsUZOh/RxwjRiXww/duevfczqaN+875vLdffimk5w3bGf90Ni3OCuf1N5Lp0bMWIaEVT0jPOjuCl19Lpl27SCY/n8MtN27n700HLpOrwMfGjR5WrnDz3jt5zJiewxefF+DzVSxp//orFz1vSCVtRxHPTqxd4Sb51aVJkxBWrHDz7jv5dL4mmrp1VdstIiJHJnM4TaVSGtHR0TYvL6+6iyEi27Lgvw/DSfXhiyF07ryd+vWDeXZi0h67ffZpAYPvSee55xI4Z9B4WJ8Ka0ZDnTLWjH2yBrpNhfxCWHC7+ncfYq4CH8OHZbD4ExdXdoxi6IPxhJYyGf7hezeDB6VjfZYnxtWmefPwffbJzfExcWI281/Lo06dIAYPieeiNhFVlox++EE+Y8dk4vXCrbfVIi4uiG1bi9iWWkTqNuexbVsR2dn7/xt6XOMQ+txYi3aXRBISUvoyWmuZOyeXZydkc1zjEJ58qvZh3TT72QlZzJqZS3iE4e13U0hKUvcPERGpOGNMvrU2urrLURZKvEWkalw7Cd79CX4awT8xSXS8fBuD7o3j+m4xe+zmclnatdnCZe0jeaBTPpw+Cq45E17qW7rr+HwwZhEMextOrAtv3Ab/rV8Fb0hKsmO7M2Dar796uOvuWG7oUfba2c1/exk4II1Nf3sZ+kA8V3Vy/pZaa1n8iYsnn8gkLc3HdV2j6Xd7LDExVd9ga9u2IkYOy2DFCveudYmJQSSnBJOcHEyK/zk5JZiUusGkJAeTWDuIL79wMWN6DhvWe2lwVDA9e9XiiiujDjr3tqvAx+hRmXz4QQEXt4tk+Mh4IgNsoLey+uD9fB56IIMevWIYcHdcdRdHRERqCCXeAUCJt0gAWPAddJ4EY66Goe2Z/1ouYx/LYv6byTRqtG/T4/uHpPP9d27e/6guwY++B8PfhnfugCtOO/B10nOhx3RY9DN0Oxte6AExgT0lVE2zbl0h9wxIJyvLxyNjErjwovJPEZaT4+P+Iel887WbHj1j6HxNNP97IpNlS92c+N9QHngwnpNOPrRTafl8lt9+8xATE0SdOsGEh5fuCwWfz/LF5y5enJHD6l88JCUFcUPPGK7uHE1U1L7J9JZ/vQwelM5v6zzc3j+W3jcenk3L95aT42PKC9nc0jd211RuIiIiFaXEOwAo8RYpgbXwxndw1rHQsHbVXScjD04aBvXi4JsHIDSEgQPS2LDew1vvpuw3mfjow3weuD+DKdOSOKNpMDQfDWl5sGYUxEXt/zrf/gXXTIItWTD+Ouh3YeXNAy6l8v13bgbcmUZsbBDjxidy4okVT4q9Xsu4/2Xx+mt5GAORkYZ+t8fS5broMjXZDhTWWlaucPPijFxWrnATF2foen0MXbrGEBfnJKLffuvm/nvT8Xgtj45JpNX5+vJIRETkQJR4BwAl3iIleHUFdJ0CCVEw92Zo36xqrtNnBsz5GlY+BKc3pLDQ0vbCLVx+RRT3DY3f7yF5eT7atdlCp6ujufe+eFj5J5wzBm46H6b03HNna2HyZ3D3q1A3FubfBi2OrZr3IiXKzCji+utSiYwKYsrUJJLqVG7f3Tfm5/HLz4XcelutGjMg18+rCnlxRg5ffO4iKsrQ+ZpoEmsH8dwz2RzdMIQnn0rcb4sQERER2dPhmHir3ZfIkWBHDtz5Mpze0Knt7vAMPPQmFJV+CqdS+Wg1zFwO913qXAv48Qc3BQWWluftO2DWTtHRQZxzbgSfLvGPBt3iWBh0CUz9Apb8unvHPDf0mAa3z4O2J8L3wyqUdK9bV8iUF6p/2qjDjbWW0aMyycz0MWZsQqUn3QCdr4lm+MiEGpN0AzRtFsZT42vzymvJXNA6gnlzc5nwdDYtz4tg5uw6SrpFRERqsJrzH42IlOzuVyAzH5YMhsZ1oP88eHQhfL0BXroFkmMrfo1cF/Sd7Qxw9vAVu1YvX+YmNBSatyg58QZoe3EkX3zuYvUvHpo2C4MRV8KbP8Ats2HVCNicAZ2fhzVbYPRV8EB7CCr/d4dbt3q5q38aaWk+CvItAwYeHgM/WWt5YVIOHo/ljrtiq6Uf8Bvz8/n8Mxd33xNbKc3LjzRNjg/lkTGJ3NrPy9q1hbS9OJKgoMOvGb2IiIiUnhJvkZpu4SqY942TyO6c23pGH2h1vJOAnzEaXrsVWjap2HUeWACb0mHpfRCxu+Zu+TIXp58RftDRmS9oHUFICCxZXOAk3lHhML03tH7CSbiX/eGc96OBcPFJFSpqQYGPQQPTcbksbdpGMGd2LiefEsbF7co/MNihMmN6LtOm5ux6feeAQ/uFwYb1Hp4el8k554bTrXvMwQ+QEh3dMISjG+rPsIiIyJFATc1FarLsArh1jpNwD22/57YbW8FXQyE8BFr/D8Z/7PSfLgu3x+k7/n9Pw7NL4M42eyTwW7d42bDBe8Bm5jvVqhXEWWeFs2RxAbvGnrjgBLjtQvhwNTQ7Cn4YVuGk2+ezjBiWwW/rPDz6WCKPPpZI06ahjBqRwV9/eip07qq28L18Jk3M5rL2kXS+JppZM3OZNzf3kF3f7bY89EAGUVFBjBiVoFpaERERkVJS4i1Skw2ZD1syYXovCNtPzdppDeG7h6FDUxj4KnSZ7CTrB/PjJrjrJag/2Bmwbe0Wp0Z9bOc9dlu+3Jn/uGXL0o3S3KZtJP/8U8S6dcUS4HFdnLm5P7sXjkos1XkOZNrUHBZ/4uKuu2NpdX4EoaGGsf+rTXi44d5B6eTnV3K/90qy4hsXo0Zm0LxFGMNGJDDk/jjaXhzB0+OyeH9R/iEpw3PPZvHbbx6Gj0wgKany+3WLiIiI1FRKvEVqqs/Wwgufw8B2cNZxJe8XHwVv9ofHOzt9qls8Aj9v3ne/jDyYuATOHAWnj4IXvoBLTnaafv85FoZfCZF79vddvsxF3brBHHtc6ZrTtr4wgqAgWLLYtXtlZBhcfSaEVrxJ7icfFzBlcg4dLo/khh67m0mnpAQzZmwiGzd6GT0yk0Cb7eGP3z3cOzidY44J4X/jahMaaggONox+NJHmLcIYMTyD5ctcBz9RBSxf5uLleXl0uS5a012JiIiIlJGmExOpifLd0GyEs7xqhNNfujQ+X+fUYGcVwAs9oPvZsGQtzFgKC74HtxdOO9qZ5qvbWZBYch9fj8eZRuzSyyJ54KGEUhe9X9/t7NjhY/6ClFIfUxpr1xZyU58d/OeEUCZNSSI8fN9m0jNfzOG5Z7K5Z3BcwPRf3ratiD49U7EWXpxdZ59RvnNzffS9eQebNnqZPCWJU5pW/mBnaWlFXN8llYTEIGbNSSYiQk3MRUREpPpoOjGRw9QvvxTSrWsqv64prO6iVI7h78D67TCtV+mTboDW/4HvH4YWjaDndKg3CNo9BR/8Ardc4Ezf9cNwuKPNAZNugJ9+KiQ/39LyvLLVjrZpG8lff3rZsL7y+lvv2FHEoIHpxMcF8cS4xP0m3QC9esdw4UURTHg6ix++d1fa9csrN8fHgDt3kJdneea5pP1OrRUTE8Qzz9WmdlIQA+5Kq/R+6tZaRg7PIDfXx6OPJSrpFhERESkHJd5yxNu2rYhBA9P4bZ2H8U9nBVwz4zJb+Sc89RHc2houPHGPTf/+6z34nNX14mHxIBh+BZzbGF7uC/+Og2e77ZqbuzSWL3MREgItzipD4g9cdJEzsvjiT0rR17wUCgstQwalk5XpY9z4xAP2TTbGMGJkAg0aBHP/fens2F5Urmt6vZb5r+fx7IQstm71luscHo9lyOB0/vzTy+NPJnL8CSXP8ZyUFMzE55MICYY7bk9j27bylXt/Xn05j+XL3Nx9TxxNmmieaREREZHyUOItRzRXgY/BA9MoyLdce100331byDffVH9NZ7kVeuHGmVA/Hp64Zo9N333r5qortjH0vnR8voMk3yHBMKIjvHUHdD1rj+nBSmv5MhennR5GdHTZPmbqJAfT7NQwliyueOJtreXR0RmsWlXIiFEJpZpzOqZWEE+Mq01eruX++9Lxesr2Rcy3K910vz6VsWMymT0rl05XbuN/j2eWKYm31jJ6ZAYrVrh5eFgC55xz8FYDRx0dwoTnapOT4+PO/jvIyqr4IHG//+Zhwvgszr8ggmu7HFatuUREREQCihJvOWJZaxk5IpO1az08MiaBgffEUa9eMM8/m3341no/tgh++Qcm94DY3XNSZ2X5GPZQBpFRhk+XuJgyOecAJ6m41NQi/vjdW+Zm5ju1vTiS33/38vem8tUW7zR3Ti4L3yugb79aZZqju0mTUB4aFs+PPxTyzISsUh2zdYuX+4ek06/vDvLzLE88mcg776XQ4fIo5r+eR8crtzFhfBaZGQdPwCc9n8OihQX0u70Wl18RVepyn3hiGOOers3fm7zcc3caroLyJ98ul+XBoenExgUxbHg8xqiJuYiIiEh5KfGWmmt7DixaVeLjwwHfkD//J8a03swFeb8TtmwdfW+JZs0aD599WrUjRB/QXzvg38yyH/fLP/DoQmdAtA7Ndq3eWeubllbE5BeSuKJjFNOm5vDxR1U3BdXOEbZLO43Y3tq0cY5bXIFa76VfunhmfDZtL47g5ltqlfn4Sy+L4rqu0bw0L++APyu32zJtSjadr07lyy8KuLVfLV5fkEKbtpHUqx/CQ8MSmL8ghbZtI5g3J5crL9/GpInZ5OTsPyle8EYeM6blcFWnKG66uezlbt4inNGPJrLqp0KG3p9x8K4FJZjwdBYbNngZOSqBhERNHSYiIiJSERrVXGqmT9ZAt6lO8l0GvotO5ObITuRGxPDya8kEBx/CWj5r4YkP4IEFzuvLmsKN58Hlp+5/Du7iinxw7hj4Kw3WjIKk3QnbW2/m8cioTO66O5aevWpRWGjp13cH69Z5mDY9if+eVPmjYA8ZnMYvPxey8IO65a4p7dk9FQzMnptc5mM3rPfQp9d2jjo6hGkzkoiMLN93jB6P5dZbdvD7bx5mzanDcY13N7m31vL5Zy6eHpfFP/8U0fbiCO4eGEe9+iXH6s8NHqa8kMPHHxUQE2O4oWcM13eL2dUcf+mXLgYNTOPsc8J5anxtQkLK//s3//U8xo7J5IqOUWWusf78swIGDUyn+w0xDBwUV+4yiIiIiFSFw3FUcyXeUrP4fDBmEQx7G/5bD565HmrtObjXpo1FjB6VwVFHBzP0gQTCduad322Ee17DFR1F/4Rr6PTUqWVq5lshmfnQawa88yNc2xyOT4aZy52a7zq1oMc5cGMrOLnB/o8f9yEMfh1e6QvXnbVr9V9/ebjh+u00axbGc5NqExTkJF9paUX0umE7Pp9l9txkkupUXo2m12Np22YL7dpF8tCw0k8jtreZM3J47tls3luUQt16pZ/DOzOziN49t1OQb5k1d9/pt8oqNbWIG65PpVZsELPm1CEmJog/N3gY92QWX3/l5rjGIdw7JL5Mg8j9ts7DC5Oz+fwzF3HxQfTqHcMpp4Rx1x1pNDo2hCnTkoiKqniDpCkvZDNlcg7dukfTvkMU4eGGiAhDeIT/Odzs8+XS9tQiul6XSkpKMDNn1yEsTE3MRUREJLAo8Q4ASryPYOm50GM6LPoZup3tzEMds2dT5/T0Inp2P0DC+eMm7DWTKNqQxswT/49eP3YiNKyKe2T8sAmumQSb0uHJa+GutmAMeIvgo9UwY5mTkHuK4OzjnFrwrmft7sP9xzZoNhLanQRv9XeOxamt7dNrO1u2FPHyq8kkJ+/5XtetK+Sm3jtocnwIL0ytU+IUW2V+O9+7ueWmHTzxZCJt2pa+X/XeNm30cvVV20o9p7bPZ1m+zM3kSdms/8PDlGl1aNqscmrzv/3WTf9+O7igdQT164fwyiu5REUabr0tlmuujS53zfSa1YVMnpTN8mXOgH716wczY1adA468XhbWWsaOyeKN+SV/JoaGQnj47mTcVWDJzbPMe6kOjY7VKOYiIiISeJR4BwAl3keob/9yktctWTD+Ouh34a4EdKfCQsttt+5g7dqDNLHOyif9ymkkfrGKzWefylEf3bzHQGWVavqX0H+e0zT89X7O9F37sz0H5n4F05fC6n8hMgyuPdOpBR/xjpO8rxntjGbuN2F8FnNm5fLkU4lceNH+y79kcQFDBqdzWYdIRo1OqJQBtCY+m8Xs2bksXlKPmFoV+9Kia5dtxMQEMW1GnRL3KSjwsfC9Al5+KZeNf3mpUyeIe++Lr1DSvz9zZucw4elsjIGrOkVxe//YSuv7/NOPbt59J58besbQqFHlJrs+n+WnHwvJyvLhdltcLrv72bXXa7fzuLJjNK3OL1//fBEREZGqpsQ7ACjxPowU+WDUu/DharjqNOjV0plDuiyshcmfwd2vQt1YmH8btDh2P7tZRo3M5N2383ns8QTaXXLgJuTW52P+OW9y9bcfYhonEbTgdmh6VNnKdiD5brjjJXhxGVz8X3ipr9Ok/GCsdebpnrEMXl4B2f7Bx6b2hJsv2LXbN1+76H9bGp2viWbogwf+mU6bms3k53O4c0AsvXqXfTCvvXXrmkpMtGHK9JKT5dKa8kI2U1/I4f0P6+7TOiE1tYjXXsllwRt5ZGdbTjoplG43xHDxxZGEhFZ+82hrLW+9mc+JJ4ZWSb94ERERESkdJd4BQIn3YWJbljP42ZK1Tl/sX7dAcBBcdopTi9uh2cEHFMtzw62zYd43znFzboba+2+SPG9uLk+Py+LmW2rR7/bYUhXxxx/cTOzyLRO2zyeq0A2TukOv88r6Tvf1+zandn7VZnj4chh+pfPeyyrfDfO/c2r5h1y6q4Y/M6OIrl1SqVUriDnz6hBxkIHFrLU8cH8Gn3xcwLinE7mgdflrindsL+LSS7Zyx52x9L6x4kn8H3946HptKvcNjePaLk5sV68u5KW5uXzySQHWBxdeFEG37jGcelqYprwSEREROQIcjol3xUYdEimPpb9Dl8nYjHzWDenOsuObc+3pOcS+8TXMXAbvrXJqf3ue6yThJ9Xf9xxrt0DnSU7CPvoqeKA9BO0/wVy+zMWEp7O4qE0EffuVPhk87fRwoi79Dz2+7ceroW8T0vtFWLbeGbAtopzNgRd8B31mQkgQLBrgjFxeXlHh0LPlHqt21uxnZfl45rmkgybdAMYYho+IZ/PfXh56IIMZs0Jo0qR87++rr5xpxM49r/QDjR1I48YhHNMohE8+LiAxMZiX5uXy04+FREcbrrsumuuuj6FBA32MiYiIiEhgU423HDrWwlMfwX1v4G5QmzGnXc/CTbUBiI013NY/lk5XRhCyeA3MWArv/OQMMHb2cXBTK7iuhdPX+rWVcNNMJ/l9uS9cfFKJl/zrTw+9em6nQf0Qps8s+7RS69YV0r3rdm7uE0W/LUtg7PtwRkOnSfuxZWhK7fHC0AUw7iNo0Qhevw2OqV2mspTG/NdyGftYVqkHJCsuNbWIHt1TiQg3zJpTh/iEsvdfHnpfOj987+b9j8o/jdjeJj6XxYvTcwFo0CCYrt1iuOLKKGJiqnjQOxEREREJSIdjjbcSbzk0svLhxpmw4Ht+Pv4U7oi4gojkKG69LZZTTgnjqXGZfLuykOOPD2HwkHjObB4Oqdkw92tnQLE1/gHFzjkOPl3rDEL22q1wVGLJl8zy0btHKnl5lllz6hxwfuUDGXpfOku/dPHWuynUXv4z9JzhbOjX+uDN4Xf6ZA0sXw/9L4JxXSC88keLXr/eQ8/uqZx5Zjjjn909dVhZ/PJzIX1v3s4pTcOYOCmJ0DL0lfZ6LZe03ULriyIZPqL804jtbetWL88/l81FbSK5oHXEoZ1bXUREREQCjhLvAKDEOwCt+puiTpMwf+3g2frteL1BS3r0rkWPnjG75iq21rJksYunx2WxdWsRl/xfJHfdHevMwWwtrPjTqQVf+DN0aQ6Pd4bQfZNeay1rf/Ww8L18PvyggJwcH5OnJnHaaeVv+rxxo4cunVPpcl00g+6Nhw3bnf7p32wo/Unio2Bid2easwPIy/Mxc0YOAOedH0HTpmGlSjTdbkvvHqmkpfl4+bVkatcu/2jb7y/K5+EHM7i6cxRDH4wvdc31Tz+6uanPDsY+kcjF7apoFHgREREROeIp8Q4ASrwDi2fqUkz/eWSaCIY2upZGPf7LrbfG7jt/tp+rwMesWbnMnpmDMYY+N9Xihh4xB51jetu2It5flM+i9/LZsMFLaChc0DqCrtfHcPoZFe9v/MioDBa+l8+bb6dQt17V9Cn+8Qc3wx/OYMuWIoyBoiKIizOc2zKCVudHcG7LCOLi9t+8etz/Mnn5pTzGP1O7UqaBeu6ZLGa+mEvvPjG0Oj+ChseEkJAQdMAkfNLEbF6ckcMnn9YjNlbNwEVERESkaijxDgBKvAODL8/N5qvn0vCjr1gRcyzvdu1On/sbcFzj0jWx/vdfL+OfymLJYhcNGgQzcFAcrS+M2CPxy8/38ekSFwvfy2flCjfWwqmnhdG+QxTtLoms1ORv61Yvna7cRvsOUTw8vPKaUQN4PJYXJmUza2Yu9RsEM2p0Asc1DuXrr1ws/dLFsqVuMjN9BAVBs1PDaNXKScQbNwnBGMOypS4G3JlG1+ujGTykjNOxlcDns9w/JJ0li1271kXHGI5pGMLRDUNoeEwIDYs916oVRI9uqYSFG6a/WPFpxERERERESqLEOwAEfOL9679wYr1dUz8dFjxeSM1xmnwfRFGR5eclGcQNms2xGf/y9kkX0mBGZ5qfXb6mx9987WLc/7LYsMHLuS3DGXhPHDt2FLHwvXyWLHZRUGBp0CCY9pdH0b59FEc3rLoRrsc9mcmrL+fx2hvJNGpUOX2016/38PCDGfy2zsNVnaIYOCiO6Og9vzAoKrKsWe1h6Zculi51sW6tB4CUusG0ahXBp0sKSKwdxKw5yQdtGVAW1lr+2VzEpk1eNm30Os+bvPy9ycu//xbt8euQkBBERoaP2/rHctPNFZ9GTERERESkJEq8A0BAJ96b0+GY++CEFGearJ7nQkpcdZcKinywJRP+3LHn4y//8+YM8JXt9yQ3JIJ1D/bk9GEtyjXIV3Fej+X11/N4YVI2ublOOWJiDO0uiaTD5VGHbP7m9PQiOl6+jVbnR/DY4yUP6lYaPp/llZfzeO6ZLKKjg3hoWDytLyzdlxPbU4tYttRJwr/52o3Pwuy5dWhcytYElaGw0PLPZi8bN+5Oxnfs8DHkvrhyD2InIiIiIlIaSrwDQEAn3nlueHWlM0jYsj8gOAgub+Yk4e2bQkj5B8Q6IGthe86+CfXOx8Y08BTteUz9eDg2afejfrwz93Txt5NnWf1LIatWFbJlSxFBQdC4cSjNTg2nSf9TCWtcudNlpacXseCNPBo1CuX8CyIqtXa3tCY/n820qTnMfbkOJ54YVq5zbNtWxMhhGaxY4eb8CyJ4aFh8uQdDKyy05OX6SEisot8dEREREZEAo8Q7AAR04l3c2i3w4jKYtRy2p2M+oQAADkBJREFUZUPdOKcG/MZW8J+6ZT9fZv6+CXXxJDu/cM/9k2J2J9WNkvZMshvWdubI3g+32/LlF06/6uXLXBQVwYn/DaXD5VH836WRJNbwBDA3x8eVl2/llKZhPPNcUpmP/+D9fB5/LBOvFwYNjqNjp6hDUlsvIiIiIlJTKPGuAsaYS4EJQDAwzVo79kD7B3LinZPjY+oL2bjdTgLrclk8+V6a/L6Ws3/9llM3ryXY+lgd35BFKWfwUezJ5JkwQkMNMUEejvJm0sCTST13BvXcmaTkZ5Ccn0FSbjrRha49ruUOCyczIZGs2onk1E4kr05t8pNrk5+SiKtuIkGxkYSEGkJDISzMEBpqCAmB0FDjf83u7aGG9HQfH3yQz8cfFpCba0lODuKy9lG0vzzqkDZxDgSzZubw7IRsnp6QyMmnhBERYQgPNwec9is728fYMZl89GEBTZuGMuqRxCrtjy4iIiIiUlMp8a5kxphg4DegHbAZWAlcb61dU9IxgZx4p6cXcdUV2wgPdxK1iEj/sz9xq1OUy9m/f89Zv6wkKW07hWFhpNetS630DKJzc/Y4lyc4hPTYBHbEJJIanUBqVDxbIxPYEpHAv6HxZBCJx+uMmO3x7H6uiIgIQ5u2EXS4PIrmLcJLNb90TeQq8HHVldvYscO3x/qQEOdnFB6xO6YR/vhu2uQlI9PHLX1r0btPLUJCjsyfnYiIiIhIRSnxrmTGmHOBEdba//O/HgpgrX2spGMCOfEuNWvhq/VOX/C/0qBRbX8z8Dr+puG1nabpZWyibK3Fu3cyXuhf9hZb9ti9EnZLaKjh7HPCiYrS/MzgTHe2coV7V8sFt8vuXvY/F18ODzfcdnssJ51cvn7hIiIiIiLiOBwT70Bv69oA+LvY683A2XvvZIzpC/QFCAurAYmNMdCyifOo1NM6TcdDQ1XbWlH164fQ8apAv31ERERERI48Ze2ufCjUiOpLa+0Ua21za23zkBAlQyIiIiIiIkcif3flicBlwEnA9caYk6q3VIGfeP8DHF3s9VH+dSIiIiIiIiJ7Owv4w1q7wVpbCLwCdKzmMgV84r0SON4Yc6wxJgzoCrxTzWUSERERERGR6hNijPm22KNvsW37667c4NAWb18B3S7bWus1xtwBfIjTPn+GtXZ1NRdLREREREREqo/XWtu8ugtRFgGdeANYaxcBi6q7HCIiIiIiIhLwArK7cqA3NRcREREREREprYDsrhzwNd4iIiIiIiIipRGo3ZWNtba6y1CpoqOjbV5eXnUXQ0RERERERKqAMSbfWhtd3eUoCzU1FxEREREREalCSrxFREREREREqpASbxEREREREZEqpMRbREREREREpAop8RYRERERERGpQkq8RURERERERKqQEm8RERERERGRKqTEW0RERERERKQKKfEWERERERERqUJKvEVERERERESqkLHWVncZKpUxxgcUVHc5KlEI4K3uQkiFKY41h2JZMyiONYPiWHMoljWD4lgzHA5xjLTWHlaVyDUu8a5pjDHfWmubV3c5pGIUx5pDsawZFMeaQXGsORTLmkFxrBkUx6pxWH1LICIiIiIiInK4UeItIiIiIiIiUoWUeAe+KdVdAKkUimPNoVjWDIpjzaA41hyKZc2gONYMimMVUB9vERERERERkSqkGm8RERERERGRKqTEuxoYY2YYY1KNMb8UW3eqMeYrY8zPxph3jTGx/vWNjDEFxpgf/Y/JxY4507//H8aYZ4wxpjrez5GqLHH0b2vm37bavz3Cv15xrEZlvB+7F7sXfzTG+Iwxp/m3KY7VrIyxDDXGzPKv/9UYM7TYMZcaY9b5Y3l/dbyXI1kZ4xhmjHnRv/4nY8yFxY7RPVmNjDFHG2M+Ncas8f/dG+Bfn2iM+dgY87v/OcG/3vjj9IcxZpUx5oxi5+rl3/93Y0yv6npPR6JyxPFE/73qNsYM3utc+mytJuWIY3f/ffizMWa5MebUYudSHMvLWqvHIX4AFwBnAL8UW7cSaO1fvhEY7V9uVHy/vc6zAjgHMMD7wGXV/d6OpEcZ4xgCrAJO9b+uDQQrjtX/KEsc9zquKbC+2GvF8TCKJdANeMW/HAX85f+8DQbWA8cBYcBPwEnV/d6OpEcZ49gfeNG/nAx8BwT5X+uerN441gPO8C/XAn4DTgKeAO73r78feNy/3N4fJ+OP2zf+9YnABv9zgn85obrf35HyKEcck4EWwKPA4GLn0Wfr4RXHljvvM+CyYvej4liBh2q8q4G19gsgfa/VJwBf+Jc/Bjof6BzGmHpArLX2a+vcCbOBqyq7rFKyMsbxEmCVtfYn/7Fp1toixbH6VeB+vB54BXQ/BooyxtIC0caYECASKASygbOAP6y1G6y1hTgx7ljVZZfdyhjHk4Al/uNSgUygue7J6met3WKt/d6/nAP8CjTAuZ9m+Xebxe64dARmW8fXQLw/jv8HfGytTbfWZuDE/9JD+FaOaGWNo7U21Vq7EvDsdSp9tlajcsRxuf9+A/gaOMq/rDhWgBLvwLGa3b+41wJHF9t2rDHmB2PM58aY8/3rGgCbi+2z2b9OqldJcTwBsMaYD40x3xtjhvjXK46B6UD3407XAS/7lxXHwFVSLOcDecAWYBPwpLU2HSdufxc7XrEMDCXF8SfgSmNMiDHmWOBM/zbdkwHEGNMIOB34Bkix1m7xb9oKpPiXS7r3dE8GiFLGsSSKY4AoRxxvwmmNAopjhSjxDhw3ArcbY77DaQJS6F+/BWhorT0duAd4yRTrNywBp6Q4hgCtgO7+507GmLbVU0QphZLiCIAx5mwg31r7y/4OloBSUizPAoqA+sCxwCBjzHHVU0QphZLiOAPnH79vgfHAcpy4SoAwxsQAbwB3W2uzi2/zt0bQ9DqHAcWxZihrHI0xF+Ek3vcdskLWYCHVXQBxWGvX4jRHxhhzAtDBv94NuP3L3xlj1uPUnv7D7mYf+Jf/OZRlln2VFEecfwy/sNbu8G9bhNOHcS6KY8A5QBx36sru2m7Q/RiwDhDLbsAH1loPkGqMWQY0x/kmv3gLB8UyABzgb6QXGLhzP2PMcpy+ixnonqx2xphQnH/y51lrF/hXbzPG1LPWbvE3JU/1r/+H/d97/wAX7rX+s6ost+ypjHEsSUnxlUOkrHE0xjQDpuGMj5HmX604VoBqvAOEMSbZ/xwEPARM9r+uY4wJ9i8fBxwPbPA3C8k2xpzjH6m1J/B2tRRedikpjsCHQFNjTJS/T2lrYI3iGJgOEMed67rg798NTt8pFMeAdIBYbgLa+LdF4wzmtBZnEK/jjTHHGmPCcL5keedQl1v2dIC/kVH++GGMaQd4rbX6bA0A/p/7dOBXa+1TxTa9A+wcmbwXu+PyDtDTOM4Bsvxx/BC4xBiT4B9x+RL/OjkEyhHHkuiztRqVNY7GmIbAAqCHtfa3YvsrjhWgGu9qYIx5Gefb2yRjzGZgOBBjjOnv32UB8KJ/+QJglDHGA/iAfv5+iAC3AzNxBgZ6n939L+QQKEscrbUZxpincD6wLLDIWrvQv5/iWI3KeD+Cc0/+ba3dsNepFMdqVsZYTgReNMasxhlF+UVr7Sr/ee7A+cc+GJhhrV196N6FlDGOycCHxhgfTq1Lj2Kn0j1Zvc7DicfPxpgf/eseAMYCrxljbgI24nyRCbAIZ2TzP4B8oA+AtTbdGDMa5+8nwKhi/wdJ1StTHI0xdXG6fsQCPmPM3TijXmfrs7ValfV+HIYzA8/zTs6O11rb3FrrVRzLzzjN+UVERERERESkKqipuYiIiIiIiEgVUuItIiIiIiIiUoWUeIuIiIiIiIhUISXeIiIiIiIiIlVIibeIiIiIiIhIFVLiLSIiUk2MMfONMenGmJT9bLvQGOMzxgyojrKJiIhI5dF0YiIiItXEn3CvAZZYa68ttj4SWAWkAudba33VVEQRERGpBKrxFhERqSbW2m3AAOAaY8xVxTaNAI4CbqzqpNsYE2qMMVV5DRERkSOdEm8REZFqZK2dCywEJhpj4owxZwCDgBHW2nUAxpi+xpifjDEuY8wOY8x0Y0xi8fMYY+4wxnzlb7qeaYz52hjTYa99GhljrDHmdmPME8aYfwE3EH9o3q2IiMiRSU3NRUREqpkxpgGwGngTOA3wAudYa4uMMWNxEvFngA+BBsAjwGagpbW2yH+OJ4Ffgb+AEOAKoD9wmbX2A/8+jYA/gX+BlcA0IBj4yFpbcAjeqoiIyBFJibeIiEgAMMbcDEwFPMCZ1tqf/YnyemCktXZUsX3PA5YCnay1b+3nXEE4rdoWAQXW2o7+9Y1wEu8f/NfQPwEiIiKHgJqai4iIBABr7TRgC/CWtfZn/+p2OH+r5xljQnY+gG+AHOCCnccbY840xrxnjNmGU2Pu8R//n/1c7i0l3SIiIoeOEm8REZHAUeh/7JTsf/4DJ5Eu/qgF1AYwxhwNLAYSgTuBlkAL4AMgYj/X2VIFZRcREZEShFR3AURERKREaf7nS4CMA2y/FIgDulhrN+/caIyJKuG8qu0WERE5hJR4i4iIBK6PAR/Q0Fr78QH225lge3auMMacAJyHMwibiIiIVCMl3iIiIgHKWrveGPM48Jwx5j/A54ALOBqn//Y0a+2nwCc4/bpnG2PGAfWAkcAm1K1MRESk2inxFhERCWDW2geMMb/iTA3WH6eZ+N84fbp/9++z2hjTHRgFvIMzEvr9OE3QL6yGYouIiEgxmk5MREREREREpAqp+ZmIiIiIiIhIFVLiLSIiIiIiIlKFlHiLiIiIiIiIVCEl3iIiIiIiIiJVSIm3iIiIiIiISBVS4i0iIiIiIiJShZR4i4iIiIiIiFQhJd4iIiIiIiIiVUiJt4iIiIiIiEgV+n/q06ub5XJ3nAAAAABJRU5ErkJggg==\">"
      ],
      "metadata": {
        "id": "bwWCE41CSnwt"
      }
    },
    {
      "cell_type": "markdown",
      "metadata": {
        "id": "uBbt9-lJIqu7"
      },
      "source": [
        "##**Question**: How many mini-figures have been produced so far?"
      ]
    },
    {
      "cell_type": "code",
      "source": [
        "figures = pd.read_csv(\"Data/minifigs.csv\")"
      ],
      "metadata": {
        "id": "wNvR8abNQnye"
      },
      "execution_count": 114,
      "outputs": []
    },
    {
      "cell_type": "code",
      "source": [
        "figures.tail()"
      ],
      "metadata": {
        "colab": {
          "base_uri": "https://localhost:8080/",
          "height": 206
        },
        "id": "IyPCkk_uQnFf",
        "outputId": "5a74eb48-2768-48c7-db07-9d84497d962b"
      },
      "execution_count": 115,
      "outputs": [
        {
          "output_type": "execute_result",
          "data": {
            "text/plain": [
              "          fig_num                                               name  \\\n",
              "12370  fig-012888  Woman, White Torso with Koi, Red Legs, Black Hair   \n",
              "12371  fig-012889         Red Torso with Koi, White Legs, Black Hair   \n",
              "12372  fig-012890                                Racer - Sudsy Simon   \n",
              "12373  fig-012891   Hermione Granger - Short Black Legs, Black Skirt   \n",
              "12374  fig-012892                                              Sweep   \n",
              "\n",
              "       num_parts  \n",
              "12370          4  \n",
              "12371          4  \n",
              "12372          5  \n",
              "12373          5  \n",
              "12374         13  "
            ],
            "text/html": [
              "\n",
              "  <div id=\"df-fab5b6b4-dced-4256-a050-e2c6820fa8fd\">\n",
              "    <div class=\"colab-df-container\">\n",
              "      <div>\n",
              "<style scoped>\n",
              "    .dataframe tbody tr th:only-of-type {\n",
              "        vertical-align: middle;\n",
              "    }\n",
              "\n",
              "    .dataframe tbody tr th {\n",
              "        vertical-align: top;\n",
              "    }\n",
              "\n",
              "    .dataframe thead th {\n",
              "        text-align: right;\n",
              "    }\n",
              "</style>\n",
              "<table border=\"1\" class=\"dataframe\">\n",
              "  <thead>\n",
              "    <tr style=\"text-align: right;\">\n",
              "      <th></th>\n",
              "      <th>fig_num</th>\n",
              "      <th>name</th>\n",
              "      <th>num_parts</th>\n",
              "    </tr>\n",
              "  </thead>\n",
              "  <tbody>\n",
              "    <tr>\n",
              "      <th>12370</th>\n",
              "      <td>fig-012888</td>\n",
              "      <td>Woman, White Torso with Koi, Red Legs, Black Hair</td>\n",
              "      <td>4</td>\n",
              "    </tr>\n",
              "    <tr>\n",
              "      <th>12371</th>\n",
              "      <td>fig-012889</td>\n",
              "      <td>Red Torso with Koi, White Legs, Black Hair</td>\n",
              "      <td>4</td>\n",
              "    </tr>\n",
              "    <tr>\n",
              "      <th>12372</th>\n",
              "      <td>fig-012890</td>\n",
              "      <td>Racer - Sudsy Simon</td>\n",
              "      <td>5</td>\n",
              "    </tr>\n",
              "    <tr>\n",
              "      <th>12373</th>\n",
              "      <td>fig-012891</td>\n",
              "      <td>Hermione Granger - Short Black Legs, Black Skirt</td>\n",
              "      <td>5</td>\n",
              "    </tr>\n",
              "    <tr>\n",
              "      <th>12374</th>\n",
              "      <td>fig-012892</td>\n",
              "      <td>Sweep</td>\n",
              "      <td>13</td>\n",
              "    </tr>\n",
              "  </tbody>\n",
              "</table>\n",
              "</div>\n",
              "      <button class=\"colab-df-convert\" onclick=\"convertToInteractive('df-fab5b6b4-dced-4256-a050-e2c6820fa8fd')\"\n",
              "              title=\"Convert this dataframe to an interactive table.\"\n",
              "              style=\"display:none;\">\n",
              "        \n",
              "  <svg xmlns=\"http://www.w3.org/2000/svg\" height=\"24px\"viewBox=\"0 0 24 24\"\n",
              "       width=\"24px\">\n",
              "    <path d=\"M0 0h24v24H0V0z\" fill=\"none\"/>\n",
              "    <path d=\"M18.56 5.44l.94 2.06.94-2.06 2.06-.94-2.06-.94-.94-2.06-.94 2.06-2.06.94zm-11 1L8.5 8.5l.94-2.06 2.06-.94-2.06-.94L8.5 2.5l-.94 2.06-2.06.94zm10 10l.94 2.06.94-2.06 2.06-.94-2.06-.94-.94-2.06-.94 2.06-2.06.94z\"/><path d=\"M17.41 7.96l-1.37-1.37c-.4-.4-.92-.59-1.43-.59-.52 0-1.04.2-1.43.59L10.3 9.45l-7.72 7.72c-.78.78-.78 2.05 0 2.83L4 21.41c.39.39.9.59 1.41.59.51 0 1.02-.2 1.41-.59l7.78-7.78 2.81-2.81c.8-.78.8-2.07 0-2.86zM5.41 20L4 18.59l7.72-7.72 1.47 1.35L5.41 20z\"/>\n",
              "  </svg>\n",
              "      </button>\n",
              "      \n",
              "  <style>\n",
              "    .colab-df-container {\n",
              "      display:flex;\n",
              "      flex-wrap:wrap;\n",
              "      gap: 12px;\n",
              "    }\n",
              "\n",
              "    .colab-df-convert {\n",
              "      background-color: #E8F0FE;\n",
              "      border: none;\n",
              "      border-radius: 50%;\n",
              "      cursor: pointer;\n",
              "      display: none;\n",
              "      fill: #1967D2;\n",
              "      height: 32px;\n",
              "      padding: 0 0 0 0;\n",
              "      width: 32px;\n",
              "    }\n",
              "\n",
              "    .colab-df-convert:hover {\n",
              "      background-color: #E2EBFA;\n",
              "      box-shadow: 0px 1px 2px rgba(60, 64, 67, 0.3), 0px 1px 3px 1px rgba(60, 64, 67, 0.15);\n",
              "      fill: #174EA6;\n",
              "    }\n",
              "\n",
              "    [theme=dark] .colab-df-convert {\n",
              "      background-color: #3B4455;\n",
              "      fill: #D2E3FC;\n",
              "    }\n",
              "\n",
              "    [theme=dark] .colab-df-convert:hover {\n",
              "      background-color: #434B5C;\n",
              "      box-shadow: 0px 1px 3px 1px rgba(0, 0, 0, 0.15);\n",
              "      filter: drop-shadow(0px 1px 2px rgba(0, 0, 0, 0.3));\n",
              "      fill: #FFFFFF;\n",
              "    }\n",
              "  </style>\n",
              "\n",
              "      <script>\n",
              "        const buttonEl =\n",
              "          document.querySelector('#df-fab5b6b4-dced-4256-a050-e2c6820fa8fd button.colab-df-convert');\n",
              "        buttonEl.style.display =\n",
              "          google.colab.kernel.accessAllowed ? 'block' : 'none';\n",
              "\n",
              "        async function convertToInteractive(key) {\n",
              "          const element = document.querySelector('#df-fab5b6b4-dced-4256-a050-e2c6820fa8fd');\n",
              "          const dataTable =\n",
              "            await google.colab.kernel.invokeFunction('convertToInteractive',\n",
              "                                                     [key], {});\n",
              "          if (!dataTable) return;\n",
              "\n",
              "          const docLinkHtml = 'Like what you see? Visit the ' +\n",
              "            '<a target=\"_blank\" href=https://colab.research.google.com/notebooks/data_table.ipynb>data table notebook</a>'\n",
              "            + ' to learn more about interactive tables.';\n",
              "          element.innerHTML = '';\n",
              "          dataTable['output_type'] = 'display_data';\n",
              "          await google.colab.output.renderOutput(dataTable, element);\n",
              "          const docLink = document.createElement('div');\n",
              "          docLink.innerHTML = docLinkHtml;\n",
              "          element.appendChild(docLink);\n",
              "        }\n",
              "      </script>\n",
              "    </div>\n",
              "  </div>\n",
              "  "
            ]
          },
          "metadata": {},
          "execution_count": 115
        }
      ]
    },
    {
      "cell_type": "markdown",
      "source": [
        "**Answer:** Data shows that so far 12374 mini-figures have been produced.\n"
      ],
      "metadata": {
        "id": "IOajKx1IRZ7X"
      }
    },
    {
      "cell_type": "markdown",
      "source": [
        "##**Question**: Has the size and complexity of LEGO sets increased over time based on the number of parts? "
      ],
      "metadata": {
        "id": "i2f9cEgHTMr1"
      }
    },
    {
      "cell_type": "code",
      "execution_count": 116,
      "metadata": {
        "id": "W7BcH9vuIqu9"
      },
      "outputs": [],
      "source": [
        "parts_per_set = sets.groupby('year').agg({'num_parts':pd.Series.mean})"
      ]
    },
    {
      "cell_type": "code",
      "execution_count": 117,
      "metadata": {
        "id": "fjbb3tZcIqu_",
        "colab": {
          "base_uri": "https://localhost:8080/",
          "height": 237
        },
        "outputId": "12c7bd70-aee1-4124-9d27-3135de2ac3e9"
      },
      "outputs": [
        {
          "output_type": "execute_result",
          "data": {
            "text/plain": [
              "      num_parts\n",
              "year           \n",
              "1949  99.600000\n",
              "1950   1.000000\n",
              "1953  12.500000\n",
              "1954   8.357143\n",
              "1955  15.758621"
            ],
            "text/html": [
              "\n",
              "  <div id=\"df-7ced6340-e1de-4566-9c1b-24babab40385\">\n",
              "    <div class=\"colab-df-container\">\n",
              "      <div>\n",
              "<style scoped>\n",
              "    .dataframe tbody tr th:only-of-type {\n",
              "        vertical-align: middle;\n",
              "    }\n",
              "\n",
              "    .dataframe tbody tr th {\n",
              "        vertical-align: top;\n",
              "    }\n",
              "\n",
              "    .dataframe thead th {\n",
              "        text-align: right;\n",
              "    }\n",
              "</style>\n",
              "<table border=\"1\" class=\"dataframe\">\n",
              "  <thead>\n",
              "    <tr style=\"text-align: right;\">\n",
              "      <th></th>\n",
              "      <th>num_parts</th>\n",
              "    </tr>\n",
              "    <tr>\n",
              "      <th>year</th>\n",
              "      <th></th>\n",
              "    </tr>\n",
              "  </thead>\n",
              "  <tbody>\n",
              "    <tr>\n",
              "      <th>1949</th>\n",
              "      <td>99.600000</td>\n",
              "    </tr>\n",
              "    <tr>\n",
              "      <th>1950</th>\n",
              "      <td>1.000000</td>\n",
              "    </tr>\n",
              "    <tr>\n",
              "      <th>1953</th>\n",
              "      <td>12.500000</td>\n",
              "    </tr>\n",
              "    <tr>\n",
              "      <th>1954</th>\n",
              "      <td>8.357143</td>\n",
              "    </tr>\n",
              "    <tr>\n",
              "      <th>1955</th>\n",
              "      <td>15.758621</td>\n",
              "    </tr>\n",
              "  </tbody>\n",
              "</table>\n",
              "</div>\n",
              "      <button class=\"colab-df-convert\" onclick=\"convertToInteractive('df-7ced6340-e1de-4566-9c1b-24babab40385')\"\n",
              "              title=\"Convert this dataframe to an interactive table.\"\n",
              "              style=\"display:none;\">\n",
              "        \n",
              "  <svg xmlns=\"http://www.w3.org/2000/svg\" height=\"24px\"viewBox=\"0 0 24 24\"\n",
              "       width=\"24px\">\n",
              "    <path d=\"M0 0h24v24H0V0z\" fill=\"none\"/>\n",
              "    <path d=\"M18.56 5.44l.94 2.06.94-2.06 2.06-.94-2.06-.94-.94-2.06-.94 2.06-2.06.94zm-11 1L8.5 8.5l.94-2.06 2.06-.94-2.06-.94L8.5 2.5l-.94 2.06-2.06.94zm10 10l.94 2.06.94-2.06 2.06-.94-2.06-.94-.94-2.06-.94 2.06-2.06.94z\"/><path d=\"M17.41 7.96l-1.37-1.37c-.4-.4-.92-.59-1.43-.59-.52 0-1.04.2-1.43.59L10.3 9.45l-7.72 7.72c-.78.78-.78 2.05 0 2.83L4 21.41c.39.39.9.59 1.41.59.51 0 1.02-.2 1.41-.59l7.78-7.78 2.81-2.81c.8-.78.8-2.07 0-2.86zM5.41 20L4 18.59l7.72-7.72 1.47 1.35L5.41 20z\"/>\n",
              "  </svg>\n",
              "      </button>\n",
              "      \n",
              "  <style>\n",
              "    .colab-df-container {\n",
              "      display:flex;\n",
              "      flex-wrap:wrap;\n",
              "      gap: 12px;\n",
              "    }\n",
              "\n",
              "    .colab-df-convert {\n",
              "      background-color: #E8F0FE;\n",
              "      border: none;\n",
              "      border-radius: 50%;\n",
              "      cursor: pointer;\n",
              "      display: none;\n",
              "      fill: #1967D2;\n",
              "      height: 32px;\n",
              "      padding: 0 0 0 0;\n",
              "      width: 32px;\n",
              "    }\n",
              "\n",
              "    .colab-df-convert:hover {\n",
              "      background-color: #E2EBFA;\n",
              "      box-shadow: 0px 1px 2px rgba(60, 64, 67, 0.3), 0px 1px 3px 1px rgba(60, 64, 67, 0.15);\n",
              "      fill: #174EA6;\n",
              "    }\n",
              "\n",
              "    [theme=dark] .colab-df-convert {\n",
              "      background-color: #3B4455;\n",
              "      fill: #D2E3FC;\n",
              "    }\n",
              "\n",
              "    [theme=dark] .colab-df-convert:hover {\n",
              "      background-color: #434B5C;\n",
              "      box-shadow: 0px 1px 3px 1px rgba(0, 0, 0, 0.15);\n",
              "      filter: drop-shadow(0px 1px 2px rgba(0, 0, 0, 0.3));\n",
              "      fill: #FFFFFF;\n",
              "    }\n",
              "  </style>\n",
              "\n",
              "      <script>\n",
              "        const buttonEl =\n",
              "          document.querySelector('#df-7ced6340-e1de-4566-9c1b-24babab40385 button.colab-df-convert');\n",
              "        buttonEl.style.display =\n",
              "          google.colab.kernel.accessAllowed ? 'block' : 'none';\n",
              "\n",
              "        async function convertToInteractive(key) {\n",
              "          const element = document.querySelector('#df-7ced6340-e1de-4566-9c1b-24babab40385');\n",
              "          const dataTable =\n",
              "            await google.colab.kernel.invokeFunction('convertToInteractive',\n",
              "                                                     [key], {});\n",
              "          if (!dataTable) return;\n",
              "\n",
              "          const docLinkHtml = 'Like what you see? Visit the ' +\n",
              "            '<a target=\"_blank\" href=https://colab.research.google.com/notebooks/data_table.ipynb>data table notebook</a>'\n",
              "            + ' to learn more about interactive tables.';\n",
              "          element.innerHTML = '';\n",
              "          dataTable['output_type'] = 'display_data';\n",
              "          await google.colab.output.renderOutput(dataTable, element);\n",
              "          const docLink = document.createElement('div');\n",
              "          docLink.innerHTML = docLinkHtml;\n",
              "          element.appendChild(docLink);\n",
              "        }\n",
              "      </script>\n",
              "    </div>\n",
              "  </div>\n",
              "  "
            ]
          },
          "metadata": {},
          "execution_count": 117
        }
      ],
      "source": [
        "parts_per_set.head()"
      ]
    },
    {
      "cell_type": "code",
      "execution_count": 118,
      "metadata": {
        "id": "EQNZ0D7JIqvB",
        "colab": {
          "base_uri": "https://localhost:8080/",
          "height": 463
        },
        "outputId": "32d47547-9d67-42a3-fff3-27c1cf19d6fe"
      },
      "outputs": [
        {
          "output_type": "execute_result",
          "data": {
            "text/plain": [
              "<matplotlib.collections.PathCollection at 0x7f2bdd3f9f90>"
            ]
          },
          "metadata": {},
          "execution_count": 118
        },
        {
          "output_type": "display_data",
          "data": {
            "text/plain": [
              "<Figure size 1152x576 with 1 Axes>"
            ],
            "image/png": "[encoded data removed]"
          },
          "metadata": {
            "needs_background": "light"
          }
        }
      ],
      "source": [
        "plt.figure(figsize=(16,8))\n",
        "plt.xticks(fontsize=14,rotation=45)\n",
        "plt.yticks(fontsize=14)\n",
        "plt.xlabel('Year',fontsize=16)\n",
        "plt.ylabel('Number of elements per set',fontsize=16)\n",
        "plt.scatter(parts_per_set.index[:-1], parts_per_set['num_parts'][:-1])"
      ]
    },
    {
      "cell_type": "markdown",
      "source": [
        "**Answer**: Yes, the complexity of sets increased with time.\n",
        "<img src=\"data:image/png;base64,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\">"
      ],
      "metadata": {
        "id": "XNRg8Z_4UBz7"
      }
    },
    {
      "cell_type": "markdown",
      "metadata": {
        "id": "xK226Ip-IqvE"
      },
      "source": [
        "##**Question**: Which themes contains the highest number of sets?"
      ]
    },
    {
      "cell_type": "code",
      "execution_count": 134,
      "metadata": {
        "id": "3uN3wN5sIqvH"
      },
      "outputs": [],
      "source": [
        "themes = pd.read_csv('Data/themes.csv')"
      ]
    },
    {
      "cell_type": "code",
      "source": [
        "themes.fillna(0,inplace=True)"
      ],
      "metadata": {
        "id": "r4PFJ2VD4gPL"
      },
      "execution_count": 135,
      "outputs": []
    },
    {
      "cell_type": "code",
      "execution_count": 136,
      "metadata": {
        "id": "xYEDlY-_IqvL",
        "colab": {
          "base_uri": "https://localhost:8080/",
          "height": 206
        },
        "outputId": "64202c69-bd2b-49e2-aa93-b59f7a285d92"
      },
      "outputs": [
        {
          "output_type": "execute_result",
          "data": {
            "text/plain": [
              "   id            name  parent_id\n",
              "0   1         Technic        0.0\n",
              "1   3     Competition        1.0\n",
              "2   4  Expert Builder        1.0\n",
              "3  16      RoboRiders        1.0\n",
              "4  17  Speed Slammers        1.0"
            ],
            "text/html": [
              "\n",
              "  <div id=\"df-721d720f-12d7-4cd9-836d-568489c3293b\">\n",
              "    <div class=\"colab-df-container\">\n",
              "      <div>\n",
              "<style scoped>\n",
              "    .dataframe tbody tr th:only-of-type {\n",
              "        vertical-align: middle;\n",
              "    }\n",
              "\n",
              "    .dataframe tbody tr th {\n",
              "        vertical-align: top;\n",
              "    }\n",
              "\n",
              "    .dataframe thead th {\n",
              "        text-align: right;\n",
              "    }\n",
              "</style>\n",
              "<table border=\"1\" class=\"dataframe\">\n",
              "  <thead>\n",
              "    <tr style=\"text-align: right;\">\n",
              "      <th></th>\n",
              "      <th>id</th>\n",
              "      <th>name</th>\n",
              "      <th>parent_id</th>\n",
              "    </tr>\n",
              "  </thead>\n",
              "  <tbody>\n",
              "    <tr>\n",
              "      <th>0</th>\n",
              "      <td>1</td>\n",
              "      <td>Technic</td>\n",
              "      <td>0.0</td>\n",
              "    </tr>\n",
              "    <tr>\n",
              "      <th>1</th>\n",
              "      <td>3</td>\n",
              "      <td>Competition</td>\n",
              "      <td>1.0</td>\n",
              "    </tr>\n",
              "    <tr>\n",
              "      <th>2</th>\n",
              "      <td>4</td>\n",
              "      <td>Expert Builder</td>\n",
              "      <td>1.0</td>\n",
              "    </tr>\n",
              "    <tr>\n",
              "      <th>3</th>\n",
              "      <td>16</td>\n",
              "      <td>RoboRiders</td>\n",
              "      <td>1.0</td>\n",
              "    </tr>\n",
              "    <tr>\n",
              "      <th>4</th>\n",
              "      <td>17</td>\n",
              "      <td>Speed Slammers</td>\n",
              "      <td>1.0</td>\n",
              "    </tr>\n",
              "  </tbody>\n",
              "</table>\n",
              "</div>\n",
              "      <button class=\"colab-df-convert\" onclick=\"convertToInteractive('df-721d720f-12d7-4cd9-836d-568489c3293b')\"\n",
              "              title=\"Convert this dataframe to an interactive table.\"\n",
              "              style=\"display:none;\">\n",
              "        \n",
              "  <svg xmlns=\"http://www.w3.org/2000/svg\" height=\"24px\"viewBox=\"0 0 24 24\"\n",
              "       width=\"24px\">\n",
              "    <path d=\"M0 0h24v24H0V0z\" fill=\"none\"/>\n",
              "    <path d=\"M18.56 5.44l.94 2.06.94-2.06 2.06-.94-2.06-.94-.94-2.06-.94 2.06-2.06.94zm-11 1L8.5 8.5l.94-2.06 2.06-.94-2.06-.94L8.5 2.5l-.94 2.06-2.06.94zm10 10l.94 2.06.94-2.06 2.06-.94-2.06-.94-.94-2.06-.94 2.06-2.06.94z\"/><path d=\"M17.41 7.96l-1.37-1.37c-.4-.4-.92-.59-1.43-.59-.52 0-1.04.2-1.43.59L10.3 9.45l-7.72 7.72c-.78.78-.78 2.05 0 2.83L4 21.41c.39.39.9.59 1.41.59.51 0 1.02-.2 1.41-.59l7.78-7.78 2.81-2.81c.8-.78.8-2.07 0-2.86zM5.41 20L4 18.59l7.72-7.72 1.47 1.35L5.41 20z\"/>\n",
              "  </svg>\n",
              "      </button>\n",
              "      \n",
              "  <style>\n",
              "    .colab-df-container {\n",
              "      display:flex;\n",
              "      flex-wrap:wrap;\n",
              "      gap: 12px;\n",
              "    }\n",
              "\n",
              "    .colab-df-convert {\n",
              "      background-color: #E8F0FE;\n",
              "      border: none;\n",
              "      border-radius: 50%;\n",
              "      cursor: pointer;\n",
              "      display: none;\n",
              "      fill: #1967D2;\n",
              "      height: 32px;\n",
              "      padding: 0 0 0 0;\n",
              "      width: 32px;\n",
              "    }\n",
              "\n",
              "    .colab-df-convert:hover {\n",
              "      background-color: #E2EBFA;\n",
              "      box-shadow: 0px 1px 2px rgba(60, 64, 67, 0.3), 0px 1px 3px 1px rgba(60, 64, 67, 0.15);\n",
              "      fill: #174EA6;\n",
              "    }\n",
              "\n",
              "    [theme=dark] .colab-df-convert {\n",
              "      background-color: #3B4455;\n",
              "      fill: #D2E3FC;\n",
              "    }\n",
              "\n",
              "    [theme=dark] .colab-df-convert:hover {\n",
              "      background-color: #434B5C;\n",
              "      box-shadow: 0px 1px 3px 1px rgba(0, 0, 0, 0.15);\n",
              "      filter: drop-shadow(0px 1px 2px rgba(0, 0, 0, 0.3));\n",
              "      fill: #FFFFFF;\n",
              "    }\n",
              "  </style>\n",
              "\n",
              "      <script>\n",
              "        const buttonEl =\n",
              "          document.querySelector('#df-721d720f-12d7-4cd9-836d-568489c3293b button.colab-df-convert');\n",
              "        buttonEl.style.display =\n",
              "          google.colab.kernel.accessAllowed ? 'block' : 'none';\n",
              "\n",
              "        async function convertToInteractive(key) {\n",
              "          const element = document.querySelector('#df-721d720f-12d7-4cd9-836d-568489c3293b');\n",
              "          const dataTable =\n",
              "            await google.colab.kernel.invokeFunction('convertToInteractive',\n",
              "                                                     [key], {});\n",
              "          if (!dataTable) return;\n",
              "\n",
              "          const docLinkHtml = 'Like what you see? Visit the ' +\n",
              "            '<a target=\"_blank\" href=https://colab.research.google.com/notebooks/data_table.ipynb>data table notebook</a>'\n",
              "            + ' to learn more about interactive tables.';\n",
              "          element.innerHTML = '';\n",
              "          dataTable['output_type'] = 'display_data';\n",
              "          await google.colab.output.renderOutput(dataTable, element);\n",
              "          const docLink = document.createElement('div');\n",
              "          docLink.innerHTML = docLinkHtml;\n",
              "          element.appendChild(docLink);\n",
              "        }\n",
              "      </script>\n",
              "    </div>\n",
              "  </div>\n",
              "  "
            ]
          },
          "metadata": {},
          "execution_count": 136
        }
      ],
      "source": [
        "themes.head()"
      ]
    },
    {
      "cell_type": "markdown",
      "metadata": {
        "id": "SmTCXWKKIqvQ"
      },
      "source": [
        "### Merging (i.e., Combining) DataFrames based on a Key\n"
      ]
    },
    {
      "cell_type": "code",
      "execution_count": 137,
      "metadata": {
        "id": "esKQULhcIqvR"
      },
      "outputs": [],
      "source": [
        "set_theme_count = sets['theme_id'].value_counts()"
      ]
    },
    {
      "cell_type": "code",
      "execution_count": 138,
      "metadata": {
        "id": "i0LobgIvIqvT"
      },
      "outputs": [],
      "source": [
        "set_theme_count= pd.DataFrame({'id':set_theme_count.index,\n",
        "                                'set_count':set_theme_count.values})"
      ]
    },
    {
      "cell_type": "code",
      "execution_count": 139,
      "metadata": {
        "id": "I7UMP7VXIqvU",
        "colab": {
          "base_uri": "https://localhost:8080/",
          "height": 206
        },
        "outputId": "bef421bb-6568-413f-9924-b715b572682a"
      },
      "outputs": [
        {
          "output_type": "execute_result",
          "data": {
            "text/plain": [
              "    id  set_count\n",
              "0  501       2130\n",
              "1  158        836\n",
              "2  503        612\n",
              "3  497        498\n",
              "4  494        493"
            ],
            "text/html": [
              "\n",
              "  <div id=\"df-a446d6cf-e360-4995-918a-1d6aea633861\">\n",
              "    <div class=\"colab-df-container\">\n",
              "      <div>\n",
              "<style scoped>\n",
              "    .dataframe tbody tr th:only-of-type {\n",
              "        vertical-align: middle;\n",
              "    }\n",
              "\n",
              "    .dataframe tbody tr th {\n",
              "        vertical-align: top;\n",
              "    }\n",
              "\n",
              "    .dataframe thead th {\n",
              "        text-align: right;\n",
              "    }\n",
              "</style>\n",
              "<table border=\"1\" class=\"dataframe\">\n",
              "  <thead>\n",
              "    <tr style=\"text-align: right;\">\n",
              "      <th></th>\n",
              "      <th>id</th>\n",
              "      <th>set_count</th>\n",
              "    </tr>\n",
              "  </thead>\n",
              "  <tbody>\n",
              "    <tr>\n",
              "      <th>0</th>\n",
              "      <td>501</td>\n",
              "      <td>2130</td>\n",
              "    </tr>\n",
              "    <tr>\n",
              "      <th>1</th>\n",
              "      <td>158</td>\n",
              "      <td>836</td>\n",
              "    </tr>\n",
              "    <tr>\n",
              "      <th>2</th>\n",
              "      <td>503</td>\n",
              "      <td>612</td>\n",
              "    </tr>\n",
              "    <tr>\n",
              "      <th>3</th>\n",
              "      <td>497</td>\n",
              "      <td>498</td>\n",
              "    </tr>\n",
              "    <tr>\n",
              "      <th>4</th>\n",
              "      <td>494</td>\n",
              "      <td>493</td>\n",
              "    </tr>\n",
              "  </tbody>\n",
              "</table>\n",
              "</div>\n",
              "      <button class=\"colab-df-convert\" onclick=\"convertToInteractive('df-a446d6cf-e360-4995-918a-1d6aea633861')\"\n",
              "              title=\"Convert this dataframe to an interactive table.\"\n",
              "              style=\"display:none;\">\n",
              "        \n",
              "  <svg xmlns=\"http://www.w3.org/2000/svg\" height=\"24px\"viewBox=\"0 0 24 24\"\n",
              "       width=\"24px\">\n",
              "    <path d=\"M0 0h24v24H0V0z\" fill=\"none\"/>\n",
              "    <path d=\"M18.56 5.44l.94 2.06.94-2.06 2.06-.94-2.06-.94-.94-2.06-.94 2.06-2.06.94zm-11 1L8.5 8.5l.94-2.06 2.06-.94-2.06-.94L8.5 2.5l-.94 2.06-2.06.94zm10 10l.94 2.06.94-2.06 2.06-.94-2.06-.94-.94-2.06-.94 2.06-2.06.94z\"/><path d=\"M17.41 7.96l-1.37-1.37c-.4-.4-.92-.59-1.43-.59-.52 0-1.04.2-1.43.59L10.3 9.45l-7.72 7.72c-.78.78-.78 2.05 0 2.83L4 21.41c.39.39.9.59 1.41.59.51 0 1.02-.2 1.41-.59l7.78-7.78 2.81-2.81c.8-.78.8-2.07 0-2.86zM5.41 20L4 18.59l7.72-7.72 1.47 1.35L5.41 20z\"/>\n",
              "  </svg>\n",
              "      </button>\n",
              "      \n",
              "  <style>\n",
              "    .colab-df-container {\n",
              "      display:flex;\n",
              "      flex-wrap:wrap;\n",
              "      gap: 12px;\n",
              "    }\n",
              "\n",
              "    .colab-df-convert {\n",
              "      background-color: #E8F0FE;\n",
              "      border: none;\n",
              "      border-radius: 50%;\n",
              "      cursor: pointer;\n",
              "      display: none;\n",
              "      fill: #1967D2;\n",
              "      height: 32px;\n",
              "      padding: 0 0 0 0;\n",
              "      width: 32px;\n",
              "    }\n",
              "\n",
              "    .colab-df-convert:hover {\n",
              "      background-color: #E2EBFA;\n",
              "      box-shadow: 0px 1px 2px rgba(60, 64, 67, 0.3), 0px 1px 3px 1px rgba(60, 64, 67, 0.15);\n",
              "      fill: #174EA6;\n",
              "    }\n",
              "\n",
              "    [theme=dark] .colab-df-convert {\n",
              "      background-color: #3B4455;\n",
              "      fill: #D2E3FC;\n",
              "    }\n",
              "\n",
              "    [theme=dark] .colab-df-convert:hover {\n",
              "      background-color: #434B5C;\n",
              "      box-shadow: 0px 1px 3px 1px rgba(0, 0, 0, 0.15);\n",
              "      filter: drop-shadow(0px 1px 2px rgba(0, 0, 0, 0.3));\n",
              "      fill: #FFFFFF;\n",
              "    }\n",
              "  </style>\n",
              "\n",
              "      <script>\n",
              "        const buttonEl =\n",
              "          document.querySelector('#df-a446d6cf-e360-4995-918a-1d6aea633861 button.colab-df-convert');\n",
              "        buttonEl.style.display =\n",
              "          google.colab.kernel.accessAllowed ? 'block' : 'none';\n",
              "\n",
              "        async function convertToInteractive(key) {\n",
              "          const element = document.querySelector('#df-a446d6cf-e360-4995-918a-1d6aea633861');\n",
              "          const dataTable =\n",
              "            await google.colab.kernel.invokeFunction('convertToInteractive',\n",
              "                                                     [key], {});\n",
              "          if (!dataTable) return;\n",
              "\n",
              "          const docLinkHtml = 'Like what you see? Visit the ' +\n",
              "            '<a target=\"_blank\" href=https://colab.research.google.com/notebooks/data_table.ipynb>data table notebook</a>'\n",
              "            + ' to learn more about interactive tables.';\n",
              "          element.innerHTML = '';\n",
              "          dataTable['output_type'] = 'display_data';\n",
              "          await google.colab.output.renderOutput(dataTable, element);\n",
              "          const docLink = document.createElement('div');\n",
              "          docLink.innerHTML = docLinkHtml;\n",
              "          element.appendChild(docLink);\n",
              "        }\n",
              "      </script>\n",
              "    </div>\n",
              "  </div>\n",
              "  "
            ]
          },
          "metadata": {},
          "execution_count": 139
        }
      ],
      "source": [
        "set_theme_count.head()"
      ]
    },
    {
      "cell_type": "code",
      "source": [
        "final_data = pd.merge(set_theme_count, themes, on='id')\n",
        "final_data"
      ],
      "metadata": {
        "id": "WO0mjsPWDyYx",
        "colab": {
          "base_uri": "https://localhost:8080/",
          "height": 424
        },
        "outputId": "6a0e6d90-4905-493a-86d6-cbdfb64ed0dc"
      },
      "execution_count": 145,
      "outputs": [
        {
          "output_type": "execute_result",
          "data": {
            "text/plain": [
              "      id  set_count                   name  parent_id\n",
              "0    501       2130                   Gear        0.0\n",
              "1    158        836              Star Wars        0.0\n",
              "2    503        612              Key Chain      501.0\n",
              "3    497        498                  Books        0.0\n",
              "4    494        493                Friends        0.0\n",
              "..   ...        ...                    ...        ...\n",
              "432  411          1               Legoland        0.0\n",
              "433  215          1                Pirates      207.0\n",
              "434  725          1  Series 23 Minifigures      535.0\n",
              "435  210          1               Belville      207.0\n",
              "436  414          1                 Castle      411.0\n",
              "\n",
              "[437 rows x 4 columns]"
            ],
            "text/html": [
              "\n",
              "  <div id=\"df-2cbaf34c-b622-4e61-8b0d-550f6c49c4b4\">\n",
              "    <div class=\"colab-df-container\">\n",
              "      <div>\n",
              "<style scoped>\n",
              "    .dataframe tbody tr th:only-of-type {\n",
              "        vertical-align: middle;\n",
              "    }\n",
              "\n",
              "    .dataframe tbody tr th {\n",
              "        vertical-align: top;\n",
              "    }\n",
              "\n",
              "    .dataframe thead th {\n",
              "        text-align: right;\n",
              "    }\n",
              "</style>\n",
              "<table border=\"1\" class=\"dataframe\">\n",
              "  <thead>\n",
              "    <tr style=\"text-align: right;\">\n",
              "      <th></th>\n",
              "      <th>id</th>\n",
              "      <th>set_count</th>\n",
              "      <th>name</th>\n",
              "      <th>parent_id</th>\n",
              "    </tr>\n",
              "  </thead>\n",
              "  <tbody>\n",
              "    <tr>\n",
              "      <th>0</th>\n",
              "      <td>501</td>\n",
              "      <td>2130</td>\n",
              "      <td>Gear</td>\n",
              "      <td>0.0</td>\n",
              "    </tr>\n",
              "    <tr>\n",
              "      <th>1</th>\n",
              "      <td>158</td>\n",
              "      <td>836</td>\n",
              "      <td>Star Wars</td>\n",
              "      <td>0.0</td>\n",
              "    </tr>\n",
              "    <tr>\n",
              "      <th>2</th>\n",
              "      <td>503</td>\n",
              "      <td>612</td>\n",
              "      <td>Key Chain</td>\n",
              "      <td>501.0</td>\n",
              "    </tr>\n",
              "    <tr>\n",
              "      <th>3</th>\n",
              "      <td>497</td>\n",
              "      <td>498</td>\n",
              "      <td>Books</td>\n",
              "      <td>0.0</td>\n",
              "    </tr>\n",
              "    <tr>\n",
              "      <th>4</th>\n",
              "      <td>494</td>\n",
              "      <td>493</td>\n",
              "      <td>Friends</td>\n",
              "      <td>0.0</td>\n",
              "    </tr>\n",
              "    <tr>\n",
              "      <th>...</th>\n",
              "      <td>...</td>\n",
              "      <td>...</td>\n",
              "      <td>...</td>\n",
              "      <td>...</td>\n",
              "    </tr>\n",
              "    <tr>\n",
              "      <th>432</th>\n",
              "      <td>411</td>\n",
              "      <td>1</td>\n",
              "      <td>Legoland</td>\n",
              "      <td>0.0</td>\n",
              "    </tr>\n",
              "    <tr>\n",
              "      <th>433</th>\n",
              "      <td>215</td>\n",
              "      <td>1</td>\n",
              "      <td>Pirates</td>\n",
              "      <td>207.0</td>\n",
              "    </tr>\n",
              "    <tr>\n",
              "      <th>434</th>\n",
              "      <td>725</td>\n",
              "      <td>1</td>\n",
              "      <td>Series 23 Minifigures</td>\n",
              "      <td>535.0</td>\n",
              "    </tr>\n",
              "    <tr>\n",
              "      <th>435</th>\n",
              "      <td>210</td>\n",
              "      <td>1</td>\n",
              "      <td>Belville</td>\n",
              "      <td>207.0</td>\n",
              "    </tr>\n",
              "    <tr>\n",
              "      <th>436</th>\n",
              "      <td>414</td>\n",
              "      <td>1</td>\n",
              "      <td>Castle</td>\n",
              "      <td>411.0</td>\n",
              "    </tr>\n",
              "  </tbody>\n",
              "</table>\n",
              "<p>437 rows × 4 columns</p>\n",
              "</div>\n",
              "      <button class=\"colab-df-convert\" onclick=\"convertToInteractive('df-2cbaf34c-b622-4e61-8b0d-550f6c49c4b4')\"\n",
              "              title=\"Convert this dataframe to an interactive table.\"\n",
              "              style=\"display:none;\">\n",
              "        \n",
              "  <svg xmlns=\"http://www.w3.org/2000/svg\" height=\"24px\"viewBox=\"0 0 24 24\"\n",
              "       width=\"24px\">\n",
              "    <path d=\"M0 0h24v24H0V0z\" fill=\"none\"/>\n",
              "    <path d=\"M18.56 5.44l.94 2.06.94-2.06 2.06-.94-2.06-.94-.94-2.06-.94 2.06-2.06.94zm-11 1L8.5 8.5l.94-2.06 2.06-.94-2.06-.94L8.5 2.5l-.94 2.06-2.06.94zm10 10l.94 2.06.94-2.06 2.06-.94-2.06-.94-.94-2.06-.94 2.06-2.06.94z\"/><path d=\"M17.41 7.96l-1.37-1.37c-.4-.4-.92-.59-1.43-.59-.52 0-1.04.2-1.43.59L10.3 9.45l-7.72 7.72c-.78.78-.78 2.05 0 2.83L4 21.41c.39.39.9.59 1.41.59.51 0 1.02-.2 1.41-.59l7.78-7.78 2.81-2.81c.8-.78.8-2.07 0-2.86zM5.41 20L4 18.59l7.72-7.72 1.47 1.35L5.41 20z\"/>\n",
              "  </svg>\n",
              "      </button>\n",
              "      \n",
              "  <style>\n",
              "    .colab-df-container {\n",
              "      display:flex;\n",
              "      flex-wrap:wrap;\n",
              "      gap: 12px;\n",
              "    }\n",
              "\n",
              "    .colab-df-convert {\n",
              "      background-color: #E8F0FE;\n",
              "      border: none;\n",
              "      border-radius: 50%;\n",
              "      cursor: pointer;\n",
              "      display: none;\n",
              "      fill: #1967D2;\n",
              "      height: 32px;\n",
              "      padding: 0 0 0 0;\n",
              "      width: 32px;\n",
              "    }\n",
              "\n",
              "    .colab-df-convert:hover {\n",
              "      background-color: #E2EBFA;\n",
              "      box-shadow: 0px 1px 2px rgba(60, 64, 67, 0.3), 0px 1px 3px 1px rgba(60, 64, 67, 0.15);\n",
              "      fill: #174EA6;\n",
              "    }\n",
              "\n",
              "    [theme=dark] .colab-df-convert {\n",
              "      background-color: #3B4455;\n",
              "      fill: #D2E3FC;\n",
              "    }\n",
              "\n",
              "    [theme=dark] .colab-df-convert:hover {\n",
              "      background-color: #434B5C;\n",
              "      box-shadow: 0px 1px 3px 1px rgba(0, 0, 0, 0.15);\n",
              "      filter: drop-shadow(0px 1px 2px rgba(0, 0, 0, 0.3));\n",
              "      fill: #FFFFFF;\n",
              "    }\n",
              "  </style>\n",
              "\n",
              "      <script>\n",
              "        const buttonEl =\n",
              "          document.querySelector('#df-2cbaf34c-b622-4e61-8b0d-550f6c49c4b4 button.colab-df-convert');\n",
              "        buttonEl.style.display =\n",
              "          google.colab.kernel.accessAllowed ? 'block' : 'none';\n",
              "\n",
              "        async function convertToInteractive(key) {\n",
              "          const element = document.querySelector('#df-2cbaf34c-b622-4e61-8b0d-550f6c49c4b4');\n",
              "          const dataTable =\n",
              "            await google.colab.kernel.invokeFunction('convertToInteractive',\n",
              "                                                     [key], {});\n",
              "          if (!dataTable) return;\n",
              "\n",
              "          const docLinkHtml = 'Like what you see? Visit the ' +\n",
              "            '<a target=\"_blank\" href=https://colab.research.google.com/notebooks/data_table.ipynb>data table notebook</a>'\n",
              "            + ' to learn more about interactive tables.';\n",
              "          element.innerHTML = '';\n",
              "          dataTable['output_type'] = 'display_data';\n",
              "          await google.colab.output.renderOutput(dataTable, element);\n",
              "          const docLink = document.createElement('div');\n",
              "          docLink.innerHTML = docLinkHtml;\n",
              "          element.appendChild(docLink);\n",
              "        }\n",
              "      </script>\n",
              "    </div>\n",
              "  </div>\n",
              "  "
            ]
          },
          "metadata": {},
          "execution_count": 145
        }
      ]
    },
    {
      "cell_type": "code",
      "source": [
        "plt.figure(figsize=(16,8))\n",
        "plt.xticks(fontsize=14,rotation=45)\n",
        "plt.yticks(fontsize=14)\n",
        "plt.ylabel('Number of Sets', fontsize=14)\n",
        "plt.xlabel('Theme Name', fontsize=14)\n",
        "plt.bar(final_data['name'][:10], final_data['set_count'][:10],color= [\"#9e0142\",\"#d53e4f\",\"#f46d43\",\"#fdae61\",\"#fee08b\",\"#e6f598\",\"#abdda4\",\"#66c2a5\",\"#3288bd\",\"#5e4fa2\"]\n",
        "\n",
        ")"
      ],
      "metadata": {
        "colab": {
          "base_uri": "https://localhost:8080/",
          "height": 600
        },
        "id": "BOQBqOJyE5OK",
        "outputId": "21dccad1-23dd-4624-b3fe-c3a5f805ec46"
      },
      "execution_count": 144,
      "outputs": [
        {
          "output_type": "execute_result",
          "data": {
            "text/plain": [
              "<BarContainer object of 10 artists>"
            ]
          },
          "metadata": {},
          "execution_count": 144
        },
        {
          "output_type": "display_data",
          "data": {
            "text/plain": [
              "<Figure size 1152x576 with 1 Axes>"
            ],
            "image/png": "[encoded data removed]"
          },
          "metadata": {
            "needs_background": "light"
          }
        }
      ]
    },
    {
      "cell_type": "markdown",
      "source": [
        "**Answer:**\n",
        "<img src=\"data:image/png;base64,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\">"
      ],
      "metadata": {
        "id": "HG9JDXGHbMVq"
      }
    },
    {
      "cell_type": "code",
      "source": [
        ""
      ],
      "metadata": {
        "id": "Of81I_FDbQNF"
      },
      "execution_count": null,
      "outputs": []
    }
  ],
  "metadata": {
    "colab": {
      "collapsed_sections": [
        "SmTCXWKKIqvQ"
      ],
      "name": "LEGO-data_analysis.ipynb",
      "provenance": [],
      "include_colab_link": true
    },
    "kernelspec": {
      "display_name": "Python 3",
      "language": "python",
      "name": "python3"
    },
    "language_info": {
      "codemirror_mode": {
        "name": "ipython",
        "version": 3
      },
      "file_extension": ".py",
      "mimetype": "text/x-python",
      "name": "python",
      "nbconvert_exporter": "python",
      "pygments_lexer": "ipython3",
      "version": "3.7.3"
    }
  },
  "nbformat": 4,
  "nbformat_minor": 0
}